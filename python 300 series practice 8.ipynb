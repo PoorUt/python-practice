{
 "cells": [
  {
   "cell_type": "code",
   "execution_count": 3,
   "metadata": {},
   "outputs": [
    {
     "name": "stdout",
     "output_type": "stream",
     "text": [
      "enter the first number3\n",
      "enter the last number9\n",
      "3\n",
      "4\n",
      "5\n",
      "6\n",
      "7\n",
      "8\n",
      "9\n"
     ]
    }
   ],
   "source": [
    "#task 43: if user enters first number 5 and last number 10 then the code should print all numbers 5 to 10\n",
    "x = int(input('enter the first number'))\n",
    "y = int(input('enter the last number'))\n",
    "\n",
    "for i in range(x,y+1):\n",
    "    print(i)"
   ]
  },
  {
   "cell_type": "code",
   "execution_count": 15,
   "metadata": {},
   "outputs": [
    {
     "name": "stdout",
     "output_type": "stream",
     "text": [
      "4\n",
      "8\n",
      "12\n",
      "16\n",
      "20\n",
      "24\n",
      "28\n",
      "32\n",
      "36\n",
      "40\n",
      "44\n",
      "48\n",
      "52\n",
      "56\n",
      "60\n",
      "64\n",
      "68\n",
      "72\n",
      "76\n",
      "80\n",
      "84\n",
      "88\n",
      "92\n",
      "96\n"
     ]
    }
   ],
   "source": [
    "# display 1 to 100 with 4 number difference\n",
    "for i in range (1,25):\n",
    "    print(4*i)"
   ]
  },
  {
   "cell_type": "code",
   "execution_count": 17,
   "metadata": {},
   "outputs": [
    {
     "name": "stdout",
     "output_type": "stream",
     "text": [
      "1\n",
      "5\n",
      "9\n",
      "13\n",
      "17\n",
      "21\n",
      "25\n",
      "29\n",
      "33\n",
      "37\n",
      "41\n",
      "45\n",
      "49\n",
      "53\n",
      "57\n",
      "61\n",
      "65\n",
      "69\n",
      "73\n",
      "77\n",
      "81\n",
      "85\n",
      "89\n",
      "93\n",
      "97\n"
     ]
    }
   ],
   "source": [
    "for i in range(1,100,4):\n",
    "    print(i)"
   ]
  },
  {
   "cell_type": "code",
   "execution_count": 27,
   "metadata": {},
   "outputs": [
    {
     "name": "stdout",
     "output_type": "stream",
     "text": [
      "enter a number48\n",
      "enter a number67\n",
      "largest is 67\n",
      "smallest is  48\n",
      "66\n",
      "65\n",
      "64\n",
      "63\n",
      "62\n",
      "61\n",
      "60\n",
      "59\n",
      "58\n",
      "57\n",
      "56\n",
      "55\n",
      "54\n",
      "53\n",
      "52\n",
      "51\n",
      "50\n",
      "49\n",
      "48\n"
     ]
    }
   ],
   "source": [
    "#task 44:user input 10 and 5, then display all numbers from 10 to 5\n",
    "x = int(input('enter a number'))\n",
    "y = int(input('enter a number'))\n",
    "z = max(x,y)\n",
    "p = min(x,y)\n",
    "print('largest is', z)\n",
    "print('smallest is ', p)\n",
    "n = reversed(range(p,z))\n",
    "for i in (n):\n",
    "    print(i)"
   ]
  },
  {
   "cell_type": "code",
   "execution_count": 31,
   "metadata": {},
   "outputs": [
    {
     "name": "stdout",
     "output_type": "stream",
     "text": [
      "enter a number23\n",
      "enter a number15\n",
      "largest is 23\n",
      "smallest is  15\n",
      "23\n",
      "22\n",
      "21\n",
      "20\n",
      "19\n",
      "18\n",
      "17\n",
      "16\n",
      "15\n"
     ]
    }
   ],
   "source": [
    "# the above task can also be done as follows.\n",
    "x = int(input('enter a number'))\n",
    "y = int(input('enter a number'))\n",
    "z = max(x,y)\n",
    "p = min(x,y)\n",
    "print('largest is', z)\n",
    "print('smallest is ', p)\n",
    "for i in range(z,p-1,-1):\n",
    "    print(i)"
   ]
  },
  {
   "cell_type": "code",
   "execution_count": 40,
   "metadata": {},
   "outputs": [
    {
     "name": "stdout",
     "output_type": "stream",
     "text": [
      "enter a number1\n",
      "enter another number30\n",
      "1\n",
      "3\n",
      "5\n",
      "7\n",
      "9\n",
      "11\n",
      "13\n",
      "15\n",
      "17\n",
      "19\n",
      "21\n",
      "23\n",
      "25\n",
      "27\n",
      "29\n"
     ]
    }
   ],
   "source": [
    "# task 45: display number from 1 to 30. only odd numbers\n",
    "x = int(input('enter a number'))\n",
    "y = int(input('enter another number'))\n",
    "\n",
    "for i in range(x,y,2):\n",
    "    print(i)"
   ]
  },
  {
   "cell_type": "code",
   "execution_count": 42,
   "metadata": {},
   "outputs": [
    {
     "name": "stdout",
     "output_type": "stream",
     "text": [
      "enter a number5\n",
      "enter another number20\n",
      "5\n",
      "7\n",
      "9\n",
      "11\n",
      "13\n",
      "15\n",
      "17\n",
      "19\n"
     ]
    }
   ],
   "source": [
    "x = int(input('enter a number'))\n",
    "y = int(input('enter another number'))\n",
    "\n",
    "for i in range(x,y):\n",
    "    if i%2!=0:\n",
    "        print(i)\n",
    "    else:\n",
    "        pass"
   ]
  },
  {
   "cell_type": "code",
   "execution_count": 46,
   "metadata": {},
   "outputs": [
    {
     "name": "stdout",
     "output_type": "stream",
     "text": [
      "2\n",
      "4\n",
      "6\n",
      "8\n",
      "10\n",
      "12\n",
      "14\n",
      "16\n",
      "18\n",
      "20\n",
      "22\n",
      "24\n",
      "26\n",
      "28\n",
      "30\n"
     ]
    }
   ],
   "source": [
    "# write a python program to display numbers from 1 to 30 only even numbers\n",
    "for i in range(1,31):\n",
    "    if i%2==0:\n",
    "        print(i)"
   ]
  },
  {
   "cell_type": "code",
   "execution_count": 55,
   "metadata": {},
   "outputs": [
    {
     "name": "stdout",
     "output_type": "stream",
     "text": [
      "enter your name: Utkal\n",
      "enter subject marks: 23\n",
      "enter subject marks: 21\n",
      "enter subject marks: 22\n",
      "enter subject marks: 23\n",
      "enter subject marks: 24\n",
      "your total mark is 113\n"
     ]
    }
   ],
   "source": [
    "# task 46: get 5 subject marks from user and then store them to array\n",
    "# also get student name, find total and also get each subject's mark\n",
    "#the 5 subjects are english, math, ai, physics, computer\n",
    "\n",
    "import array as arr\n",
    "user = input('enter your name: ')\n",
    "a= arr.array('i',[])\n",
    "for i in range(5):\n",
    "       a.append(int(input('enter subject marks: ')))\n",
    "total = 0\n",
    "for i in range(5):\n",
    "    total = total+a[i]\n",
    "print('your total mark is', total)"
   ]
  },
  {
   "cell_type": "code",
   "execution_count": 73,
   "metadata": {},
   "outputs": [
    {
     "name": "stdout",
     "output_type": "stream",
     "text": [
      "enter a number: 23\n",
      "enter another number: 21\n",
      " x square is : 529\n",
      "y square is :  441\n",
      "the sum of x sq and y sq is:  970\n"
     ]
    }
   ],
   "source": [
    "# task 47:get two numbers from user, find their square, and then add the two numbers and display the result\n",
    "\n",
    "x= int(input('enter a number: '))\n",
    "y= int(input('enter another number: '))\n",
    "i = x*x\n",
    "j = y*y\n",
    "print(' x square is :', i)\n",
    "print('y square is : ', j)\n",
    "print('the sum of x sq and y sq is: ', i+j)\n"
   ]
  },
  {
   "cell_type": "code",
   "execution_count": 79,
   "metadata": {},
   "outputs": [
    {
     "name": "stdout",
     "output_type": "stream",
     "text": [
      "enter a value2\n",
      "enter a value3\n",
      "x= 2\n",
      "y= 3\n",
      "x= 3\n",
      "y= 2\n"
     ]
    }
   ],
   "source": [
    "# task 48: get two values from user, swap both values and display the new values\n",
    "\n",
    "x = int(input('enter a value'))\n",
    "y = int(input('enter a value'))\n",
    "z=x\n",
    "print('x=',x)\n",
    "print('y=',y)\n",
    "x=y\n",
    "y=z\n",
    "print('x=',x)\n",
    "print('y=',y)"
   ]
  },
  {
   "cell_type": "code",
   "execution_count": 81,
   "metadata": {},
   "outputs": [
    {
     "name": "stdout",
     "output_type": "stream",
     "text": [
      "enter how many hours: 3\n",
      "3  hour is  10800 seconds\n"
     ]
    }
   ],
   "source": [
    "#49: convert hour to seconds\n",
    "h = int(input('enter how many hours: '))\n",
    "s = 3600*h\n",
    "print(h, ' hour is ', s, 'seconds')\n",
    "# similarly, we can convert seconds to hours."
   ]
  },
  {
   "cell_type": "code",
   "execution_count": 95,
   "metadata": {},
   "outputs": [
    {
     "name": "stdout",
     "output_type": "stream",
     "text": [
      "enter the measure of the base: 3\n",
      "enter the measure of the height: 4\n",
      "area is 6.0\n"
     ]
    }
   ],
   "source": [
    "#task 50: find area of a triangle using 1/2*base*height and s(s-a)(s-b)(s-c)\n",
    "base = float(input('enter the measure of the base: '))\n",
    "height = float(input('enter the measure of the height: '))\n",
    "area = (1/2)*(base*height)\n",
    "print('area is', area)"
   ]
  },
  {
   "cell_type": "code",
   "execution_count": 88,
   "metadata": {},
   "outputs": [
    {
     "name": "stdout",
     "output_type": "stream",
     "text": [
      "enter base3\n",
      "enter height4\n",
      "6.0\n"
     ]
    }
   ],
   "source": [
    "b= int(input('enter base'))\n",
    "h=int(input('enter height'))\n",
    "a=(b*h)/2\n",
    "print(a)"
   ]
  },
  {
   "cell_type": "code",
   "execution_count": 101,
   "metadata": {},
   "outputs": [
    {
     "name": "stdout",
     "output_type": "stream",
     "text": [
      "enter the value of side a: 3\n",
      "enter the value of side b: 4\n",
      "enter the value of side c: 5\n",
      "area is:  6.0\n"
     ]
    }
   ],
   "source": [
    "import math\n",
    "a = float(input('enter the value of side a: '))\n",
    "b = float(input('enter the value of side b: '))\n",
    "c = float(input('enter the value of side c: '))\n",
    "s = (a+b+c)/2\n",
    "A = math.sqrt(s*(s-a)*(s-b)*(s-c))\n",
    "print('area is: ',A)"
   ]
  },
  {
   "cell_type": "code",
   "execution_count": 102,
   "metadata": {},
   "outputs": [
    {
     "name": "stdout",
     "output_type": "stream",
     "text": [
      "enter the value of side a: 3\n",
      "enter the value of side b: 4\n",
      "enter the value of side c: 5\n",
      "area is:  6.0\n",
      "enter a number2\n",
      "10.0\n"
     ]
    }
   ],
   "source": [
    "import math\n",
    "a = float(input('enter the value of side a: '))\n",
    "b = float(input('enter the value of side b: '))\n",
    "c = float(input('enter the value of side c: '))\n",
    "s = (a+b+c)/2\n",
    "A = math.sqrt(s*(s-a)*(s-b)*(s-c))\n",
    "print('area is: ',A)\n",
    "num = float(input('enter a number'))\n",
    "z = num*num\n",
    "print(A+z)"
   ]
  },
  {
   "cell_type": "code",
   "execution_count": 108,
   "metadata": {},
   "outputs": [
    {
     "name": "stdout",
     "output_type": "stream",
     "text": [
      "enter first date05/25/2000\n",
      "enter second date07/25/2001\n",
      "426\n"
     ]
    }
   ],
   "source": [
    "#task 51: write a code to find the number of days between two dates\n",
    "from datetime import datetime\n",
    "date_1 = input('enter first date')\n",
    "date_2 = input('enter second date')\n",
    "date_format = \"%m/%d/%Y\"\n",
    "d1=datetime.strptime(date_1, date_format)\n",
    "d2=datetime.strptime(date_2, date_format)\n",
    "diff = d2-d1\n",
    "print(diff.days)"
   ]
  },
  {
   "cell_type": "code",
   "execution_count": null,
   "metadata": {},
   "outputs": [],
   "source": []
  }
 ],
 "metadata": {
  "kernelspec": {
   "display_name": "Python 3",
   "language": "python",
   "name": "python3"
  },
  "language_info": {
   "codemirror_mode": {
    "name": "ipython",
    "version": 3
   },
   "file_extension": ".py",
   "mimetype": "text/x-python",
   "name": "python",
   "nbconvert_exporter": "python",
   "pygments_lexer": "ipython3",
   "version": "3.8.5"
  }
 },
 "nbformat": 4,
 "nbformat_minor": 4
}
