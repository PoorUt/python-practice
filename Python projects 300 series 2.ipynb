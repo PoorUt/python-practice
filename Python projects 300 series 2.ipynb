{
 "cells": [
  {
   "cell_type": "code",
   "execution_count": 12,
   "metadata": {},
   "outputs": [
    {
     "name": "stdout",
     "output_type": "stream",
     "text": [
      "{1, 2, 3, 4, 5, 6, 7, 8, 9, 10, 13, 15, 17, 19}\n"
     ]
    }
   ],
   "source": [
    "#Task 6: Write a program to calculate the union of two sets\n",
    "A= {1,2,3,4,4,5,8,9,5}\n",
    "B= {6,7,8,3,4,2,9,10}\n",
    "C = {2, 5,7, 9,13, 15, 17, 19}\n",
    "z = A.union(B, C)\n",
    "print(z)"
   ]
  },
  {
   "cell_type": "code",
   "execution_count": 16,
   "metadata": {},
   "outputs": [
    {
     "name": "stdout",
     "output_type": "stream",
     "text": [
      "{12, 14, 16, 18, 20, 22, 24, 25, 26, 27, 28, 29, 30}\n"
     ]
    }
   ],
   "source": [
    "x = {22,24,22, 12, 12, 26, 26,28,29}\n",
    "y = {22, 24, 25, 26, 27}\n",
    "z = {12, 14, 16, 18, 20, 22, 24, 26, 28, 30}\n",
    "p = x.union(y,z)\n",
    "print(p)"
   ]
  },
  {
   "cell_type": "code",
   "execution_count": 24,
   "metadata": {},
   "outputs": [
    {
     "name": "stdout",
     "output_type": "stream",
     "text": [
      "{24, 26, 12, 22} {12, 13, 22, 24, 26}\n"
     ]
    }
   ],
   "source": [
    "#task 7: write a program to find the intersection of two sets\n",
    "x = {22,24,22, 12, 12, 26, 26,28,29}\n",
    "y = {22, 24, 25,12,13, 26, 27}\n",
    "z = {12, 14, 16,12, 18,13, 20, 22, 24, 26, 28, 30}\n",
    "p = x.intersection(y,z)\n",
    "q = y.intersection(z)\n",
    "print(p,q)"
   ]
  },
  {
   "cell_type": "code",
   "execution_count": 27,
   "metadata": {},
   "outputs": [
    {
     "name": "stdout",
     "output_type": "stream",
     "text": [
      "{2, 3, 4, 8, 9}\n",
      "{9, 2, 7}\n",
      "{9, 2}\n"
     ]
    }
   ],
   "source": [
    "A= {1,2,3,4,4,5,8,9,5}\n",
    "B= {6,7,8,3,4,2,9,10}\n",
    "C = {2, 5,7, 9,13, 15, 17, 19}\n",
    "m = A.intersection(B)\n",
    "n = B.intersection(C)\n",
    "o = A.intersection(B,C)\n",
    "print(m)\n",
    "print(n)\n",
    "print(o)"
   ]
  },
  {
   "cell_type": "code",
   "execution_count": 35,
   "metadata": {},
   "outputs": [
    {
     "name": "stdout",
     "output_type": "stream",
     "text": [
      "{2, 3, 4, 8, 9}\n",
      "{10, 6, 7}\n",
      "{10, 6, 7}\n",
      "{1, 5}\n",
      "{1}\n"
     ]
    }
   ],
   "source": [
    "#task 8 Write a code to find the difference between two sets\n",
    "A= {1,2,3,4,4,5,8,9,5}\n",
    "B= {6,7,8,3,4,2,9,10}\n",
    "C = {2, 5,7, 9,13, 15, 17, 19}\n",
    "print(A.intersection(B))\n",
    "print(B-A)              #(B-A also works)\n",
    "print(B.difference(A)) #(use the difference command/operator)\n",
    "print(A-B)\n",
    "print(A-B-C)"
   ]
  },
  {
   "cell_type": "code",
   "execution_count": 38,
   "metadata": {},
   "outputs": [
    {
     "name": "stdout",
     "output_type": "stream",
     "text": [
      "{2, 3, 4, 8, 9}\n",
      "{1, 5, 6, 7, 10}\n"
     ]
    }
   ],
   "source": [
    "#write the symmetric difference between two sets\n",
    "A= {1,2,3,4,4,5,8,9,5}\n",
    "B= {6,7,8,3,4,2,9,10}\n",
    "p = A.intersection(B)\n",
    "z = A.symmetric_difference(B)\n",
    "print(p)\n",
    "print(z)"
   ]
  },
  {
   "cell_type": "code",
   "execution_count": 42,
   "metadata": {},
   "outputs": [
    {
     "name": "stdout",
     "output_type": "stream",
     "text": [
      "enter a number6\n",
      "0 * 6 = 0\n",
      "1 * 6 = 6\n",
      "2 * 6 = 12\n",
      "3 * 6 = 18\n",
      "4 * 6 = 24\n",
      "5 * 6 = 30\n",
      "6 * 6 = 36\n",
      "7 * 6 = 42\n",
      "8 * 6 = 48\n",
      "9 * 6 = 54\n",
      "10 * 6 = 60\n"
     ]
    }
   ],
   "source": [
    "# task 9: Write a coe to get the number from the user and then display the multiplication table for that number using loop structure\n",
    "x = int(input('enter a number'))\n",
    "for i in range(11):\n",
    "    z = i*x\n",
    "    print(i, '*', x, '=', z)"
   ]
  },
  {
   "cell_type": "code",
   "execution_count": 53,
   "metadata": {},
   "outputs": [
    {
     "name": "stdout",
     "output_type": "stream",
     "text": [
      "enter a number10\n",
      "enter another number11\n",
      "0 * 10 = 0\n",
      "1 * 10 = 10\n",
      "2 * 10 = 20\n",
      "3 * 10 = 30\n",
      "4 * 10 = 40\n",
      "5 * 10 = 50\n",
      "6 * 10 = 60\n",
      "7 * 10 = 70\n",
      "8 * 10 = 80\n",
      "9 * 10 = 90\n",
      "10 * 10 = 100\n",
      "  \n",
      "0 * 11 = 0\n",
      "1 * 11 = 11\n",
      "2 * 11 = 22\n",
      "3 * 11 = 33\n",
      "4 * 11 = 44\n",
      "5 * 11 = 55\n",
      "6 * 11 = 66\n",
      "7 * 11 = 77\n",
      "8 * 11 = 88\n",
      "9 * 11 = 99\n",
      "10 * 11 = 110\n"
     ]
    }
   ],
   "source": [
    "# now lets try the same for two numbers\n",
    "\n",
    "x = int(input('enter a number'))\n",
    "y = int(input('enter another number'))\n",
    "for i in range(11):\n",
    "    z = i*x\n",
    "    print(i, '*', x, '=', z)\n",
    "print (\"  \")\n",
    "for i in range(11):\n",
    "    z = i*y\n",
    "    print(i, '*', y, '=', z)"
   ]
  },
  {
   "cell_type": "code",
   "execution_count": 56,
   "metadata": {},
   "outputs": [
    {
     "name": "stdout",
     "output_type": "stream",
     "text": [
      "enter the marks of the 1st subject32.5\n",
      "enter the marks of the 2nd subject33.5\n",
      "enter the marks of the 3rd subject34\n",
      "enter the marks of the 4th subject35\n",
      "enter the marks of the 5th subject31.5\n",
      "enter the marks of the 6th subject33\n",
      "the total is  199.5\n",
      "the percentage for sub_1 is 92.85714285714286\n",
      "the percentage for sub_2 is 95.71428571428572\n",
      "the percentage for sub_3 is 97.14285714285714\n",
      "the percentage for sub_4 is 100.0\n",
      "the percentage for sub_5 is 90.0\n",
      "the percentage for sub_6 is 94.28571428571428\n",
      "the average is 33.25\n"
     ]
    }
   ],
   "source": [
    "# task 10: Write a code to get 6 subject marks from the user and calculate total and average\n",
    "# of all the marks and display to user\n",
    "sub_1= float(input('enter the marks of the 1st subject'))\n",
    "sub_2= float(input('enter the marks of the 2nd subject'))\n",
    "sub_3= float(input('enter the marks of the 3rd subject'))\n",
    "sub_4= float(input('enter the marks of the 4th subject'))\n",
    "sub_5= float(input('enter the marks of the 5th subject'))\n",
    "sub_6= float(input('enter the marks of the 6th subject'))\n",
    "full_mark = 35\n",
    "percentage_1 = (sub_1/full_mark)*100\n",
    "percentage_2 = (sub_2/full_mark)*100\n",
    "percentage_3 = (sub_3/full_mark)*100\n",
    "percentage_4 =(sub_4/full_mark)*100\n",
    "percentage_5 =(sub_5/full_mark)*100\n",
    "percentage_6 = (sub_6/full_mark)*100\n",
    "Total = (sub_1+sub_2+sub_3+sub_4+sub_5+sub_6)\n",
    "average = (Total/6)\n",
    "print('the total is ', Total)\n",
    "print('the percentage for sub_1 is', percentage_1)\n",
    "print('the percentage for sub_2 is', percentage_2)\n",
    "print('the percentage for sub_3 is', percentage_3)\n",
    "print('the percentage for sub_4 is', percentage_4)\n",
    "print('the percentage for sub_5 is', percentage_5)\n",
    "print('the percentage for sub_6 is', percentage_6)\n",
    "print('the average is', average)\n",
    "\n"
   ]
  },
  {
   "cell_type": "code",
   "execution_count": null,
   "metadata": {},
   "outputs": [],
   "source": []
  }
 ],
 "metadata": {
  "kernelspec": {
   "display_name": "Python 3",
   "language": "python",
   "name": "python3"
  },
  "language_info": {
   "codemirror_mode": {
    "name": "ipython",
    "version": 3
   },
   "file_extension": ".py",
   "mimetype": "text/x-python",
   "name": "python",
   "nbconvert_exporter": "python",
   "pygments_lexer": "ipython3",
   "version": "3.8.5"
  }
 },
 "nbformat": 4,
 "nbformat_minor": 4
}
