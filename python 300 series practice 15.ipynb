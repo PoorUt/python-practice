{
 "cells": [
  {
   "cell_type": "code",
   "execution_count": 5,
   "metadata": {},
   "outputs": [
    {
     "name": "stdout",
     "output_type": "stream",
     "text": [
      "enter the number of items you want in a list2\n",
      "enter a number12\n",
      "enter a number12\n",
      "[12, 12]\n",
      "24\n"
     ]
    }
   ],
   "source": [
    "#task 81: sum of the 1st and last number in a list\n",
    "lst = []\n",
    "n = int(input('enter the number of items you want in a list'))\n",
    "for i in range(n):\n",
    "    lst.append(int(input('enter a number')))\n",
    "print(lst)\n",
    "sum = lst[0]+lst[-1]\n",
    "print(sum)"
   ]
  },
  {
   "cell_type": "code",
   "execution_count": 11,
   "metadata": {},
   "outputs": [
    {
     "name": "stdout",
     "output_type": "stream",
     "text": [
      "enter the number of items you want in a list5\n",
      "enter a person namefan\n",
      "enter a person namefin\n",
      "enter a person namebob\n",
      "enter a person nameFanz\n",
      "enter a person namefaiz\n",
      "['fan', 'fin', 'bob', 'Fanz', 'faiz']\n",
      "['fan', 'fin', 'Fanz', 'faiz']\n"
     ]
    }
   ],
   "source": [
    "#task 82: get list item if name starts from'f' or 'F'\n",
    "lst = []\n",
    "lst2= []\n",
    "n = int(input('enter the number of items you want in a list'))\n",
    "for i in range(n):\n",
    "    lst.append(input('enter a person name'))\n",
    "print(lst)\n",
    "for i in lst:\n",
    "    if (i.startswith('f')):\n",
    "        lst2.append(i)\n",
    "    elif (i.startswith('F')):\n",
    "        lst2.append(i)\n",
    "    else:\n",
    "        pass\n",
    "print(lst2)"
   ]
  },
  {
   "cell_type": "code",
   "execution_count": 12,
   "metadata": {},
   "outputs": [
    {
     "name": "stdout",
     "output_type": "stream",
     "text": [
      "enter the number of items you want in a list5\n",
      "enter a person namesaf\n",
      "enter a person namedaf\n",
      "enter a person namegaF\n",
      "enter a person namebob\n",
      "enter a person namejon\n",
      "['saf', 'daf', 'gaF', 'bob', 'jon']\n",
      "['saf', 'daf', 'gaF']\n"
     ]
    }
   ],
   "source": [
    "lst = []\n",
    "lst2= []\n",
    "n = int(input('enter the number of items you want in a list'))\n",
    "for i in range(n):\n",
    "    lst.append(input('enter a person name'))\n",
    "print(lst)\n",
    "for i in lst:\n",
    "    if (i.endswith('f')):\n",
    "        lst2.append(i)\n",
    "    elif (i.endswith('F')):\n",
    "        lst2.append(i)\n",
    "    else:\n",
    "        pass\n",
    "print(lst2)"
   ]
  },
  {
   "cell_type": "code",
   "execution_count": 17,
   "metadata": {},
   "outputs": [
    {
     "name": "stdout",
     "output_type": "stream",
     "text": [
      "enter the name you want in a listmahapatra\n",
      "MAHAPATRA\n"
     ]
    }
   ],
   "source": [
    "#task 84: get a name from user. wheteher the name in upper casethe convert to upper case\n",
    "n = input('enter the name you want in a list')\n",
    "if (n.isupper())==True:\n",
    "    print('name is already in upper case')\n",
    "    print(n)\n",
    "else:\n",
    "    n=n.upper()\n",
    "    print(n)"
   ]
  },
  {
   "cell_type": "code",
   "execution_count": 19,
   "metadata": {},
   "outputs": [
    {
     "name": "stdout",
     "output_type": "stream",
     "text": [
      "enter the name you want in a listhello\n",
      "name is already in lower case\n",
      "hello\n"
     ]
    }
   ],
   "source": [
    "n = input('enter the name you want in a list')\n",
    "if (n.islower())==True:\n",
    "    print('name is already in lower case')\n",
    "    print(n)\n",
    "else:\n",
    "    n=n.lower()\n",
    "    print(n)"
   ]
  },
  {
   "cell_type": "code",
   "execution_count": 26,
   "metadata": {},
   "outputs": [
    {
     "name": "stdout",
     "output_type": "stream",
     "text": [
      "enter the number of names you want in a list3\n",
      "enter a namejon\n",
      "enter a namebon\n",
      "enter a namekat\n",
      "['jon', 'bon', 'kat']\n",
      "['jon', 'bon']\n"
     ]
    }
   ],
   "source": [
    "#task 85: Fetch names from a list that end  with 'n'\n",
    "lst = []\n",
    "last2 = []\n",
    "n = int(input('enter the number of names you want in a list'))\n",
    "for i in range(n):\n",
    "    lst.append(input('enter a name'))\n",
    "print(lst)\n",
    "for i in lst:\n",
    "    if (i.endswith('n')):\n",
    "        last2.append(i)\n",
    "    else:\n",
    "        pass\n",
    "print(last2)"
   ]
  },
  {
   "cell_type": "code",
   "execution_count": 27,
   "metadata": {},
   "outputs": [
    {
     "name": "stdout",
     "output_type": "stream",
     "text": [
      "enter a sentenceHello manohar. How was your day yesterdey?\n",
      "H\n",
      "e\n",
      "l\n",
      "l\n",
      "o\n",
      " \n",
      "m\n",
      "a\n",
      "n\n",
      "o\n",
      "h\n"
     ]
    }
   ],
   "source": [
    "#87: get a sentence from user and display only 10 characters.\n",
    "s = input('enter a sentence')\n",
    "l = len(s)\n",
    "for i in range(l):\n",
    "    if i <=10:\n",
    "        print(s[i])\n",
    "    else:\n",
    "        pass"
   ]
  },
  {
   "cell_type": "code",
   "execution_count": 30,
   "metadata": {},
   "outputs": [
    {
     "ename": "SyntaxError",
     "evalue": "invalid syntax (<ipython-input-30-d10834a12dc6>, line 2)",
     "output_type": "error",
     "traceback": [
      "\u001b[1;36m  File \u001b[1;32m\"<ipython-input-30-d10834a12dc6>\"\u001b[1;36m, line \u001b[1;32m2\u001b[0m\n\u001b[1;33m    print(s[slice(:11)])\u001b[0m\n\u001b[1;37m                  ^\u001b[0m\n\u001b[1;31mSyntaxError\u001b[0m\u001b[1;31m:\u001b[0m invalid syntax\n"
     ]
    }
   ],
   "source": [
    "s = input('enter a sentence')\n",
    "print(s[slice(0,11)])"
   ]
  },
  {
   "cell_type": "code",
   "execution_count": 32,
   "metadata": {},
   "outputs": [
    {
     "name": "stdout",
     "output_type": "stream",
     "text": [
      "enter a sentencehello manohar. how are you today?\n",
      "ar. how are you today?\n"
     ]
    }
   ],
   "source": [
    "s = input('enter a sentence') #print except the first 10 character\n",
    "print(s[11:])"
   ]
  },
  {
   "cell_type": "code",
   "execution_count": 33,
   "metadata": {},
   "outputs": [
    {
     "name": "stdout",
     "output_type": "stream",
     "text": [
      "enter a number24\n",
      "36.0\n"
     ]
    }
   ],
   "source": [
    "#task 88: enter a number and auto increment by half\n",
    "n = int(input('enter a number'))\n",
    "n+=(n/2)\n",
    "print(n)"
   ]
  },
  {
   "cell_type": "code",
   "execution_count": 43,
   "metadata": {},
   "outputs": [
    {
     "name": "stdout",
     "output_type": "stream",
     "text": [
      "[0, 2, 4, 6, 8, 10, 12, 14, 16, 18]\n",
      "[1, 3, 5, 7, 9, 11, 13, 15, 17, 19]\n"
     ]
    }
   ],
   "source": [
    "#task 89: generate all even and odd numbers from 0 to 20 and then add them to display the total\n",
    "lst_even = []\n",
    "lst_odd = []\n",
    "for i in range(20):\n",
    "    if i%2==0:\n",
    "        lst_even.append(i)\n",
    "    else:\n",
    "        lst_odd.append(i)\n",
    "print (lst_even)\n",
    "print (lst_odd)\n",
    "# for i in lst_even:\n",
    "#     p=i\n",
    "# for j in lst_odd:\n",
    "#     Q=j\n",
    "# print(p+Q)"
   ]
  },
  {
   "cell_type": "code",
   "execution_count": 49,
   "metadata": {},
   "outputs": [
    {
     "name": "stdout",
     "output_type": "stream",
     "text": [
      "enter the number of ages you want to enter5\n",
      "enter an age12\n",
      "enter an age14\n",
      "enter an age17\n",
      "enter an age20\n",
      "enter an age22\n",
      "[12, 14, 17, 20, 22]\n",
      "[14, 17, 20]\n"
     ]
    }
   ],
   "source": [
    "#task 90: get the age of 10 students and display only those ages that are between 14 and 20 years\n",
    "lst = []\n",
    "lst2 = []\n",
    "n = int(input('enter the number of ages you want to enter'))\n",
    "for i in range(n):\n",
    "    lst.append(int(input('enter an age')))\n",
    "print(lst)\n",
    "for i in lst:\n",
    "    if i >=14 and i<=20:\n",
    "        lst2.append(i)\n",
    "    else:\n",
    "        pass\n",
    "print(lst2)\n"
   ]
  },
  {
   "cell_type": "code",
   "execution_count": null,
   "metadata": {},
   "outputs": [],
   "source": []
  }
 ],
 "metadata": {
  "kernelspec": {
   "display_name": "Python 3",
   "language": "python",
   "name": "python3"
  },
  "language_info": {
   "codemirror_mode": {
    "name": "ipython",
    "version": 3
   },
   "file_extension": ".py",
   "mimetype": "text/x-python",
   "name": "python",
   "nbconvert_exporter": "python",
   "pygments_lexer": "ipython3",
   "version": "3.8.5"
  }
 },
 "nbformat": 4,
 "nbformat_minor": 4
}
