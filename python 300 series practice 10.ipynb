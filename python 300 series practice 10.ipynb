{
 "cells": [
  {
   "cell_type": "code",
   "execution_count": 5,
   "metadata": {},
   "outputs": [
    {
     "name": "stdout",
     "output_type": "stream",
     "text": [
      "enter a sentence: hello\n",
      "olleh\n"
     ]
    }
   ],
   "source": [
    "s = input('enter a sentence: ')\n",
    "r = \"\"\n",
    "for i in s:\n",
    "    r = i+r\n",
    "print(r)"
   ]
  },
  {
   "cell_type": "code",
   "execution_count": 15,
   "metadata": {},
   "outputs": [
    {
     "name": "stdout",
     "output_type": "stream",
     "text": [
      "enter a sentence: hello. How are you?\n",
      "\" uoy era woH .olleh . \"\n"
     ]
    }
   ],
   "source": [
    "s = input('enter a sentence: ')\n",
    "r = \"\"\n",
    "if (s[-1]=='.' or s[-1]=='?' or s[-1]=='!'):\n",
    "    s = s[:-1]\n",
    "for i in s:\n",
    "    r = i+r\n",
    "print('\"', r , '.', '\"')"
   ]
  },
  {
   "cell_type": "code",
   "execution_count": 16,
   "metadata": {},
   "outputs": [
    {
     "name": "stdout",
     "output_type": "stream",
     "text": [
      "enter your age30\n",
      "your age in seconds is:  946080000\n"
     ]
    }
   ],
   "source": [
    "# task 53: get age from user and convert age to second\n",
    "age = int(input('enter your age'))\n",
    "seconds = 3600*24*365*age\n",
    "print('your age in seconds is: ', seconds)"
   ]
  },
  {
   "cell_type": "code",
   "execution_count": 20,
   "metadata": {},
   "outputs": [
    {
     "name": "stdout",
     "output_type": "stream",
     "text": [
      "enter a number12\n",
      "factorial of 12 is 479001600\n"
     ]
    }
   ],
   "source": [
    "#task 54: get a number from user and find the factorial of that number\n",
    "num = int(input('enter a number'))\n",
    "fact = 1\n",
    "# fact = 5*4*3*2*1\n",
    "for i in range(1,num+1):\n",
    "    fact = fact*i\n",
    "print('factorial of',num, 'is',fact)\n",
    "    "
   ]
  },
  {
   "cell_type": "code",
   "execution_count": 22,
   "metadata": {},
   "outputs": [
    {
     "name": "stdout",
     "output_type": "stream",
     "text": [
      "120\n"
     ]
    }
   ],
   "source": [
    "import math\n",
    "num = 5\n",
    "fact = math.factorial(num)\n",
    "print(fact)"
   ]
  },
  {
   "cell_type": "code",
   "execution_count": 26,
   "metadata": {},
   "outputs": [
    {
     "name": "stdout",
     "output_type": "stream",
     "text": [
      "do you want to get date and time? yes or nofg\n",
      "please enter yes or no\n"
     ]
    }
   ],
   "source": [
    "# task 55: show current dat on the user request\n",
    "val = input('do you want to get date and time? yes or no')\n",
    "lst = ['yes', 'no']\n",
    "def display_date(v):\n",
    "    if val == 'yes':\n",
    "        print('diplay date')\n",
    "    elif val == 'no':\n",
    "        print('do not display date')\n",
    "    else:\n",
    "        print('please enter yes or no')\n",
    "display_date(val)"
   ]
  },
  {
   "cell_type": "code",
   "execution_count": 42,
   "metadata": {},
   "outputs": [
    {
     "name": "stdout",
     "output_type": "stream",
     "text": [
      "do you want to get date and time? yes or noyes\n",
      "display date\n",
      "current date is:  2022-02-04 15:34:28.003146\n"
     ]
    }
   ],
   "source": [
    "import datetime as dt\n",
    "val = input('do you want to get date and time? yes or no')\n",
    "if val =='yes':\n",
    "    print('display date')\n",
    "    print('current date is: ', dt.datetime.now())\n",
    "elif val == 'no':\n",
    "    print('sorry, date will not be displayed')\n",
    "else:\n",
    "    print('please enter yes or no')"
   ]
  },
  {
   "cell_type": "code",
   "execution_count": 48,
   "metadata": {},
   "outputs": [
    {
     "name": "stdout",
     "output_type": "stream",
     "text": [
      "enter a number: 45\n",
      "enter the total number: 50\n",
      "the percentage is:  90.0 %\n"
     ]
    }
   ],
   "source": [
    "#task 56: make a percentage calculator\n",
    "num = float(input('enter a number: '))\n",
    "total = int(input('enter the total number: '))\n",
    "def percentage(x):\n",
    "    percentage = (num/total)*100\n",
    "    print('the percentage is: ', percentage, '%')\n",
    "percentage(num)"
   ]
  },
  {
   "cell_type": "code",
   "execution_count": 50,
   "metadata": {},
   "outputs": [
    {
     "name": "stdout",
     "output_type": "stream",
     "text": [
      "enter a value14\n",
      "0b1110\n"
     ]
    }
   ],
   "source": [
    "x = int(input('enter a value'))\n",
    "y = bin(x)\n",
    "print(y)"
   ]
  },
  {
   "cell_type": "code",
   "execution_count": 56,
   "metadata": {},
   "outputs": [
    {
     "name": "stdout",
     "output_type": "stream",
     "text": [
      "enter a value12\n",
      "please choose between 1,2, or 3, [1]= binary, [2]= octal, [3]= hexadecimal5\n",
      "please check your input for c\n"
     ]
    }
   ],
   "source": [
    "x = int(input('enter a value'))\n",
    "c = int(input('please choose between 1,2, or 3, [1]= binary, [2]= octal, [3]= hexadecimal'))\n",
    "if c==1:\n",
    "    print('the number in binary form is: ', bin(x))\n",
    "elif c==2:\n",
    "    print('the number in octal form is: ', oct(x))\n",
    "elif c==3:\n",
    "    print('the number in hexadecimal form is: ', hex(x))\n",
    "else:\n",
    "    print('please check your input for c')"
   ]
  },
  {
   "cell_type": "code",
   "execution_count": 65,
   "metadata": {},
   "outputs": [
    {
     "name": "stdout",
     "output_type": "stream",
     "text": [
      "please enter the number of items: 4\n",
      "please enter a number12\n",
      "please enter a number13\n",
      "please enter a number11\n",
      "please enter a number12\n",
      "the list of numbers is: [12, 13, 11, 12]\n",
      "the average is 12.0\n"
     ]
    }
   ],
   "source": [
    "# task 57: to make an average calculator\n",
    "n = int(input('please enter the number of items: '))\n",
    "lst = []\n",
    "for i in range(n):\n",
    "    lst.append(int(input('please enter a number')))\n",
    "print('the list of numbers is:', lst)\n",
    "print('the average is' , sum(lst)/n)"
   ]
  },
  {
   "cell_type": "code",
   "execution_count": 77,
   "metadata": {},
   "outputs": [],
   "source": [
    "# convert binary to decimal (doubt)\n",
    "\n",
    "# x = int(input('enter a binary number'))\n",
    "# y= int(x,2)\n",
    "# print(y)\n",
    "\n"
   ]
  },
  {
   "cell_type": "code",
   "execution_count": 80,
   "metadata": {},
   "outputs": [
    {
     "name": "stdout",
     "output_type": "stream",
     "text": [
      "get first namejohn\n",
      "get last namesmith\n",
      "JOHN  SMITH\n"
     ]
    }
   ],
   "source": [
    "#task 58: get first name and last name and display full name\n",
    "first_name = input('get first name')\n",
    "last_name = input('get last name')\n",
    "full_name = (first_name + \"  \" + last_name)\n",
    "full_name = full_name.upper()\n",
    "print(full_name)"
   ]
  },
  {
   "cell_type": "code",
   "execution_count": 85,
   "metadata": {},
   "outputs": [
    {
     "name": "stdout",
     "output_type": "stream",
     "text": [
      "enter the biohi. How are you?\n",
      "16\n",
      "4\n"
     ]
    }
   ],
   "source": [
    "#task 59: get a biography from user and count number of words and characters\n",
    "bio = input('enter the bio')\n",
    "char = len(bio)\n",
    "word = bio.split()\n",
    "print(char)\n",
    "print(len(word))"
   ]
  },
  {
   "cell_type": "code",
   "execution_count": 86,
   "metadata": {},
   "outputs": [],
   "source": [
    "#search a specific word and count in a user bio\n",
    "# bio = input('enter the bio')\n",
    "# char = len(bio)\n",
    "# word = bio.split()\n",
    "# print(char)\n",
    "# print(len(word))"
   ]
  },
  {
   "cell_type": "code",
   "execution_count": 96,
   "metadata": {},
   "outputs": [
    {
     "name": "stdout",
     "output_type": "stream",
     "text": [
      "enter author namee\n",
      "enter book namer\n",
      "enter author named\n",
      "enter book namef\n",
      "enter author names\n",
      "enter book namef\n",
      "enter author names\n",
      "enter book named\n",
      "enter author names\n",
      "enter book named\n",
      "{'e': 'r', 'd': 'f', 's': 'd'}\n",
      "e\n",
      "r\n"
     ]
    }
   ],
   "source": [
    "#task 60: get 5 author names with their book name and display last author with his book name.\n",
    "dict = {}\n",
    "for i in range(5):\n",
    "    author_name = input('enter author name')\n",
    "    book_name = input('enter book name')\n",
    "    dict[author_name]=book_name\n",
    "print(dict)\n",
    "print(list(dict.keys())[0])\n",
    "print(list(dict.values())[0])"
   ]
  },
  {
   "cell_type": "code",
   "execution_count": null,
   "metadata": {},
   "outputs": [],
   "source": []
  }
 ],
 "metadata": {
  "kernelspec": {
   "display_name": "Python 3",
   "language": "python",
   "name": "python3"
  },
  "language_info": {
   "codemirror_mode": {
    "name": "ipython",
    "version": 3
   },
   "file_extension": ".py",
   "mimetype": "text/x-python",
   "name": "python",
   "nbconvert_exporter": "python",
   "pygments_lexer": "ipython3",
   "version": "3.8.5"
  }
 },
 "nbformat": 4,
 "nbformat_minor": 4
}
