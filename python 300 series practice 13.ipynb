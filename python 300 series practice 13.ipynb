{
 "cells": [
  {
   "cell_type": "code",
   "execution_count": 1,
   "metadata": {},
   "outputs": [
    {
     "name": "stdout",
     "output_type": "stream",
     "text": [
      "enter a number23\n",
      "enter a number21\n",
      "enter a number20\n",
      "enter a number24\n",
      "24\n"
     ]
    }
   ],
   "source": [
    "#63: get numbers from user and show the maximum using function\n",
    "lst = []\n",
    "for i in range(4):\n",
    "    lst.append(int(input('enter a number')))\n",
    "def max_num(l):\n",
    "    print(max(l))\n",
    "max_num(lst)"
   ]
  },
  {
   "cell_type": "code",
   "execution_count": 3,
   "metadata": {},
   "outputs": [
    {
     "name": "stdout",
     "output_type": "stream",
     "text": [
      "enter student grade89\n",
      "enter full mark90\n",
      "full scholarship\n"
     ]
    }
   ],
   "source": [
    "#64: write a code to get students marks and check scholarship amount for each student.\n",
    "\n",
    "mark = int(input('enter student grade'))\n",
    "full_mark = int(input('enter full mark'))\n",
    "if mark>=(full_mark*0.9):\n",
    "    print('full scholarship')\n",
    "elif mark>=(full_mark*0.8):\n",
    "    print('60% scholarship')\n",
    "elif mark>=(full_mark*0.7):\n",
    "    print('40% scholarship')\n",
    "else:\n",
    "    print('no scholarship')"
   ]
  },
  {
   "cell_type": "code",
   "execution_count": 12,
   "metadata": {},
   "outputs": [
    {
     "name": "stdout",
     "output_type": "stream",
     "text": [
      "enter the length of the side of the square4\n",
      "area is: 16.0\n",
      "square root is:  4.0\n",
      "perimeter is:  16.0\n"
     ]
    }
   ],
   "source": [
    "#65: find are a and perimeter of a square using function\n",
    "import math\n",
    "s = float(input('enter the length of the side of the square'))\n",
    "def area(s):\n",
    "    area = s*s\n",
    "    print('area is:', area)\n",
    "    y = math.sqrt(area)\n",
    "    print('square root is: ', y)\n",
    "def per(s):\n",
    "    perimeter = 4*s\n",
    "    print('perimeter is: ', perimeter)\n",
    "area(s)\n",
    "per(s)\n"
   ]
  },
  {
   "cell_type": "code",
   "execution_count": 15,
   "metadata": {},
   "outputs": [
    {
     "name": "stdout",
     "output_type": "stream",
     "text": [
      "enter a number47\n",
      "enter a number43\n",
      "the sum is: 90.0\n"
     ]
    }
   ],
   "source": [
    "#67: sum of two numbers each numbers should be less than 50\n",
    "x = float(input('enter a number'))\n",
    "if x>50:\n",
    "    print('please enter a value less than 50')\n",
    "else:\n",
    "    y = float(input('enter a number'))\n",
    "    if y>50:\n",
    "        print('please enter a value less than 50')\n",
    "    else:\n",
    "        print('the sum is:', x+y)\n",
    "    "
   ]
  },
  {
   "cell_type": "code",
   "execution_count": 23,
   "metadata": {},
   "outputs": [
    {
     "name": "stdout",
     "output_type": "stream",
     "text": [
      "enter a student id1111\n",
      "enter a student id2222\n",
      "enter a student id3333\n",
      "enter a student id4444\n",
      "[4444, 3333, 2222, 1111]\n",
      "[]\n"
     ]
    }
   ],
   "source": [
    "#68: accept 6 student ids and display in descending order\n",
    "lst = []\n",
    "for i in range(4):\n",
    "    lst.append(int(input('enter a student id')))\n",
    "lst.sort(reverse=True)\n",
    "print(lst)\n",
    "lst.clear()\n",
    "print(lst)"
   ]
  },
  {
   "cell_type": "code",
   "execution_count": 26,
   "metadata": {},
   "outputs": [
    {
     "name": "stdout",
     "output_type": "stream",
     "text": [
      "enter your nameutkal\n",
      "enter your age32\n"
     ]
    }
   ],
   "source": [
    "#69: create a file and write user name and age in that file\n",
    "file = open(\"utkal.txt\", \"w+\")\n",
    "name=input('enter your name')\n",
    "age=input('enter your age')\n",
    "\n",
    "file.write('how are you?')\n",
    "file.write('your name is:'+ str(name))\n",
    "file.write('your age is:'+ str(age))\n",
    "file.close()"
   ]
  },
  {
   "cell_type": "code",
   "execution_count": 29,
   "metadata": {},
   "outputs": [
    {
     "name": "stdout",
     "output_type": "stream",
     "text": [
      "enter a sentencehello. there. How are you? Are you fine? if you are not fine tell me. you can really tell me.\n",
      "enter a word you want to count: you\n",
      "your senetence is  hello. there. How are you? Are you fine? if you are not fine tell me. you can really tell me.\n",
      "your word count is  4\n"
     ]
    }
   ],
   "source": [
    "#70: count a specific word in a sentence\n",
    "x = input('enter a sentence')\n",
    "w_c = input('enter a word you want to count: ')\n",
    "total_n = x.count(w_c)\n",
    "print('your senetence is ', x)\n",
    "print('your word count is ', total_n)"
   ]
  },
  {
   "cell_type": "code",
   "execution_count": null,
   "metadata": {},
   "outputs": [],
   "source": []
  }
 ],
 "metadata": {
  "kernelspec": {
   "display_name": "Python 3",
   "language": "python",
   "name": "python3"
  },
  "language_info": {
   "codemirror_mode": {
    "name": "ipython",
    "version": 3
   },
   "file_extension": ".py",
   "mimetype": "text/x-python",
   "name": "python",
   "nbconvert_exporter": "python",
   "pygments_lexer": "ipython3",
   "version": "3.8.5"
  }
 },
 "nbformat": 4,
 "nbformat_minor": 4
}
