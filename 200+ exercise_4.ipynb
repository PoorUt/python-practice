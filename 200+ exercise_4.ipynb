{
 "cells": [
  {
   "cell_type": "code",
   "execution_count": 4,
   "metadata": {},
   "outputs": [
    {
     "name": "stdout",
     "output_type": "stream",
     "text": [
      "true\n"
     ]
    }
   ],
   "source": [
    "count = 0\n",
    "hashtags = ['holiday', 'sport', 'fit', None, 'fashion']\n",
    "for i in hashtags:\n",
    "    if type(i)==str:\n",
    "        count+=1\n",
    "    else:\n",
    "        break\n",
    "if count==5:\n",
    "    print ('true')\n",
    "else:\n",
    "    print('false')\n"
   ]
  },
  {
   "cell_type": "code",
   "execution_count": 9,
   "metadata": {},
   "outputs": [
    {
     "name": "stdout",
     "output_type": "stream",
     "text": [
      "True\n"
     ]
    }
   ],
   "source": [
    "hashtags = ['holiday', 'sport', 'fit', 'None', 'fashion']\n",
    "result = True\n",
    "for i in hashtags:\n",
    "    if not isinstance(i,str):\n",
    "        result = False\n",
    "print(result)\n"
   ]
  },
  {
   "cell_type": "code",
   "execution_count": 33,
   "metadata": {},
   "outputs": [
    {
     "name": "stdout",
     "output_type": "stream",
     "text": [
      "15 is not prime\n"
     ]
    }
   ],
   "source": [
    "#check if a number is prime\n",
    "number = 15\n",
    "factors = 0\n",
    "for i in range(2,number):\n",
    "    if number%i == 0:\n",
    "        factors +=1\n",
    "        break\n",
    "if factors>0:\n",
    "    print(f'{number} is not prime')\n",
    "else:\n",
    "    print(f'{number} is prime')"
   ]
  },
  {
   "cell_type": "code",
   "execution_count": 50,
   "metadata": {},
   "outputs": [
    {
     "name": "stdout",
     "output_type": "stream",
     "text": [
      "13 - prime number\n"
     ]
    }
   ],
   "source": [
    "number = 13\n",
    "\n",
    " \n",
    "if number > 1:\n",
    "    for i in range(2, number):\n",
    "        if number % i == 0:\n",
    "            print(f'{number} - not a prime number')\n",
    "            break\n",
    "    else:\n",
    "        print(f'{number} - prime number')\n",
    "else:\n",
    "    print(f'{number} - not a prime number')"
   ]
  },
  {
   "cell_type": "code",
   "execution_count": 89,
   "metadata": {},
   "outputs": [
    {
     "name": "stdout",
     "output_type": "stream",
     "text": [
      "number is a negeative or zero and can not be checked for  prime\n"
     ]
    }
   ],
   "source": [
    "number = -9\n",
    "count = 0\n",
    "if number>1:\n",
    "    for i in range(2,number):\n",
    "        if number%i ==0:\n",
    "            count+=1\n",
    "    if count>=1:\n",
    "        print(f'{number} is not prime')\n",
    "    else:\n",
    "        print(f'{number} is prime')\n",
    "else:\n",
    "    print(f'number is a negeative or zero and can not be checked for  prime')"
   ]
  },
  {
   "cell_type": "code",
   "execution_count": 101,
   "metadata": {},
   "outputs": [
    {
     "name": "stdout",
     "output_type": "stream",
     "text": [
      "{'11B': [362.5, 'PLN'], 'CDR': [297.0, 'PLN'], 'CIG': [0.85, 'PLN'], 'PLW': [318.0, 'PLN'], 'TEN': [300.0, 'PLN']}\n"
     ]
    }
   ],
   "source": [
    "gaming = {\n",
    "    '11B': [362.5, 'PLN'],\n",
    "    'CDR': [74.25, 'USD'],\n",
    "    'CIG': [0.85, 'PLN'],\n",
    "    'PLW': [79.5, 'USD'],\n",
    "    'TEN': [300.0, 'PLN']\n",
    "}\n",
    "\n",
    "for i,j in gaming.items():\n",
    "    if j[1]=='PLN':\n",
    "        continue\n",
    "    elif j[1]=='USD':\n",
    "        j[0] = j[0]*4\n",
    "        j[1] = 'PLN'\n",
    "     \n",
    "    else:\n",
    "        print('do not know what to do')\n",
    "print(gaming)\n",
    "        "
   ]
  },
  {
   "cell_type": "code",
   "execution_count": 102,
   "metadata": {},
   "outputs": [
    {
     "name": "stdout",
     "output_type": "stream",
     "text": [
      "Jack\n",
      "Leon\n",
      "Alice\n",
      "Bob\n"
     ]
    }
   ],
   "source": [
    "# print only the names\n",
    "names = ['Jack', 'Leon', 'Alice', None, 'Bob']\n",
    "for i in names:\n",
    "    if type(i)==str:\n",
    "        print(i)"
   ]
  },
  {
   "cell_type": "code",
   "execution_count": 106,
   "metadata": {},
   "outputs": [
    {
     "name": "stdout",
     "output_type": "stream",
     "text": [
      "2,3,5,7,11,13,17,19,23,29\n"
     ]
    }
   ],
   "source": [
    "#write the first 10 prime numbers separated by a comma\n",
    "counter = 0\n",
    "number = 2\n",
    "prime = []\n",
    "while counter <10:\n",
    "    for i in range(2,number):\n",
    "        if number%i == 0:\n",
    "            break\n",
    "    else:\n",
    "        prime.append(str(number))\n",
    "        counter+=1\n",
    "    number+=1\n",
    "print(','.join(prime))"
   ]
  },
  {
   "cell_type": "code",
   "execution_count": 109,
   "metadata": {},
   "outputs": [
    {
     "name": "stdout",
     "output_type": "stream",
     "text": [
      "2,3,5,7,11,13,17,19,23,29\n"
     ]
    }
   ],
   "source": [
    "counter = 0\n",
    "number = 2\n",
    "prime = []\n",
    " \n",
    "while counter < 10:\n",
    "    for i in range(2, number):\n",
    "        if number % i == 0:\n",
    "            break\n",
    "    else:\n",
    "        prime.append(str(number))\n",
    "        counter += 1\n",
    "    number += 1\n",
    " \n",
    "print(','.join(prime))"
   ]
  },
  {
   "cell_type": "code",
   "execution_count": 118,
   "metadata": {},
   "outputs": [
    {
     "name": "stdout",
     "output_type": "stream",
     "text": [
      "2,3,5,7,11,13,17,19,23,29,31,37,41,43,47,53,59,61,67,71,73,79,83,89,97,101,103,107,109,113,127,131,137,139,149,151,157,163,167,173,179,181,191,193,197,199,211,223,227,229,233,239,241,251,257,263,269,271,277,281,283,293,307,311,313,317,331,337,347,349,353,359,367,373,379,383,389,397,401,409,419,421,431,433,439,443,449,457,461,463,467,479,487,491,499,503,509,521,523,541\n"
     ]
    }
   ],
   "source": [
    "counter = 0\n",
    "number = 2\n",
    "prime = []\n",
    "\n",
    "while counter<100:\n",
    "    for i in range(2,number):\n",
    "        if number%i == 0:\n",
    "            break\n",
    "    else:\n",
    "        prime.append(str(number))\n",
    "        counter+=1\n",
    "    number+=1\n",
    "print(','.join(prime))"
   ]
  },
  {
   "cell_type": "code",
   "execution_count": 119,
   "metadata": {},
   "outputs": [
    {
     "name": "stdout",
     "output_type": "stream",
     "text": [
      " its going to take 18 years to double your investment\n"
     ]
    }
   ],
   "source": [
    "n = 1\n",
    "pv = 1000\n",
    "r = 0.04\n",
    "fv = pv * (1 + r)\n",
    "while fv <= 2000:\n",
    "    fv = fv*(1+r)\n",
    "    n += 1\n",
    "print(f' its going to take {n} years to double your investment')"
   ]
  },
  {
   "cell_type": "code",
   "execution_count": 120,
   "metadata": {},
   "outputs": [
    {
     "name": "stdout",
     "output_type": "stream",
     "text": [
      "A local minimum in point: 2.00\n"
     ]
    }
   ],
   "source": [
    "max_iters = 10000 \n",
    "iters = 0\n",
    "w_0 = -1\n",
    "previous_step_size = 1\n",
    "learning_rate = 0.01\n",
    "precision = 0.000001\n",
    "derivative = lambda w: 2 * w - 4\n",
    " \n",
    "while previous_step_size > precision and iters < max_iters:\n",
    "    w_prev = w_0\n",
    "    w_0 = w_prev - learning_rate * derivative(w_prev)\n",
    "    previous_step_size = abs(w_0 - w_prev)\n",
    "    iters += 1\n",
    " \n",
    "print(f'A local minimum in point: {w_0:.2f}')"
   ]
  },
  {
   "cell_type": "code",
   "execution_count": 127,
   "metadata": {},
   "outputs": [
    {
     "name": "stdout",
     "output_type": "stream",
     "text": [
      "please enter a target number11\n",
      "please enter the number of elements you want4\n",
      "please enter a number10\n",
      "please enter a number11\n",
      "please enter a number12\n",
      "please enter a number13\n",
      "found\n"
     ]
    }
   ],
   "source": [
    "target = int(input('please enter a target number'))\n",
    "n = int(input('please enter the number of elements you want'))\n",
    "numbers = []\n",
    "for i in range(n):\n",
    "    numbers.append(int(input('please enter a number')))\n",
    "if target in numbers:\n",
    "    print('found')\n",
    "else:\n",
    "    print(f'{target} is not in the list')"
   ]
  },
  {
   "cell_type": "code",
   "execution_count": 129,
   "metadata": {},
   "outputs": [
    {
     "name": "stdout",
     "output_type": "stream",
     "text": [
      "please enter a target number2\n",
      "please enter the number of elements you want4\n",
      "please enter a number11\n",
      "please enter a number12\n",
      "please enter a number13\n",
      "please enter a number11\n",
      "[11, 12, 13, 11]\n",
      "3\n"
     ]
    }
   ],
   "source": [
    "target = int(input('please enter a target number'))\n",
    "n = int(input('please enter the number of elements you want'))\n",
    "numbers = []\n",
    "for i in range(n):\n",
    "    numbers.append(int(input('please enter a number')))\n",
    "print(numbers)\n",
    "start = 0\n",
    "end = (len(numbers)-1)\n",
    "print (end)\n",
    "flag = None\n",
    "\n",
    "while start <= end:\n",
    "    "
   ]
  },
  {
   "cell_type": "code",
   "execution_count": 130,
   "metadata": {},
   "outputs": [
    {
     "name": "stdout",
     "output_type": "stream",
     "text": [
      "cant divide by zero\n"
     ]
    }
   ],
   "source": [
    "#exception handling\n",
    "sum = 3000\n",
    "counter = 0\n",
    "try:\n",
    "    result = sum/counter\n",
    "    print(result)\n",
    "except ZeroDivisionError:\n",
    "    print('cant divide by zero')"
   ]
  },
  {
   "cell_type": "code",
   "execution_count": 131,
   "metadata": {},
   "outputs": [
    {
     "name": "stdout",
     "output_type": "stream",
     "text": [
      "file not found\n"
     ]
    }
   ],
   "source": [
    "try:\n",
    "    with open('file.txt', 'r') as file:\n",
    "        content = file.read()\n",
    "\n",
    "except FileNotFoundError:\n",
    "    print('file not found')"
   ]
  },
  {
   "cell_type": "code",
   "execution_count": 134,
   "metadata": {},
   "outputs": [
    {
     "name": "stdout",
     "output_type": "stream",
     "text": [
      "the used id mentioned is not in the dictionary. Adding key...\n",
      "{'001': 'Mark', '002': 'Monica', '003': 'Jacob', '004': 'none'}\n"
     ]
    }
   ],
   "source": [
    "users = {'001': 'Mark', '002': 'Monica', '003': 'Jacob'}\n",
    "user_id = '004'\n",
    "try:\n",
    "    print(users[user_id])\n",
    "except KeyError:\n",
    "    print('the used id mentioned is not in the dictionary. Adding key...')\n",
    "    users[user_id] = 'none'\n",
    "print(users)"
   ]
  },
  {
   "cell_type": "code",
   "execution_count": 151,
   "metadata": {},
   "outputs": [],
   "source": [
    "#python file handling\n",
    "f = open('C:\\\\Users\\\\utkal\\\\Desktop\\\\python tutorial 1\\\\message.txt','w')"
   ]
  },
  {
   "cell_type": "code",
   "execution_count": 154,
   "metadata": {},
   "outputs": [],
   "source": [
    "f.write ('my name is utkal')\n",
    "f.close()"
   ]
  },
  {
   "cell_type": "code",
   "execution_count": 155,
   "metadata": {},
   "outputs": [],
   "source": [
    "f = open('C:\\\\Users\\\\utkal\\\\Desktop\\\\python tutorial 1\\\\message.txt','a')\n",
    "f.write('My name is raja')\n",
    "f.close()"
   ]
  },
  {
   "cell_type": "code",
   "execution_count": 157,
   "metadata": {},
   "outputs": [],
   "source": [
    "f = open('C:\\\\Users\\\\utkal\\\\Desktop\\\\python tutorial 1\\\\message.txt','a')\n",
    "f.write('raja is my name')\n",
    "f.close()"
   ]
  },
  {
   "cell_type": "code",
   "execution_count": 159,
   "metadata": {},
   "outputs": [],
   "source": [
    "f = open('C:\\\\Users\\\\utkal\\\\Desktop\\\\python tutorial 1\\\\message.txt','a')\n",
    "f.write('\\n I love baba \\n I love maa \\n I love nana \\n I love Mona \\n I always wanted to do the good but now I feel that I am a worthless person')\n",
    "f.close()"
   ]
  },
  {
   "cell_type": "code",
   "execution_count": 160,
   "metadata": {},
   "outputs": [
    {
     "name": "stdout",
     "output_type": "stream",
     "text": [
      "my name is utkalmy name is utkalMy name is rajaraja is my name\n",
      " I love baba\n",
      " I love baba \n",
      " I love maa \n",
      " I love nana \n",
      " I love Mona \n",
      " I always wanted to do the good but now I feel that I am a worthless person\n"
     ]
    }
   ],
   "source": [
    "f = open('C:\\\\Users\\\\utkal\\\\Desktop\\\\python tutorial 1\\\\message.txt','r')\n",
    "print(f.read())\n",
    "f.close()"
   ]
  },
  {
   "cell_type": "code",
   "execution_count": 161,
   "metadata": {},
   "outputs": [],
   "source": [
    "g = open('utkal.txt', 'w')"
   ]
  },
  {
   "cell_type": "code",
   "execution_count": 162,
   "metadata": {},
   "outputs": [],
   "source": [
    "g.write('Hello How are you \\n I am fine')\n",
    "g.close()"
   ]
  },
  {
   "cell_type": "code",
   "execution_count": 164,
   "metadata": {},
   "outputs": [],
   "source": [
    "g = open('utkal.txt', 'a')\n",
    "g.write('\\n Well thats good to know')\n",
    "g.close()"
   ]
  },
  {
   "cell_type": "code",
   "execution_count": 168,
   "metadata": {},
   "outputs": [
    {
     "name": "stdout",
     "output_type": "stream",
     "text": [
      "my name is utkalmy name is utkalMy name is rajaraja is my name\n",
      " I love baba\n",
      " I love baba \n",
      " I love maa \n",
      " I love nana \n",
      " I love Mona \n",
      " I always wanted to do the good but now I feel that I am a worthless person\n"
     ]
    }
   ],
   "source": [
    "f= open('message.txt', 'r')\n",
    "print(f.read())\n",
    "f.close()"
   ]
  },
  {
   "cell_type": "code",
   "execution_count": 177,
   "metadata": {},
   "outputs": [],
   "source": [
    "f = open('message.txt', 'r')\n",
    "f_out = open('message_c.txt', 'w')\n",
    "for l in f:\n",
    "    tokens = l.split(' ')\n",
    "    f_out.write(' word count is:'+ str(len(tokens)) + l )\n",
    "f.close()\n",
    "f_out.close()"
   ]
  },
  {
   "cell_type": "code",
   "execution_count": 183,
   "metadata": {},
   "outputs": [
    {
     "name": "stdout",
     "output_type": "stream",
     "text": [
      "Hello. This is a trial.\n",
      "I want to do an experiement.\n",
      "How are ypu?\n",
      "I am fine.\n",
      "Oh. Thats great.\n",
      "None\n"
     ]
    }
   ],
   "source": [
    "with open('new.txt', 'r') as h:\n",
    "    print(h.read())\n",
    "print(h.close())"
   ]
  },
  {
   "cell_type": "code",
   "execution_count": 187,
   "metadata": {},
   "outputs": [
    {
     "name": "stdout",
     "output_type": "stream",
     "text": [
      "Hello. This is a trial.\n",
      ": number of words is: 5\n",
      "I want to do an experiement.\n",
      ": number of words is: 6\n",
      "How are ypu?\n",
      ": number of words is: 3\n",
      "I am fine.\n",
      ": number of words is: 3\n",
      "Oh. Thats great.: number of words is: 3\n"
     ]
    }
   ],
   "source": [
    "with open('new.txt', 'r') as h:\n",
    "    for l in h:\n",
    "        words = len(l.split(' '))\n",
    "        print(f'{l}: number of words is: {words}')\n",
    "h.close()"
   ]
  },
  {
   "cell_type": "code",
   "execution_count": 190,
   "metadata": {},
   "outputs": [
    {
     "ename": "TypeError",
     "evalue": "'int' object is not callable",
     "output_type": "error",
     "traceback": [
      "\u001b[1;31m---------------------------------------------------------------------------\u001b[0m",
      "\u001b[1;31mTypeError\u001b[0m                                 Traceback (most recent call last)",
      "\u001b[1;32m<ipython-input-190-e6f1bec09e69>\u001b[0m in \u001b[0;36m<module>\u001b[1;34m\u001b[0m\n\u001b[0;32m      7\u001b[0m     \u001b[1;32mif\u001b[0m \u001b[0midx\u001b[0m\u001b[1;33m>\u001b[0m\u001b[1;36m0\u001b[0m\u001b[1;33m:\u001b[0m\u001b[1;33m\u001b[0m\u001b[1;33m\u001b[0m\u001b[0m\n\u001b[0;32m      8\u001b[0m         \u001b[0mclose\u001b[0m\u001b[1;33m.\u001b[0m\u001b[0mappend\u001b[0m\u001b[1;33m(\u001b[0m\u001b[0mint\u001b[0m\u001b[1;33m(\u001b[0m\u001b[0mline\u001b[0m\u001b[1;33m.\u001b[0m\u001b[0msplit\u001b[0m\u001b[1;33m(\u001b[0m\u001b[1;34m','\u001b[0m\u001b[1;33m)\u001b[0m\u001b[1;33m[\u001b[0m\u001b[1;33m-\u001b[0m\u001b[1;36m2\u001b[0m\u001b[1;33m]\u001b[0m\u001b[1;33m)\u001b[0m\u001b[1;33m)\u001b[0m\u001b[1;33m\u001b[0m\u001b[1;33m\u001b[0m\u001b[0m\n\u001b[1;32m----> 9\u001b[1;33m \u001b[0mclose_avg\u001b[0m \u001b[1;33m=\u001b[0m\u001b[0msum\u001b[0m\u001b[1;33m(\u001b[0m\u001b[0mclose\u001b[0m\u001b[1;33m)\u001b[0m\u001b[1;33m/\u001b[0m\u001b[0mlen\u001b[0m\u001b[1;33m(\u001b[0m\u001b[0mclose\u001b[0m\u001b[1;33m)\u001b[0m\u001b[1;33m\u001b[0m\u001b[1;33m\u001b[0m\u001b[0m\n\u001b[0m\u001b[0;32m     10\u001b[0m \u001b[1;33m\u001b[0m\u001b[0m\n\u001b[0;32m     11\u001b[0m \u001b[0mprint\u001b[0m\u001b[1;33m(\u001b[0m\u001b[1;34mf'3-day average closing price: {close_avg:.2f}'\u001b[0m\u001b[1;33m)\u001b[0m\u001b[1;33m\u001b[0m\u001b[1;33m\u001b[0m\u001b[0m\n",
      "\u001b[1;31mTypeError\u001b[0m: 'int' object is not callable"
     ]
    }
   ],
   "source": [
    "with open('play.txt', 'r') as g:\n",
    "    line = g.read().splitlines()\n",
    "\n",
    "close = []\n",
    "\n",
    "for idx, line in enumerate(line):\n",
    "    if idx>0:\n",
    "        close.append(int(line.split(',')[-2]))\n",
    "close_avg =sum(close)/len(close)\n",
    "  \n",
    "print(f'3-day average closing price: {close_avg:.2f}')"
   ]
  },
  {
   "cell_type": "code",
   "execution_count": 191,
   "metadata": {},
   "outputs": [
    {
     "name": "stdout",
     "output_type": "stream",
     "text": [
      "x**2 + x\n"
     ]
    }
   ],
   "source": [
    "x = -1.5\n",
    "expression = 'x**2 + x'\n",
    "print(expression)"
   ]
  },
  {
   "cell_type": "code",
   "execution_count": 193,
   "metadata": {},
   "outputs": [
    {
     "name": "stdout",
     "output_type": "stream",
     "text": [
      "0.75\n"
     ]
    }
   ],
   "source": [
    "def eval(x):\n",
    "    expression = x**2 + x\n",
    "    print(expression)\n",
    "eval(-1.5)"
   ]
  },
  {
   "cell_type": "code",
   "execution_count": 194,
   "metadata": {},
   "outputs": [
    {
     "name": "stdout",
     "output_type": "stream",
     "text": [
      "6\n"
     ]
    }
   ],
   "source": [
    "eval(2)"
   ]
  },
  {
   "cell_type": "code",
   "execution_count": 200,
   "metadata": {},
   "outputs": [
    {
     "name": "stdout",
     "output_type": "stream",
     "text": [
      "False\n",
      "False\n",
      "True\n",
      "False\n",
      "False\n"
     ]
    }
   ],
   "source": [
    "var1 = 'Python'\n",
    "var2 = ('Python')\n",
    "var3 = ('Python',)\n",
    "var4 = ['Python']\n",
    "var5 = {'Python'}\n",
    "\n",
    "print(isinstance(var1, tuple))\n",
    "print(isinstance(var2, tuple))\n",
    "print(isinstance(var3, tuple))\n",
    "print(isinstance(var4, tuple))\n",
    "print(isinstance(var5, tuple))"
   ]
  },
  {
   "cell_type": "code",
   "execution_count": 203,
   "metadata": {},
   "outputs": [
    {
     "name": "stdout",
     "output_type": "stream",
     "text": [
      "b\n",
      "z\n"
     ]
    }
   ],
   "source": [
    "characters = ['k', 'b', 'c', 'j', 'z', 'w']\n",
    "print(min(characters))\n",
    "print(max(characters))"
   ]
  },
  {
   "cell_type": "code",
   "execution_count": 205,
   "metadata": {},
   "outputs": [
    {
     "name": "stdout",
     "output_type": "stream",
     "text": [
      "[('TEN', 'Ten Square Games'), ('PLW', 'Playway'), ('CDR', 'CD Projekt')]\n"
     ]
    }
   ],
   "source": [
    "ticker = ('TEN', 'PLW', 'CDR')\n",
    "full_name = ('Ten Square Games', 'Playway', 'CD Projekt')\n",
    "lst = list(zip(ticker, full_name))\n",
    "print(lst)"
   ]
  },
  {
   "cell_type": "code",
   "execution_count": 206,
   "metadata": {},
   "outputs": [
    {
     "name": "stdout",
     "output_type": "stream",
     "text": [
      "True\n"
     ]
    }
   ],
   "source": [
    "items = (' ', '0', 0.1, True)\n",
    "print(all(items))"
   ]
  },
  {
   "cell_type": "code",
   "execution_count": 208,
   "metadata": {},
   "outputs": [
    {
     "name": "stdout",
     "output_type": "stream",
     "text": [
      "True\n"
     ]
    }
   ],
   "source": [
    "items = (' ', '0', 0.1, True)\n",
    "print(all(items))"
   ]
  },
  {
   "cell_type": "code",
   "execution_count": 210,
   "metadata": {},
   "outputs": [
    {
     "name": "stdout",
     "output_type": "stream",
     "text": [
      "False\n"
     ]
    }
   ],
   "source": [
    "items = ('', 0.0, 0, False)\n",
    "print(any(items))"
   ]
  },
  {
   "cell_type": "code",
   "execution_count": 214,
   "metadata": {},
   "outputs": [
    {
     "name": "stdout",
     "output_type": "stream",
     "text": [
      "5\n"
     ]
    }
   ],
   "source": [
    "number = 234\n",
    "count = 0\n",
    "x = bin(number)\n",
    "x = x[2:]\n",
    "print(x.count('1'))\n",
    "        "
   ]
  },
  {
   "cell_type": "code",
   "execution_count": null,
   "metadata": {},
   "outputs": [],
   "source": []
  }
 ],
 "metadata": {
  "kernelspec": {
   "display_name": "Python 3",
   "language": "python",
   "name": "python3"
  },
  "language_info": {
   "codemirror_mode": {
    "name": "ipython",
    "version": 3
   },
   "file_extension": ".py",
   "mimetype": "text/x-python",
   "name": "python",
   "nbconvert_exporter": "python",
   "pygments_lexer": "ipython3",
   "version": "3.8.5"
  }
 },
 "nbformat": 4,
 "nbformat_minor": 4
}
