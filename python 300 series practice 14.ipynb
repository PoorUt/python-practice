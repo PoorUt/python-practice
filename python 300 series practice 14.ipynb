{
 "cells": [
  {
   "cell_type": "code",
   "execution_count": 6,
   "metadata": {},
   "outputs": [
    {
     "name": "stdout",
     "output_type": "stream",
     "text": [
      "enter a sentence: hello, how are you?\n",
      "enter the character or the word to counta\n",
      "1\n",
      "hello, how are me?\n"
     ]
    }
   ],
   "source": [
    "#task 71: count a specific word or a character in a sentence\n",
    "s = input('enter a sentence: ')\n",
    "w = input('enter the character or the word to count')\n",
    "x = s.count(w)\n",
    "s = s.replace('you','me')\n",
    "print(x)\n",
    "print(s)\n"
   ]
  },
  {
   "cell_type": "code",
   "execution_count": 15,
   "metadata": {},
   "outputs": [
    {
     "name": "stdout",
     "output_type": "stream",
     "text": [
      "enter a colour code1\n",
      "enter a colour code2\n",
      "enter a colour code3\n",
      "enter a colour code4\n",
      "enter a colour code5\n",
      "[5, 3, 4, 1, 2]\n"
     ]
    }
   ],
   "source": [
    "#task 72: shuffle a list of different color code\n",
    "import random\n",
    "colour_code = []\n",
    "for i in range(5):\n",
    "    colour_code.append(int(input('enter a colour code')))\n",
    "random.shuffle(colour_code)\n",
    "print(colour_code)"
   ]
  },
  {
   "cell_type": "code",
   "execution_count": 18,
   "metadata": {},
   "outputs": [
    {
     "name": "stdout",
     "output_type": "stream",
     "text": [
      "please enter the number of items you want4\n",
      "enter a colour code1\n",
      "enter a colour code2\n",
      "enter a colour code3\n",
      "enter a colour code4\n",
      "['1', '2', '3', '4']\n",
      "['4', '3', '2', '1']\n"
     ]
    }
   ],
   "source": [
    "# make a list to make ascending and descneding in order\n",
    "lst = []\n",
    "n = int(input('please enter the number of items you want'))\n",
    "for i in range(n):\n",
    "    lst.append(input('enter a colour code'))\n",
    "lst.sort()\n",
    "print(lst)\n",
    "lst.sort(reverse=True)\n",
    "print(lst)"
   ]
  },
  {
   "cell_type": "code",
   "execution_count": 22,
   "metadata": {},
   "outputs": [
    {
     "name": "stdout",
     "output_type": "stream",
     "text": [
      "please enter a sentencehello\n",
      "The sentence entered by you is:   hello\n",
      "The last character of your sentence is:  o\n",
      "Now lets print all the characters in the sentence one by one: \n",
      "h\n",
      "e\n",
      "l\n",
      "l\n",
      "o\n"
     ]
    }
   ],
   "source": [
    "#task 73: get a sentence from the user. Diplay the last character and then display all the characters one by one.\n",
    "s = input('please enter a sentence')\n",
    "print('The sentence entered by you is:  ', s)\n",
    "print('The last character of your sentence is: ', s[-1])\n",
    "print('Now lets print all the characters in the sentence one by one: ')\n",
    "for i in (s):\n",
    "    print(i)"
   ]
  },
  {
   "cell_type": "code",
   "execution_count": 24,
   "metadata": {},
   "outputs": [
    {
     "name": "stdout",
     "output_type": "stream",
     "text": [
      "please enter a sentenceHi ram. where is shyam. shyam went home.\n",
      "The sentence entered by you is:   Hi ram. where is shyam. shyam went home.\n",
      "enter the word to countshyam\n",
      "Occurence of the word  shyam is  2 times in your sentence\n"
     ]
    }
   ],
   "source": [
    "#get a sentence and count a specific word in that sentence.\n",
    "s = input('please enter a sentence')\n",
    "print('The sentence entered by you is:  ', s)\n",
    "c = input('enter the word to count')\n",
    "x = s.count(c)\n",
    "print('Occurence of the word ', c, 'is ', x, 'times in your sentence')"
   ]
  },
  {
   "cell_type": "code",
   "execution_count": 30,
   "metadata": {},
   "outputs": [
    {
     "name": "stdout",
     "output_type": "stream",
     "text": [
      "enter the number of students4\n",
      "please enter a student mark12\n",
      "please enter a student mark13\n",
      "please enter a student mark9\n",
      "please enter a student mark10\n",
      "[12, 13, 9, 10]\n",
      "the list after sorting is:  [9, 10, 12, 13]\n",
      "student mark on the second position is: 10\n"
     ]
    }
   ],
   "source": [
    "#task 74: write a program to find the second position of student in a list and display all the marks\n",
    "lst = []\n",
    "n = int(input('enter the number of students'))\n",
    "for i in range(n):\n",
    "    lst.append(int(input('please enter a student mark')))\n",
    "print(lst)\n",
    "lst.sort()\n",
    "print('the list after sorting is: ', lst)\n",
    "print('student mark on the second position is:', lst[1])"
   ]
  },
  {
   "cell_type": "code",
   "execution_count": null,
   "metadata": {},
   "outputs": [],
   "source": [
    "#practice dictionary"
   ]
  },
  {
   "cell_type": "code",
   "execution_count": 35,
   "metadata": {},
   "outputs": [
    {
     "name": "stdout",
     "output_type": "stream",
     "text": [
      "enter the number of codes3\n",
      "please enter a colour code11\n",
      "please enter a colour code12\n",
      "please enter a colour code13\n",
      "[11, 12, 13]\n",
      "[11, 12, 13]\n"
     ]
    }
   ],
   "source": [
    "#task 75:write a program to copy a 10 colour list\n",
    "lst = []\n",
    "n = int(input('enter the number of codes'))\n",
    "for i in range(n):\n",
    "    lst.append(int(input('please enter a colour code')))\n",
    "print(lst)\n",
    "lst_c = lst.copy()\n",
    "print(lst_c)"
   ]
  },
  {
   "cell_type": "code",
   "execution_count": 48,
   "metadata": {},
   "outputs": [
    {
     "name": "stdout",
     "output_type": "stream",
     "text": [
      "enter the number of items2\n",
      "enter a number10\n",
      "enter a number11\n",
      "21\n",
      "110\n"
     ]
    }
   ],
   "source": [
    "#get 10 numbers from user, find their sum and multiplication and then display the result to user.\n",
    "import math\n",
    "lst = []\n",
    "n = int(input('enter the number of items'))\n",
    "for i in range(n):\n",
    "    lst.append(int(input('enter a number')))\n",
    "x= sum(lst)\n",
    "y= math.prod(lst)\n",
    "print(x)\n",
    "print(y)\n"
   ]
  },
  {
   "cell_type": "code",
   "execution_count": 53,
   "metadata": {},
   "outputs": [
    {
     "name": "stdout",
     "output_type": "stream",
     "text": [
      "enter the number of items you want to multiply2\n",
      "enter a number11\n",
      "enter a number12\n",
      "[11, 12]\n",
      "the product of all the numbers is:  132\n"
     ]
    }
   ],
   "source": [
    "lst = []\n",
    "p = 1\n",
    "n = int(input('enter the number of items you want to multiply'))\n",
    "for i in range(n):\n",
    "    lst.append(int(input('enter a number')))\n",
    "print(lst)\n",
    "for i in lst:\n",
    "    p = p*i\n",
    "print('the product of all the numbers is: ', p)"
   ]
  },
  {
   "cell_type": "code",
   "execution_count": 55,
   "metadata": {},
   "outputs": [
    {
     "name": "stdout",
     "output_type": "stream",
     "text": [
      "enter the number of items that you want in the list: 5\n",
      "please enter a number12\n",
      "please enter a number15\n",
      "please enter a number13\n",
      "please enter a number14\n",
      "please enter a number18\n",
      "your list is:  [12, 15, 13, 14, 18]\n",
      "numbers divisible by 3 are:  [12, 15, 18]\n"
     ]
    }
   ],
   "source": [
    "#task 76: display numbers that are divisible by 3 from a list\n",
    "lst = []\n",
    "n = int(input('enter the number of items that you want in the list: '))\n",
    "for i in range(n):\n",
    "    lst.append(int(input('please enter a number')))\n",
    "print('your list is: ', lst)\n",
    "lst2=[]\n",
    "for i in lst:\n",
    "    if i%3==0:\n",
    "        lst2.append(i)\n",
    "    else:\n",
    "        pass\n",
    "print('numbers divisible by 3 are: ', lst2)\n",
    "        "
   ]
  },
  {
   "cell_type": "code",
   "execution_count": 59,
   "metadata": {},
   "outputs": [
    {
     "name": "stdout",
     "output_type": "stream",
     "text": [
      "enter the number of items you want in the tuple5\n",
      "enter a number11\n",
      "enter a number22\n",
      "enter a number113\n",
      "enter a number123\n",
      "enter a number14\n",
      "(11, 22, 113, 123, 14)\n",
      "no, the first and last value of the tuple are not the same\n"
     ]
    }
   ],
   "source": [
    "#task 77: check if the first and last number of a tuple are same or not.\n",
    "num_list = ()\n",
    "n = int(input('enter the number of items you want in the tuple'))\n",
    "n_list = list(num_list)\n",
    "for i in range(n):\n",
    "    n_list.append(int(input('enter a number')))\n",
    "num_list=tuple(n_list)\n",
    "print(num_list)\n",
    "if  num_list[0]==num_list[-1]:\n",
    "    print('yes, the first and last value of the tuple are same')\n",
    "else:\n",
    "    print('no, the first and last value of the tuple are not the same')"
   ]
  },
  {
   "cell_type": "code",
   "execution_count": 67,
   "metadata": {},
   "outputs": [
    {
     "name": "stdout",
     "output_type": "stream",
     "text": [
      "enter the number of student names5\n",
      "enter a student name: jon\n",
      "enter a student name: bob\n",
      "enter a student name: mandy\n",
      "enter a student name: sid\n",
      "enter a student name: jack\n",
      "['jon', 'bob', 'mandy', 'sid', 'jack']\n",
      "yes\n"
     ]
    }
   ],
   "source": [
    "#store 5 student names in a list and check if the first char of first name == first char of last name\n",
    "lst = []\n",
    "n = int(input('enter the number of student names'))\n",
    "for i in range(n):\n",
    "    lst.append(input('enter a student name: '))\n",
    "print(lst)\n",
    "x=lst[0]\n",
    "y=lst[-1]\n",
    "if (x[0]==y[0]):\n",
    "    print('yes')\n",
    "else:\n",
    "    print('no')"
   ]
  },
  {
   "cell_type": "code",
   "execution_count": 68,
   "metadata": {},
   "outputs": [
    {
     "name": "stdout",
     "output_type": "stream",
     "text": [
      "enter a number12\n",
      "13 11\n"
     ]
    }
   ],
   "source": [
    "#task 78: get a number from the user and return its previous number and next number\n",
    "x = int(input('enter a number'))\n",
    "print(x+1,x-1)"
   ]
  },
  {
   "cell_type": "code",
   "execution_count": 69,
   "metadata": {},
   "outputs": [
    {
     "name": "stdout",
     "output_type": "stream",
     "text": [
      "enter a stringhello\n",
      "h o\n"
     ]
    }
   ],
   "source": [
    "#task 79: print the first and last character from a string\n",
    "s = input('enter a string')\n",
    "print(s[0],s[-1])"
   ]
  },
  {
   "cell_type": "code",
   "execution_count": 76,
   "metadata": {},
   "outputs": [
    {
     "name": "stdout",
     "output_type": "stream",
     "text": [
      "enter a stringhello\n",
      "ell\n"
     ]
    }
   ],
   "source": [
    "#remove first and last character from a string\n",
    "s = input('enter a string')\n",
    "s = s.strip(s[0])\n",
    "s = s.strip(s[-1])\n",
    "print(s)"
   ]
  },
  {
   "cell_type": "code",
   "execution_count": 82,
   "metadata": {},
   "outputs": [
    {
     "name": "stdout",
     "output_type": "stream",
     "text": [
      "enter a stringhello. how are you\n",
      "e l . h w a e y u "
     ]
    }
   ],
   "source": [
    "#task 80: print character from a string that are present in odd number index.\n",
    "s = input('enter a string')\n",
    "n = len(s)\n",
    "for i in range(n):\n",
    "    if i%2 != 0:\n",
    "        print(s[i], end = \" \")\n",
    "    else:\n",
    "        pass"
   ]
  },
  {
   "cell_type": "code",
   "execution_count": 83,
   "metadata": {},
   "outputs": [
    {
     "name": "stdout",
     "output_type": "stream",
     "text": [
      "enter a stringhello. How are you\n",
      "h l o   o   r   o "
     ]
    }
   ],
   "source": [
    "# do the same for even indexes\n",
    "s = input('enter a string')\n",
    "n = len(s)\n",
    "for i in range(n):\n",
    "    if i%2 == 0:\n",
    "        print(s[i], end = \" \")\n",
    "    else:\n",
    "        pass"
   ]
  },
  {
   "cell_type": "code",
   "execution_count": null,
   "metadata": {},
   "outputs": [],
   "source": []
  }
 ],
 "metadata": {
  "kernelspec": {
   "display_name": "Python 3",
   "language": "python",
   "name": "python3"
  },
  "language_info": {
   "codemirror_mode": {
    "name": "ipython",
    "version": 3
   },
   "file_extension": ".py",
   "mimetype": "text/x-python",
   "name": "python",
   "nbconvert_exporter": "python",
   "pygments_lexer": "ipython3",
   "version": "3.8.5"
  }
 },
 "nbformat": 4,
 "nbformat_minor": 4
}
