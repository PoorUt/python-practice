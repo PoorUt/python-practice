{
 "cells": [
  {
   "cell_type": "code",
   "execution_count": 1,
   "metadata": {},
   "outputs": [
    {
     "name": "stdout",
     "output_type": "stream",
     "text": [
      " I am  20 years old\n"
     ]
    }
   ],
   "source": [
    "x = 20\n",
    "print(\" I am \", x, \"years old\")"
   ]
  },
  {
   "cell_type": "code",
   "execution_count": 2,
   "metadata": {},
   "outputs": [
    {
     "name": "stdout",
     "output_type": "stream",
     "text": [
      "I am 20years old\n"
     ]
    }
   ],
   "source": [
    "age = 20\n",
    "print(f'I am {age}years old')"
   ]
  },
  {
   "cell_type": "code",
   "execution_count": 3,
   "metadata": {},
   "outputs": [
    {
     "name": "stdout",
     "output_type": "stream",
     "text": [
      "I am learning Python version 3.8\n"
     ]
    }
   ],
   "source": [
    "l = 'Python'\n",
    "v = '3.8'\n",
    "print(f\"I am learning {l} version {v}\")"
   ]
  },
  {
   "cell_type": "code",
   "execution_count": 4,
   "metadata": {},
   "outputs": [
    {
     "name": "stdout",
     "output_type": "stream",
     "text": [
      "This costs 199.99\n"
     ]
    }
   ],
   "source": [
    "price = 199.99\n",
    "print(f\"This costs {price}\")"
   ]
  },
  {
   "cell_type": "code",
   "execution_count": 8,
   "metadata": {},
   "outputs": [
    {
     "name": "stdout",
     "output_type": "stream",
     "text": [
      "Price: $34.99. Weight:20lbs\n"
     ]
    }
   ],
   "source": [
    "Price = 34.99\n",
    "weight = 20\n",
    "print(f\"Price: ${Price}. Weight:{weight}lbs\")"
   ]
  },
  {
   "cell_type": "code",
   "execution_count": 11,
   "metadata": {},
   "outputs": [
    {
     "name": "stdout",
     "output_type": "stream",
     "text": [
      "pi:3.14\n"
     ]
    }
   ],
   "source": [
    "pi = 3.1415926535\n",
    "print(f\"pi:{pi:.2f}\")"
   ]
  },
  {
   "cell_type": "code",
   "execution_count": 12,
   "metadata": {},
   "outputs": [
    {
     "ename": "SyntaxError",
     "evalue": "invalid syntax (<ipython-input-12-14855bd9ea55>, line 1)",
     "output_type": "error",
     "traceback": [
      "\u001b[1;36m  File \u001b[1;32m\"<ipython-input-12-14855bd9ea55>\"\u001b[1;36m, line \u001b[1;32m1\u001b[0m\n\u001b[1;33m    print(pi:.2f)\u001b[0m\n\u001b[1;37m            ^\u001b[0m\n\u001b[1;31mSyntaxError\u001b[0m\u001b[1;31m:\u001b[0m invalid syntax\n"
     ]
    }
   ],
   "source": [
    "print(pi:.2f)"
   ]
  },
  {
   "cell_type": "code",
   "execution_count": 17,
   "metadata": {},
   "outputs": [
    {
     "name": "stdout",
     "output_type": "stream",
     "text": [
      "----------------------------------------\n",
      " version: 1.0.1\n",
      "----------------------------------------\n"
     ]
    }
   ],
   "source": [
    "version = str(\"1.0.1\")\n",
    "x = (\"----------------------------------------\")\n",
    "y = (\"----------------------------------------\")\n",
    "print(f\"{x}\\n version: {version}\\n{y}\")"
   ]
  },
  {
   "cell_type": "code",
   "execution_count": 18,
   "metadata": {},
   "outputs": [
    {
     "name": "stdout",
     "output_type": "stream",
     "text": [
      "----------------------------------------\n",
      " version: 1.0.1\n",
      "----------------------------------------\n"
     ]
    }
   ],
   "source": [
    "version = str(\"1.0.1\")\n",
    "x = '-'*40\n",
    "\n",
    "print(f\"{x}\\n version: {version}\\n{x}\")"
   ]
  },
  {
   "cell_type": "code",
   "execution_count": 20,
   "metadata": {},
   "outputs": [
    {
     "name": "stdout",
     "output_type": "stream",
     "text": [
      "========================================\n",
      " author: johnsmith@sample.com \n",
      " date:01-01-2021 \n",
      " ========================================\n"
     ]
    }
   ],
   "source": [
    "a = ('author: johnsmith@sample.com')\n",
    "d = ('date:01-01-2021')\n",
    "x = \"=\"*40\n",
    "print(f'{x}\\n {a} \\n {d} \\n {x}')\n"
   ]
  },
  {
   "cell_type": "code",
   "execution_count": 23,
   "metadata": {},
   "outputs": [
    {
     "name": "stdout",
     "output_type": "stream",
     "text": [
      "summer#time#holiday\n"
     ]
    }
   ],
   "source": [
    "sep = '#'\n",
    "print(f'summer{sep}time{sep}holiday')"
   ]
  },
  {
   "cell_type": "code",
   "execution_count": 24,
   "metadata": {},
   "outputs": [
    {
     "name": "stdout",
     "output_type": "stream",
     "text": [
      "summer#time#holiday\n"
     ]
    }
   ],
   "source": [
    "print('summer', 'time', 'holiday', sep='#')"
   ]
  },
  {
   "cell_type": "code",
   "execution_count": 26,
   "metadata": {},
   "outputs": [
    {
     "name": "stdout",
     "output_type": "stream",
     "text": [
      "summer#time#holiday\n"
     ]
    }
   ],
   "source": [
    "print('summer', 'time', 'holiday', sep = '#')"
   ]
  },
  {
   "cell_type": "code",
   "execution_count": 30,
   "metadata": {},
   "outputs": [
    {
     "name": "stdout",
     "output_type": "stream",
     "text": [
      "area is78.56.\n"
     ]
    }
   ],
   "source": [
    "radius = 5\n",
    "pi = 3.1423\n",
    "area = pi * radius**2\n",
    "print(f'area is{area:.2f}.')"
   ]
  },
  {
   "cell_type": "code",
   "execution_count": 40,
   "metadata": {},
   "outputs": [
    {
     "name": "stdout",
     "output_type": "stream",
     "text": [
      "3.46\n"
     ]
    }
   ],
   "source": [
    "x = 3.45678\n",
    "y=round(x,2)\n",
    "print(y)\n"
   ]
  },
  {
   "cell_type": "code",
   "execution_count": 53,
   "metadata": {},
   "outputs": [
    {
     "name": "stdout",
     "output_type": "stream",
     "text": [
      "enter the number of items in the sequence11\n",
      "a(1) = 14\n",
      "a(2) = 18\n",
      "a(3) = 22\n",
      "a(4) = 26\n",
      "a(5) = 30\n",
      "a(6) = 34\n",
      "a(7) = 38\n",
      "a(8) = 42\n",
      "a(9) = 46\n",
      "a(10) = 50\n",
      "[14, 18, 22, 26, 30, 34, 38, 42, 46, 50]\n",
      "The sum of the first 11 elements in the sequence is 320\n"
     ]
    }
   ],
   "source": [
    "n = int(input('enter the number of items in the sequence'))\n",
    "lst = []\n",
    "for i in range(1,n):\n",
    "        x = 10+4*i\n",
    "        print(f'a({i}) = {x}')\n",
    "        lst.append(x)\n",
    "print(lst)\n",
    "z = sum(lst)\n",
    "print(f'The sum of the first {n} elements in the sequence is {z}')\n"
   ]
  },
  {
   "cell_type": "code",
   "execution_count": 55,
   "metadata": {},
   "outputs": [
    {
     "name": "stdout",
     "output_type": "stream",
     "text": [
      "sum is 320.0\n"
     ]
    }
   ],
   "source": [
    "a1 = 14\n",
    "a10 = 50\n",
    "s = ((a1+a10)/2)*10\n",
    "print(f'sum is {s}')"
   ]
  },
  {
   "cell_type": "code",
   "execution_count": 56,
   "metadata": {},
   "outputs": [
    {
     "name": "stdout",
     "output_type": "stream",
     "text": [
      "enter the number of items in the sequence6\n",
      "a(1) = 8\n",
      "a(2) = 24\n",
      "a(3) = 56\n",
      "a(4) = 120\n",
      "a(5) = 248\n",
      "[8, 24, 56, 120, 248]\n",
      "The sum of the first 6 elements in the sequence is 456\n"
     ]
    }
   ],
   "source": [
    "n = int(input('enter the number of items in the sequence'))\n",
    "lst = []\n",
    "for i in range(1,n):\n",
    "        x = 8*(2**i-1)\n",
    "        print(f'a({i}) = {x}')\n",
    "        lst.append(x)\n",
    "print(lst)\n",
    "z = sum(lst)\n",
    "print(f'The sum of the first {n} elements in the sequence is {z}')\n"
   ]
  },
  {
   "cell_type": "code",
   "execution_count": 60,
   "metadata": {},
   "outputs": [
    {
     "name": "stdout",
     "output_type": "stream",
     "text": [
      "enter x coordinate of A: 6\n",
      "enter y coordinate of A: 10\n",
      "enter x coordinate of B: 12\n",
      "enter x coordinate of B: 20\n",
      "the coordinate of the middle point is (9.0,15.0)\n"
     ]
    }
   ],
   "source": [
    "a1 = int(input('enter x coordinate of A: '))\n",
    "a2 = int(input('enter y coordinate of A: '))\n",
    "b1 = int(input('enter x coordinate of B: '))\n",
    "b2 = int(input('enter x coordinate of B: '))\n",
    "m_x = (a1+b1)/2\n",
    "m_y = (a2+b2)/2\n",
    "print(f'the coordinate of the middle point is ({m_x},{m_y})')"
   ]
  },
  {
   "cell_type": "code",
   "execution_count": 61,
   "metadata": {},
   "outputs": [
    {
     "name": "stdout",
     "output_type": "stream",
     "text": [
      "geometric mean is 4.053600464421103\n"
     ]
    }
   ],
   "source": [
    "x1,x2,x3,x4 = 4,3,4.5,5\n",
    "gm = (x1*x2*x3*x4)**(1/4)\n",
    "print(f'geometric mean is {gm}')"
   ]
  },
  {
   "cell_type": "code",
   "execution_count": 84,
   "metadata": {},
   "outputs": [
    {
     "name": "stdout",
     "output_type": "stream",
     "text": [
      "2.0\n"
     ]
    }
   ],
   "source": [
    "#an infinite geometric sequence is given by 1,1/2,1/4/1/8....\n",
    "#find its sum. Sum = 2\n",
    "a1 = 1 \n",
    "a2 = 1/2\n",
    "q = a2/a1\n",
    "s = a1/(1-q)\n",
    "print(s)\n"
   ]
  },
  {
   "cell_type": "code",
   "execution_count": 90,
   "metadata": {},
   "outputs": [
    {
     "name": "stdout",
     "output_type": "stream",
     "text": [
      "0.816496580927726\n"
     ]
    }
   ],
   "source": [
    "import numpy as np\n",
    "lst = [10,11,9]\n",
    "y = np.std(lst)\n",
    "print(y)"
   ]
  },
  {
   "cell_type": "code",
   "execution_count": 97,
   "metadata": {},
   "outputs": [
    {
     "name": "stdout",
     "output_type": "stream",
     "text": [
      ".jpg\n"
     ]
    }
   ],
   "source": [
    "file_name = 'view.jpg'\n",
    "print(file_name[-4:])"
   ]
  },
  {
   "cell_type": "code",
   "execution_count": 105,
   "metadata": {},
   "outputs": [
    {
     "name": "stdout",
     "output_type": "stream",
     "text": [
      "pkv pln\n"
     ]
    }
   ],
   "source": [
    "string = 'pkv-89415-pln'\n",
    "code = string[0:3] +\" \"+ string[-3:]\n",
    "print(code)"
   ]
  },
  {
   "cell_type": "code",
   "execution_count": 111,
   "metadata": {},
   "outputs": [
    {
     "name": "stdout",
     "output_type": "stream",
     "text": [
      "100101\n"
     ]
    }
   ],
   "source": [
    "string = '1 0     0 1 0 1'\n",
    "u = \"\".join(string.split())\n",
    "print(u)\n"
   ]
  },
  {
   "cell_type": "code",
   "execution_count": 112,
   "metadata": {},
   "outputs": [
    {
     "data": {
      "text/plain": [
       "['1', '0', '0', '1', '0', '1']"
      ]
     },
     "execution_count": 112,
     "metadata": {},
     "output_type": "execute_result"
    }
   ],
   "source": [
    "string = '1 0     0 1 0 1'\n",
    "u = string.split()"
   ]
  },
  {
   "cell_type": "code",
   "execution_count": 115,
   "metadata": {},
   "outputs": [
    {
     "name": "stdout",
     "output_type": "stream",
     "text": [
      "100101\n"
     ]
    }
   ],
   "source": [
    "v = \"\".join(u)\n",
    "print(v)"
   ]
  },
  {
   "cell_type": "code",
   "execution_count": 119,
   "metadata": {},
   "outputs": [],
   "source": [
    "string = \"1 0 2 3 4 5\"\n",
    "v = \"\".join(string.split())"
   ]
  },
  {
   "cell_type": "code",
   "execution_count": 120,
   "metadata": {},
   "outputs": [
    {
     "name": "stdout",
     "output_type": "stream",
     "text": [
      "102345\n"
     ]
    }
   ],
   "source": [
    "print(v)"
   ]
  },
  {
   "cell_type": "code",
   "execution_count": 126,
   "metadata": {},
   "outputs": [
    {
     "name": "stdout",
     "output_type": "stream",
     "text": [
      "1,2,3,4,5\n"
     ]
    }
   ],
   "source": [
    "lst = ['1', '2','3', '4', '5']\n",
    "print(','.join(lst))"
   ]
  },
  {
   "cell_type": "code",
   "execution_count": 130,
   "metadata": {},
   "outputs": [
    {
     "name": "stdout",
     "output_type": "stream",
     "text": [
      "['1', '6', '7', '3', '4', '5', '6', '8', '7', '9']\n",
      "1673456879\n"
     ]
    }
   ],
   "source": [
    "x = \"1   6     7      3 4    5   6 8 7 9\"\n",
    "y = x.split()\n",
    "print(y)\n",
    "print(\"\".join(y))"
   ]
  },
  {
   "cell_type": "code",
   "execution_count": 131,
   "metadata": {},
   "outputs": [
    {
     "name": "stdout",
     "output_type": "stream",
     "text": [
      "1234500060744\n"
     ]
    }
   ],
   "source": [
    "z = \"1  2   3  4 5    0 0    0    6   07    4  4\"\n",
    "p = z.split()\n",
    "print(''.join(p))"
   ]
  },
  {
   "cell_type": "code",
   "execution_count": 137,
   "metadata": {},
   "outputs": [
    {
     "name": "stdout",
     "output_type": "stream",
     "text": [
      "e s r u o c   n o h t y p "
     ]
    }
   ],
   "source": [
    "#reverse the order of the characters\n",
    "text = 'python course'\n",
    "y = reversed(text)\n",
    "for i in (y):\n",
    "    print(i, end=\" \")"
   ]
  },
  {
   "cell_type": "code",
   "execution_count": 143,
   "metadata": {},
   "outputs": [
    {
     "name": "stdout",
     "output_type": "stream",
     "text": [
      "tnos\n"
     ]
    }
   ],
   "source": [
    "text = 'python course'\n",
    "print(text[2::3])"
   ]
  },
  {
   "cell_type": "code",
   "execution_count": 147,
   "metadata": {},
   "outputs": [
    {
     "name": "stdout",
     "output_type": "stream",
     "text": [
      "<class 'str'>\n",
      "<class 'str'>\n",
      "<class 'str'>\n"
     ]
    }
   ],
   "source": [
    "var1 = \"x\"\n",
    "var2 = \"xx \"\n",
    "var3 = \"s\\n\"\n",
    "print(type(var1))\n",
    "print(type(var2))\n",
    "print(type(var3))"
   ]
  },
  {
   "cell_type": "code",
   "execution_count": 148,
   "metadata": {},
   "outputs": [
    {
     "name": "stdout",
     "output_type": "stream",
     "text": [
      "<class 'NoneType'>\n",
      "<class 'bool'>\n",
      "<class 'str'>\n"
     ]
    }
   ],
   "source": [
    "var1 = None\n",
    "var2 = False\n",
    "Var3 = 'True'\n",
    "print(type(var1))\n",
    "print(type(var2))\n",
    "print(type(var3))"
   ]
  },
  {
   "cell_type": "code",
   "execution_count": 149,
   "metadata": {},
   "outputs": [
    {
     "data": {
      "text/plain": [
       "bool"
      ]
     },
     "execution_count": 149,
     "metadata": {},
     "output_type": "execute_result"
    }
   ],
   "source": [
    "Flag = False\n",
    "type(Flag)"
   ]
  },
  {
   "cell_type": "code",
   "execution_count": 150,
   "metadata": {},
   "outputs": [
    {
     "name": "stdout",
     "output_type": "stream",
     "text": [
      "True\n"
     ]
    }
   ],
   "source": [
    "Flag = False\n",
    "print(isinstance(Flag, bool))"
   ]
  },
  {
   "cell_type": "code",
   "execution_count": 160,
   "metadata": {},
   "outputs": [
    {
     "name": "stdout",
     "output_type": "stream",
     "text": [
      "['python', 'is', 'a', 'popular', 'programming', 'language']\n",
      "Python Is A Popular Programming Language "
     ]
    }
   ],
   "source": [
    "text = 'python is a popular programming language'\n",
    "y = text.split()\n",
    "print(y)\n",
    "for i in y:\n",
    "    print(i.capitalize(), end =\" \")\n",
    "    "
   ]
  },
  {
   "cell_type": "code",
   "execution_count": 163,
   "metadata": {},
   "outputs": [
    {
     "name": "stdout",
     "output_type": "stream",
     "text": [
      "4\n"
     ]
    }
   ],
   "source": [
    "text = 'python is a popular programming language'\n",
    "count=0\n",
    "for i in text:\n",
    "    if i=='p':\n",
    "        count+=1\n",
    "    else:\n",
    "        pass\n",
    "print(count)"
   ]
  },
  {
   "cell_type": "code",
   "execution_count": 168,
   "metadata": {},
   "outputs": [
    {
     "name": "stdout",
     "output_type": "stream",
     "text": [
      "number of occurences of \"p\" is:  4\n",
      "number of occurences of \"p\" is: 4\n"
     ]
    }
   ],
   "source": [
    "text = 'python is a popular programming language'\n",
    "print('number of occurences of \"p\" is: ',text.count('p'))\n",
    "print(f'number of occurences of \"p\" is: {text.count(\"p\")}')"
   ]
  },
  {
   "cell_type": "code",
   "execution_count": 172,
   "metadata": {},
   "outputs": [
    {
     "name": "stdout",
     "output_type": "stream",
     "text": [
      "['FVNISJND', 'XX', '2020']\n",
      "['FVNISJND', 'XY', '2019']\n",
      "yes \"2020\" is present in code1\n"
     ]
    }
   ],
   "source": [
    "code1 = 'FVNISJND-XX-2020'\n",
    "code2 = 'FVNISJND-XY-2019'\n",
    "y = code1.split('-')\n",
    "z = code2.split('-')\n",
    "print(y)\n",
    "print(z)\n",
    "for i in y:\n",
    "    if i=='2020':\n",
    "        print('yes \"2020\" is present in code1')\n",
    "    else:\n",
    "        pass\n",
    "for j in z:\n",
    "    if j=='2020':\n",
    "        print('yes \"2020\" is present in code1')\n",
    "    else:\n",
    "        pass"
   ]
  },
  {
   "cell_type": "code",
   "execution_count": 174,
   "metadata": {},
   "outputs": [
    {
     "name": "stdout",
     "output_type": "stream",
     "text": [
      "yes \"2020\" is present in code1\n"
     ]
    }
   ],
   "source": [
    "code1 = 'FVNISJND-XX-2020'\n",
    "code2 = 'FVNISJND-XY-2019'\n",
    "if code1.endswith('2020')==True:\n",
    "    print('yes \"2020\" is present in code1')\n",
    "if code2.endswith('2020')==True:\n",
    "    print('yes \"2020\" is present in code2')"
   ]
  },
  {
   "cell_type": "code",
   "execution_count": 175,
   "metadata": {},
   "outputs": [
    {
     "name": "stdout",
     "output_type": "stream",
     "text": [
      "yes path1 is for you tube\n"
     ]
    }
   ],
   "source": [
    "path1 = 'youtube.com/watch?v=5EhRztVxums'\n",
    "path2 = 'google.com/search?q=car'\n",
    "if path1.startswith('youtube')==True:\n",
    "    print('yes path1 is for you tube')\n",
    "if path2.startswith('youtube')==True:\n",
    "    print('yes path2 is for you tube')\n",
    "    "
   ]
  },
  {
   "cell_type": "code",
   "execution_count": 179,
   "metadata": {},
   "outputs": [
    {
     "name": "stdout",
     "output_type": "stream",
     "text": [
      "yes \"scientist\" is in path 1\n",
      "yes \"scientist\" is in path 2\n"
     ]
    }
   ],
   "source": [
    "path1 = 'https://e-smartdata.teachable.com/p/sciezka-data-scientist-machine-learning-engineer'\n",
    "path2 = 'https://e-smartdata.teachable.com/p/sciezka-data-scientist-deep-learning-engineer'\n",
    "path3 = 'https://e-smartdata.teachable.com/p/sciezka-bi-analyst-data-analyst'\n",
    "s = 'scientist'\n",
    "if s in path1:\n",
    "    print(f'yes \"{s}\" is in path 1')\n",
    "if s in path2:\n",
    "    print(f'yes \"{s}\" is in path 2')\n",
    "if s in path3:\n",
    "    print(f'yes \"{s}\" is in path 3')"
   ]
  },
  {
   "cell_type": "code",
   "execution_count": 187,
   "metadata": {},
   "outputs": [
    {
     "name": "stdout",
     "output_type": "stream",
     "text": [
      "path1:49\n",
      "path2:49\n",
      "path3:-1\n"
     ]
    }
   ],
   "source": [
    "path1 = 'https://e-smartdata.teachable.com/p/sciezka-data-scientist-machine-learning-engineer'\n",
    "path2 = 'https://e-smartdata.teachable.com/p/sciezka-data-scientist-deep-learning-engineer'\n",
    "path3 = 'https://e-smartdata.teachable.com/p/sciezka-bi-analyst-data-analyst'\n",
    "print(f'path1:{path1.find(\"scientist\")}')\n",
    "print(f'path2:{path2.find(\"scientist\")}')\n",
    "print(f'path3:{path3.find(\"scientist\")}')"
   ]
  },
  {
   "cell_type": "code",
   "execution_count": 191,
   "metadata": {},
   "outputs": [
    {
     "name": "stdout",
     "output_type": "stream",
     "text": [
      "6\n"
     ]
    }
   ],
   "source": [
    "x = \"Hello baba. How are you. take care of your health. I miss you.\"\n",
    "print(x.find('baba'))"
   ]
  },
  {
   "cell_type": "code",
   "execution_count": 193,
   "metadata": {},
   "outputs": [
    {
     "data": {
      "text/plain": [
       "True"
      ]
     },
     "execution_count": 193,
     "metadata": {},
     "output_type": "execute_result"
    }
   ],
   "source": [
    "code1 = 'FVNISJND-20'\n",
    "code2 = 'FVNISJND20'\n",
    "code1.isalnum()\n",
    "code2.isalnum()"
   ]
  },
  {
   "cell_type": "code",
   "execution_count": 194,
   "metadata": {},
   "outputs": [
    {
     "data": {
      "text/plain": [
       "'google colab'"
      ]
     },
     "execution_count": 194,
     "metadata": {},
     "output_type": "execute_result"
    }
   ],
   "source": [
    "text = 'Google Colab'\n",
    "text.lower()"
   ]
  },
  {
   "cell_type": "code",
   "execution_count": 195,
   "metadata": {},
   "outputs": [
    {
     "name": "stdout",
     "output_type": "stream",
     "text": [
      "Google Colab\n"
     ]
    }
   ],
   "source": [
    "text = '  Google Colab   '\n",
    "print(text.strip())"
   ]
  },
  {
   "cell_type": "code",
   "execution_count": 198,
   "metadata": {},
   "outputs": [
    {
     "name": "stdout",
     "output_type": "stream",
     "text": [
      "FVNISJND  *  XX\n"
     ]
    }
   ],
   "source": [
    "code = 'FVNISJND-XX'\n",
    "print(code.replace('-',\"  *  \"))"
   ]
  },
  {
   "cell_type": "code",
   "execution_count": 202,
   "metadata": {},
   "outputs": [
    {
     "name": "stdout",
     "output_type": "stream",
     "text": [
      "34023245235\n"
     ]
    }
   ],
   "source": [
    "text = '340-23-245-235'\n",
    "print(text.replace('-',\"\"))"
   ]
  },
  {
   "cell_type": "code",
   "execution_count": 210,
   "metadata": {},
   "outputs": [
    {
     "name": "stdout",
     "output_type": "stream",
     "text": [
      "['Open', 'High', 'Low', 'Close']\n"
     ]
    }
   ],
   "source": [
    "text = 'Open,High,Low,Close'\n",
    "x = text.split(',')\n",
    "print(x)"
   ]
  },
  {
   "cell_type": "code",
   "execution_count": 221,
   "metadata": {},
   "outputs": [
    {
     "name": "stdout",
     "output_type": "stream",
     "text": [
      "['Python is a general-purpose language.', 'Python is popular.', 'how is it?']\n"
     ]
    }
   ],
   "source": [
    "text = \"\"\"Python is a general-purpose language.\n",
    "Python is popular.\n",
    "how is it?\"\"\"\n",
    "x = text.splitlines()\n",
    "print(x)"
   ]
  },
  {
   "cell_type": "code",
   "execution_count": 228,
   "metadata": {},
   "outputs": [
    {
     "name": "stdout",
     "output_type": "stream",
     "text": [
      "000034\n"
     ]
    }
   ],
   "source": [
    "num = 34\n",
    "print(str(num).zfill(6))"
   ]
  },
  {
   "cell_type": "code",
   "execution_count": 246,
   "metadata": {},
   "outputs": [
    {
     "name": "stdout",
     "output_type": "stream",
     "text": [
      "sciezka data scientist machine learning engineer\n"
     ]
    }
   ],
   "source": [
    "url = 'https://e-smartdata.teachable.com/p/sciezka-data-scientist-machine-learning-engineer'\n",
    "name = url.split('/')[-1]\n",
    "name = name.replace('-',' ')\n",
    "print(name)"
   ]
  },
  {
   "cell_type": "code",
   "execution_count": 240,
   "metadata": {},
   "outputs": [
    {
     "name": "stdout",
     "output_type": "stream",
     "text": [
      "https:e-smartdata.teachable.compsciezka-data-scientist-machine-learning-engineer\n"
     ]
    }
   ],
   "source": [
    "url = 'https://e-smartdata.teachable.com/p/sciezka-data-scientist-machine-learning-engineer'\n",
    "name = url.replace('/','')\n",
    "# name = name.replace('-',' ')\n",
    "print(name)"
   ]
  },
  {
   "cell_type": "code",
   "execution_count": 251,
   "metadata": {},
   "outputs": [
    {
     "name": "stdout",
     "output_type": "stream",
     "text": [
      "{'mathematics', 'english', 'biology'}\n"
     ]
    }
   ],
   "source": [
    "#sets\n",
    "subjects = {'mathematics', 'biology'}\n",
    "subjects.add('english')\n",
    "print(subjects)"
   ]
  },
  {
   "cell_type": "code",
   "execution_count": 258,
   "metadata": {},
   "outputs": [
    {
     "name": "stdout",
     "output_type": "stream",
     "text": [
      "programming in python.\n",
      "{'p', 'g', 'n', 'a', 'm', 'i', 'h', 'o', 'y', 't', 'r'}\n",
      "8\n"
     ]
    }
   ],
   "source": [
    "text = 'Programming in python.'\n",
    "vowels = {'a', 'e', 'i', 'o', 'u'}\n",
    "text = text.lower()\n",
    "print(text)\n",
    "text = text.replace(\" \",\"\")\n",
    "text = text.replace('.','')\n",
    "letters = set(text)\n",
    "print(letters)\n",
    "consonants = letters.difference(vowels)\n",
    "print(len(consonants))"
   ]
  },
  {
   "cell_type": "code",
   "execution_count": 261,
   "metadata": {},
   "outputs": [
    {
     "name": "stdout",
     "output_type": "stream",
     "text": [
      "programming in python.\n",
      "{'p', 'g', 'n', 'a', 'm', 'i', 'h', 'o', 'y', 't', 'r'}\n",
      "p, g, n, m, h, y, t, r, "
     ]
    }
   ],
   "source": [
    "text = 'Programming in python.'\n",
    "vowels = {'a', 'e', 'i', 'o', 'u'}\n",
    "text = text.lower()\n",
    "print(text)\n",
    "text = text.replace(\" \",\"\")\n",
    "text = text.replace('.','')\n",
    "letters = set(text)\n",
    "print(letters)\n",
    "for i in letters:\n",
    "    if i in vowels:\n",
    "        pass\n",
    "    else:\n",
    "        print(i, end=\", \")"
   ]
  },
  {
   "cell_type": "code",
   "execution_count": 263,
   "metadata": {},
   "outputs": [
    {
     "name": "stdout",
     "output_type": "stream",
     "text": [
      "{2, 6, 8, 10}\n"
     ]
    }
   ],
   "source": [
    "A = {2, 4, 6, 8}\n",
    "B = {4, 10}\n",
    "y = A.symmetric_difference(B)\n",
    "print(y)"
   ]
  },
  {
   "cell_type": "code",
   "execution_count": 264,
   "metadata": {},
   "outputs": [
    {
     "name": "stdout",
     "output_type": "stream",
     "text": [
      "{'001', '007'}\n"
     ]
    }
   ],
   "source": [
    "ad1_id = {'001', '002', '003'}\n",
    "ad2_id = {'002', '003', '007'}\n",
    "y = ad1_id.symmetric_difference(ad2_id)\n",
    "print(y)"
   ]
  },
  {
   "cell_type": "code",
   "execution_count": 266,
   "metadata": {},
   "outputs": [
    {
     "name": "stdout",
     "output_type": "stream",
     "text": [
      "{'9002', '9005'}\n"
     ]
    }
   ],
   "source": [
    "is_clicked = {'9001', '9002', '9005'}\n",
    "is_bought = {'9002', '9004', '9005'}\n",
    "y = is_clicked.intersection(is_bought)\n",
    "print(y)"
   ]
  },
  {
   "cell_type": "markdown",
   "metadata": {},
   "source": [
    "# Tuples"
   ]
  },
  {
   "cell_type": "code",
   "execution_count": 272,
   "metadata": {},
   "outputs": [
    {
     "name": "stdout",
     "output_type": "stream",
     "text": [
      "(('AAPL.US', 'IBM.US', 'MSFT.US'), ('HD.US', 'GS.US', 'NKE.US'))\n"
     ]
    }
   ],
   "source": [
    "dji1 = ('AAPL.US', 'IBM.US', 'MSFT.US')\n",
    "dji2 = ('HD.US', 'GS.US', 'NKE.US')\n",
    "x = (dji1,dji2)\n",
    "print(x)"
   ]
  },
  {
   "cell_type": "code",
   "execution_count": 273,
   "metadata": {},
   "outputs": [],
   "source": [
    "#tuples are immutable\n"
   ]
  },
  {
   "cell_type": "code",
   "execution_count": 282,
   "metadata": {},
   "outputs": [
    {
     "name": "stdout",
     "output_type": "stream",
     "text": [
      "(('Kate', 23), ('john', 26), ('Tom', 19))\n"
     ]
    }
   ],
   "source": [
    "members = (('Kate', 23), ('Tom', 19))\n",
    "new_tup = (members[0], ('john',26), members[1])\n",
    "print(new_tup)"
   ]
  },
  {
   "cell_type": "code",
   "execution_count": 284,
   "metadata": {},
   "outputs": [
    {
     "data": {
      "text/plain": [
       "2"
      ]
     },
     "execution_count": 284,
     "metadata": {},
     "output_type": "execute_result"
    }
   ],
   "source": [
    "default = ('YES', 'NO', 'NO', 'YES', 'NO')\n",
    "default.count('YES')"
   ]
  },
  {
   "cell_type": "code",
   "execution_count": 288,
   "metadata": {},
   "outputs": [
    {
     "data": {
      "text/plain": [
       "('John', 'Michael', 'Monica', 'Tom')"
      ]
     },
     "execution_count": 288,
     "metadata": {},
     "output_type": "execute_result"
    }
   ],
   "source": [
    "names = ('Monica', 'Tom', 'John', 'Michael')\n",
    "tuple(sorted(names))"
   ]
  },
  {
   "cell_type": "code",
   "execution_count": 292,
   "metadata": {},
   "outputs": [
    {
     "name": "stdout",
     "output_type": "stream",
     "text": [
      "('John', 'Michael', 'Monica', 'Tom')\n"
     ]
    }
   ],
   "source": [
    "names = ('Monica', 'Tom', 'John', 'Michael')\n",
    "x = tuple(sorted(names))\n",
    "print(x)"
   ]
  },
  {
   "cell_type": "code",
   "execution_count": 296,
   "metadata": {},
   "outputs": [
    {
     "name": "stdout",
     "output_type": "stream",
     "text": [
      "(('John', 18), ('Monica', 19), ('Tom', 21))\n",
      "(('Tom', 21), ('Monica', 19), ('John', 18))\n"
     ]
    }
   ],
   "source": [
    "info = (('Monica', 19), ('Tom', 21), ('John', 18))\n",
    "ass = tuple(sorted(info))\n",
    "des = tuple(sorted(info, reverse = True))\n",
    "print(ass)\n",
    "print(des)"
   ]
  },
  {
   "cell_type": "code",
   "execution_count": 297,
   "metadata": {},
   "outputs": [
    {
     "name": "stdout",
     "output_type": "stream",
     "text": [
      "AAPL.US\n"
     ]
    }
   ],
   "source": [
    "stocks = (('Apple Inc', ('AAPL.US', 310)), ('Microsoft Corp', ('MSFT.US', 184)))\n",
    "print(stocks[0][1][0])"
   ]
  },
  {
   "cell_type": "code",
   "execution_count": null,
   "metadata": {},
   "outputs": [],
   "source": []
  }
 ],
 "metadata": {
  "kernelspec": {
   "display_name": "Python 3",
   "language": "python",
   "name": "python3"
  },
  "language_info": {
   "codemirror_mode": {
    "name": "ipython",
    "version": 3
   },
   "file_extension": ".py",
   "mimetype": "text/x-python",
   "name": "python",
   "nbconvert_exporter": "python",
   "pygments_lexer": "ipython3",
   "version": "3.8.5"
  }
 },
 "nbformat": 4,
 "nbformat_minor": 4
}
