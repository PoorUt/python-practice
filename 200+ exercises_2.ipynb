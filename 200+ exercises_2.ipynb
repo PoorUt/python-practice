{
 "cells": [
  {
   "cell_type": "code",
   "execution_count": 1,
   "metadata": {},
   "outputs": [
    {
     "name": "stdout",
     "output_type": "stream",
     "text": [
      "AAPL.US\n"
     ]
    }
   ],
   "source": [
    "stocks = (('Apple Inc', ('AAPL.US', 310)), ('Microsoft Corp', ('MSFT.US', 184)))\n",
    "print(stocks[0][1][0])"
   ]
  },
  {
   "cell_type": "code",
   "execution_count": 3,
   "metadata": {},
   "outputs": [
    {
     "name": "stdout",
     "output_type": "stream",
     "text": [
      "['Los Angeles', 'New York', 'Chicago', 'Houston']\n"
     ]
    }
   ],
   "source": [
    "cities = ['Los Angeles', 'New York', 'Chicago']\n",
    "cities.append('Houston')\n",
    "print(cities)"
   ]
  },
  {
   "cell_type": "code",
   "execution_count": 9,
   "metadata": {},
   "outputs": [
    {
     "name": "stdout",
     "output_type": "stream",
     "text": [
      "number of occurences of \"001\" is 3\n"
     ]
    }
   ],
   "source": [
    "idx = ['001', '002', '001', '003', '001']\n",
    "x=idx.count('001')\n",
    "print(f'number of occurences of \"001\" is {x}')"
   ]
  },
  {
   "cell_type": "code",
   "execution_count": 11,
   "metadata": {},
   "outputs": [
    {
     "name": "stdout",
     "output_type": "stream",
     "text": [
      "tyu\n"
     ]
    }
   ],
   "source": [
    "c = \"TYU\"\n",
    "print(c.lower())"
   ]
  },
  {
   "cell_type": "code",
   "execution_count": 71,
   "metadata": {},
   "outputs": [
    {
     "ename": "TypeError",
     "evalue": "'list' object is not callable",
     "output_type": "error",
     "traceback": [
      "\u001b[1;31m---------------------------------------------------------------------------\u001b[0m",
      "\u001b[1;31mTypeError\u001b[0m                                 Traceback (most recent call last)",
      "\u001b[1;32m<ipython-input-71-3927b3915d94>\u001b[0m in \u001b[0;36m<module>\u001b[1;34m\u001b[0m\n\u001b[0;32m      1\u001b[0m \u001b[0mtext\u001b[0m \u001b[1;33m=\u001b[0m \u001b[1;34m'Python programming'\u001b[0m\u001b[1;33m\u001b[0m\u001b[1;33m\u001b[0m\u001b[0m\n\u001b[0;32m      2\u001b[0m \u001b[0mtext\u001b[0m \u001b[1;33m=\u001b[0m \u001b[0mtext\u001b[0m\u001b[1;33m.\u001b[0m\u001b[0mlower\u001b[0m\u001b[1;33m(\u001b[0m\u001b[1;33m)\u001b[0m\u001b[1;33m\u001b[0m\u001b[1;33m\u001b[0m\u001b[0m\n\u001b[1;32m----> 3\u001b[1;33m \u001b[0mcharacters\u001b[0m \u001b[1;33m=\u001b[0m \u001b[0mlist\u001b[0m\u001b[1;33m(\u001b[0m\u001b[0mset\u001b[0m\u001b[1;33m(\u001b[0m\u001b[0mtext\u001b[0m\u001b[1;33m)\u001b[0m\u001b[1;33m)\u001b[0m\u001b[1;33m\u001b[0m\u001b[1;33m\u001b[0m\u001b[0m\n\u001b[0m\u001b[0;32m      4\u001b[0m \u001b[0mcharacters\u001b[0m\u001b[1;33m.\u001b[0m\u001b[0mremove\u001b[0m\u001b[1;33m(\u001b[0m\u001b[1;34m' '\u001b[0m\u001b[1;33m)\u001b[0m\u001b[1;33m\u001b[0m\u001b[1;33m\u001b[0m\u001b[0m\n\u001b[0;32m      5\u001b[0m \u001b[0mcharacters\u001b[0m\u001b[1;33m.\u001b[0m\u001b[0msort\u001b[0m\u001b[1;33m(\u001b[0m\u001b[1;33m)\u001b[0m\u001b[1;33m\u001b[0m\u001b[1;33m\u001b[0m\u001b[0m\n",
      "\u001b[1;31mTypeError\u001b[0m: 'list' object is not callable"
     ]
    }
   ],
   "source": [
    "text = 'Python programming'\n",
    "text = text.lower()\n",
    "characters = list(set(text))\n",
    "characters.remove(' ')\n",
    "characters.sort()\n",
    "print(characters)\n",
    "\n",
    "\n"
   ]
  },
  {
   "cell_type": "code",
   "execution_count": 76,
   "metadata": {},
   "outputs": [
    {
     "name": "stdout",
     "output_type": "stream",
     "text": [
      "['phone.jpg', 'view.jpg', 'bear.jpg']\n"
     ]
    }
   ],
   "source": [
    "filenames = ['view.jpg', 'bear.jpg', 'ball.png']\n",
    "filenames.insert(0,'phone.jpg')\n",
    "filenames.remove('ball.png')\n",
    "print(filenames)"
   ]
  },
  {
   "cell_type": "code",
   "execution_count": 81,
   "metadata": {},
   "outputs": [
    {
     "data": {
      "text/plain": [
       "['4231', '5234', '1345', '2455', '3984', '9042', '4829', '2380']"
      ]
     },
     "execution_count": 81,
     "metadata": {},
     "output_type": "execute_result"
    }
   ],
   "source": [
    "day1 = ['3984', '9042', '4829', '2380']\n",
    "day2 = ['4231', '5234', '1345', '2455']\n",
    "day2.extend(day1)\n",
    "day2"
   ]
  },
  {
   "cell_type": "code",
   "execution_count": 86,
   "metadata": {},
   "outputs": [
    {
     "data": {
      "text/plain": [
       "('aws', 'java', 'python', 'sql')"
      ]
     },
     "execution_count": 86,
     "metadata": {},
     "output_type": "execute_result"
    }
   ],
   "source": [
    "techs = ('python', 'java', 'sql', 'aws')\n",
    "techs = tuple(sorted(techs))\n",
    "\n",
    "techs\n",
    "    "
   ]
  },
  {
   "cell_type": "code",
   "execution_count": 87,
   "metadata": {},
   "outputs": [],
   "source": [
    "hashtags = ['summer', 'time', 'vibes']"
   ]
  },
  {
   "cell_type": "code",
   "execution_count": 90,
   "metadata": {},
   "outputs": [
    {
     "name": "stdout",
     "output_type": "stream",
     "text": [
      "# summer#time#vibes\n"
     ]
    }
   ],
   "source": [
    "print('#', '#'.join(hashtags))"
   ]
  },
  {
   "cell_type": "code",
   "execution_count": 91,
   "metadata": {},
   "outputs": [
    {
     "name": "stdout",
     "output_type": "stream",
     "text": [
      "{'USA': 'Washington', 'Germany': 'Berlin', 'Austria': 'Vienna'}\n"
     ]
    }
   ],
   "source": [
    "dict = {'USA': 'Washington',\n",
    "        'Germany':'Berlin',\n",
    "        'Austria':'Vienna'\n",
    "    \n",
    "}\n",
    "print(dict)"
   ]
  },
  {
   "cell_type": "code",
   "execution_count": 97,
   "metadata": {},
   "outputs": [
    {
     "name": "stdout",
     "output_type": "stream",
     "text": [
      "dict_keys(['USA', 'Germany', 'Austria'])\n"
     ]
    }
   ],
   "source": [
    "print(dict.keys())"
   ]
  },
  {
   "cell_type": "code",
   "execution_count": 100,
   "metadata": {},
   "outputs": [
    {
     "name": "stdout",
     "output_type": "stream",
     "text": [
      "dict_items([('USA', 'Washington'), ('Germany', 'Berlin'), ('Austria', 'Vienna')])\n"
     ]
    }
   ],
   "source": [
    "print(dict.items())"
   ]
  },
  {
   "cell_type": "code",
   "execution_count": 101,
   "metadata": {},
   "outputs": [
    {
     "data": {
      "text/plain": [
       "'Vienna'"
      ]
     },
     "execution_count": 101,
     "metadata": {},
     "output_type": "execute_result"
    }
   ],
   "source": [
    "dict.get('Austria')"
   ]
  },
  {
   "cell_type": "code",
   "execution_count": 104,
   "metadata": {},
   "outputs": [
    {
     "data": {
      "text/plain": [
       "{'Apple Inc': 310}"
      ]
     },
     "execution_count": 104,
     "metadata": {},
     "output_type": "execute_result"
    }
   ],
   "source": [
    "stocks = {\n",
    "    'MSFT.US': {'Microsoft Corp': 184},\n",
    "    'AAPL.US': {'Apple Inc': 310},\n",
    "    'MMM.US': {'3M Co': 148}\n",
    "}\n",
    "stocks.get('AAPL.US')"
   ]
  },
  {
   "cell_type": "code",
   "execution_count": 106,
   "metadata": {},
   "outputs": [
    {
     "name": "stdout",
     "output_type": "stream",
     "text": [
      "{'Apple Inc': 310}\n"
     ]
    }
   ],
   "source": [
    "print(stocks['AAPL.US'])"
   ]
  },
  {
   "cell_type": "code",
   "execution_count": 115,
   "metadata": {},
   "outputs": [
    {
     "name": "stdout",
     "output_type": "stream",
     "text": [
      "184\n"
     ]
    }
   ],
   "source": [
    "stocks = {\n",
    "    'MSFT.US': {'Microsoft Corp': 184},\n",
    "    'AAPL.US': {'Apple Inc': 310},\n",
    "    'MMM.US': {'3M Co': 148}\n",
    "}\n",
    "print(stocks['MSFT.US']['Microsoft Corp'])"
   ]
  },
  {
   "cell_type": "code",
   "execution_count": 117,
   "metadata": {},
   "outputs": [
    {
     "name": "stdout",
     "output_type": "stream",
     "text": [
      "{'MSFT.US': {'Microsoft Corp': 190}, 'AAPL.US': {'Apple Inc': 310}, 'MMM.US': {'3M Co': 148}}\n"
     ]
    }
   ],
   "source": [
    "stocks = {\n",
    "    'MSFT.US': {'Microsoft Corp': 184},\n",
    "    'AAPL.US': {'Apple Inc': 310},\n",
    "    'MMM.US': {'3M Co': 148}\n",
    "}\n",
    "stocks['MSFT.US']['Microsoft Corp'] = 190\n",
    "print(stocks)"
   ]
  },
  {
   "cell_type": "code",
   "execution_count": 119,
   "metadata": {},
   "outputs": [
    {
     "name": "stdout",
     "output_type": "stream",
     "text": [
      "{'Microsoft Corp': 190}\n"
     ]
    }
   ],
   "source": [
    "print(stocks['MSFT.US'])"
   ]
  },
  {
   "cell_type": "code",
   "execution_count": 126,
   "metadata": {},
   "outputs": [
    {
     "name": "stdout",
     "output_type": "stream",
     "text": [
      "{'MSFT.US': {'Microsoft Corp': 184}, 'AAPL.US': {'Apple Inc': 310}, 'MMM.US': {'3M Co': 148}, 'V.US': {'Visa Inc': '185'}}\n"
     ]
    }
   ],
   "source": [
    "stocks = {\n",
    "    'MSFT.US': {'Microsoft Corp': 184},\n",
    "    'AAPL.US': {'Apple Inc': 310},\n",
    "    'MMM.US': {'3M Co': 148}\n",
    "}\n",
    "stocks['V.US']= {'Visa Inc':'185'}\n",
    "print(stocks)"
   ]
  },
  {
   "cell_type": "code",
   "execution_count": 132,
   "metadata": {},
   "outputs": [
    {
     "data": {
      "text/plain": [
       "[(0, 'AAPL.US'),\n",
       " (1, 'AXP.US'),\n",
       " (2, 'BA.US'),\n",
       " (3, 'CAT.US'),\n",
       " (4, 'CSCO.US'),\n",
       " (5, 'CVX.US'),\n",
       " (6, 'DIS.US'),\n",
       " (7, 'DOW.US'),\n",
       " (8, 'GS.US'),\n",
       " (9, 'HD.US'),\n",
       " (10, 'IBM.US'),\n",
       " (11, 'INTC.US')]"
      ]
     },
     "execution_count": 132,
     "metadata": {},
     "output_type": "execute_result"
    }
   ],
   "source": [
    "tickers = [\n",
    "    'AAPL.US', 'AXP.US', 'BA.US', 'CAT.US',\n",
    "    'CSCO.US', 'CVX.US', 'DIS.US', 'DOW.US',\n",
    "    'GS.US', 'HD.US', 'IBM.US', 'INTC.US'\n",
    "]\n",
    "list(enumerate(tickers))"
   ]
  },
  {
   "cell_type": "code",
   "execution_count": 137,
   "metadata": {},
   "outputs": [
    {
     "ename": "TypeError",
     "evalue": "'dict' object is not callable",
     "output_type": "error",
     "traceback": [
      "\u001b[1;31m---------------------------------------------------------------------------\u001b[0m",
      "\u001b[1;31mTypeError\u001b[0m                                 Traceback (most recent call last)",
      "\u001b[1;32m<ipython-input-137-50a5dbcc59ce>\u001b[0m in \u001b[0;36m<module>\u001b[1;34m\u001b[0m\n\u001b[0;32m      4\u001b[0m     \u001b[1;34m'GS.US'\u001b[0m\u001b[1;33m,\u001b[0m \u001b[1;34m'HD.US'\u001b[0m\u001b[1;33m,\u001b[0m \u001b[1;34m'IBM.US'\u001b[0m\u001b[1;33m,\u001b[0m \u001b[1;34m'INTC.US'\u001b[0m\u001b[1;33m\u001b[0m\u001b[1;33m\u001b[0m\u001b[0m\n\u001b[0;32m      5\u001b[0m ]\n\u001b[1;32m----> 6\u001b[1;33m \u001b[0mprint\u001b[0m\u001b[1;33m(\u001b[0m\u001b[0mdict\u001b[0m\u001b[1;33m(\u001b[0m\u001b[0menumerate\u001b[0m\u001b[1;33m(\u001b[0m\u001b[0mtickers\u001b[0m\u001b[1;33m)\u001b[0m\u001b[1;33m)\u001b[0m\u001b[1;33m)\u001b[0m\u001b[1;33m\u001b[0m\u001b[1;33m\u001b[0m\u001b[0m\n\u001b[0m",
      "\u001b[1;31mTypeError\u001b[0m: 'dict' object is not callable"
     ]
    }
   ],
   "source": [
    "tickers = [\n",
    "    'AAPL.US', 'AXP.US', 'BA.US', 'CAT.US',\n",
    "    'CSCO.US', 'CVX.US', 'DIS.US', 'DOW.US',\n",
    "    'GS.US', 'HD.US', 'IBM.US', 'INTC.US'\n",
    "]\n",
    "print(dict(enumerate(tickers)))"
   ]
  },
  {
   "cell_type": "code",
   "execution_count": 138,
   "metadata": {},
   "outputs": [
    {
     "ename": "TypeError",
     "evalue": "'list' object is not callable",
     "output_type": "error",
     "traceback": [
      "\u001b[1;31m---------------------------------------------------------------------------\u001b[0m",
      "\u001b[1;31mTypeError\u001b[0m                                 Traceback (most recent call last)",
      "\u001b[1;32m<ipython-input-138-18ad5205f314>\u001b[0m in \u001b[0;36m<module>\u001b[1;34m\u001b[0m\n\u001b[0;32m      5\u001b[0m     \u001b[1;34m'04'\u001b[0m\u001b[1;33m:\u001b[0m \u001b[1;34m'completed'\u001b[0m\u001b[1;33m\u001b[0m\u001b[1;33m\u001b[0m\u001b[0m\n\u001b[0;32m      6\u001b[0m }\n\u001b[1;32m----> 7\u001b[1;33m \u001b[0mresult\u001b[0m \u001b[1;33m=\u001b[0m \u001b[0mlist\u001b[0m\u001b[1;33m(\u001b[0m\u001b[0mset\u001b[0m\u001b[1;33m(\u001b[0m\u001b[0mproject_ids\u001b[0m\u001b[1;33m.\u001b[0m\u001b[0mvalues\u001b[0m\u001b[1;33m(\u001b[0m\u001b[1;33m)\u001b[0m\u001b[1;33m)\u001b[0m\u001b[1;33m)\u001b[0m\u001b[1;33m\u001b[0m\u001b[1;33m\u001b[0m\u001b[0m\n\u001b[0m\u001b[0;32m      8\u001b[0m \u001b[0mresult\u001b[0m\u001b[1;33m.\u001b[0m\u001b[0msort\u001b[0m\u001b[1;33m(\u001b[0m\u001b[1;33m)\u001b[0m\u001b[1;33m\u001b[0m\u001b[1;33m\u001b[0m\u001b[0m\n\u001b[0;32m      9\u001b[0m \u001b[0mprint\u001b[0m\u001b[1;33m(\u001b[0m\u001b[0mresult\u001b[0m\u001b[1;33m)\u001b[0m\u001b[1;33m\u001b[0m\u001b[1;33m\u001b[0m\u001b[0m\n",
      "\u001b[1;31mTypeError\u001b[0m: 'list' object is not callable"
     ]
    }
   ],
   "source": [
    "project_ids = {\n",
    "    '01': 'open', \n",
    "    '03': 'in progress',\n",
    "    '05': 'in progress',\n",
    "    '04': 'completed'\n",
    "}\n",
    "result = list(set(project_ids.values()))\n",
    "result.sort()\n",
    "print(result)"
   ]
  },
  {
   "cell_type": "code",
   "execution_count": 143,
   "metadata": {},
   "outputs": [
    {
     "name": "stdout",
     "output_type": "stream",
     "text": [
      "{'site': 'e-smartdata.org', 'type': 'organic'}\n"
     ]
    }
   ],
   "source": [
    "stats = {'site': 'e-smartdata.org', 'traffic': 100, 'type': 'organic'}\n",
    "del stats['traffic']\n",
    "print(stats)"
   ]
  },
  {
   "cell_type": "code",
   "execution_count": 145,
   "metadata": {},
   "outputs": [
    {
     "name": "stdout",
     "output_type": "stream",
     "text": [
      "indefinite\n"
     ]
    }
   ],
   "source": [
    "users = {'001': 'Mark', '002': 'Monica', '003': 'Jacob'}\n",
    "print(users.get('004','indefinite'))"
   ]
  },
  {
   "cell_type": "code",
   "execution_count": null,
   "metadata": {},
   "outputs": [],
   "source": []
  }
 ],
 "metadata": {
  "kernelspec": {
   "display_name": "Python 3",
   "language": "python",
   "name": "python3"
  },
  "language_info": {
   "codemirror_mode": {
    "name": "ipython",
    "version": 3
   },
   "file_extension": ".py",
   "mimetype": "text/x-python",
   "name": "python",
   "nbconvert_exporter": "python",
   "pygments_lexer": "ipython3",
   "version": "3.8.5"
  }
 },
 "nbformat": 4,
 "nbformat_minor": 4
}
