{
 "cells": [
  {
   "cell_type": "code",
   "execution_count": 1,
   "metadata": {},
   "outputs": [
    {
     "ename": "SyntaxError",
     "evalue": "invalid syntax (<ipython-input-1-ee750d825e0f>, line 2)",
     "output_type": "error",
     "traceback": [
      "\u001b[1;36m  File \u001b[1;32m\"<ipython-input-1-ee750d825e0f>\"\u001b[1;36m, line \u001b[1;32m2\u001b[0m\n\u001b[1;33m    Square = for i in Number:\u001b[0m\n\u001b[1;37m             ^\u001b[0m\n\u001b[1;31mSyntaxError\u001b[0m\u001b[1;31m:\u001b[0m invalid syntax\n"
     ]
    }
   ],
   "source": [
    "Number = [1,2,3,4,5]\n",
    "Square = for i in Number:\n",
    "            print(i*i)\n",
    "print (Number, Square)"
   ]
  },
  {
   "cell_type": "code",
   "execution_count": 21,
   "metadata": {},
   "outputs": [
    {
     "name": "stdout",
     "output_type": "stream",
     "text": [
      "Number \t \t Square\t\t cube\n",
      "1\t\t   1 \t\t 1\n",
      "2\t\t   4 \t\t 8\n",
      "3\t\t   9 \t\t 27\n",
      "4\t\t   16 \t\t 64\n",
      "5\t\t   25 \t\t 125\n"
     ]
    }
   ],
   "source": [
    "#task 1 (print numbers, their squares, and their cubes)\n",
    "print ('Number \\t \\t Square\\t\\t cube')\n",
    "print ('1\\t\\t',' ', str(1*1), '\\t\\t', str(1*1*1))\n",
    "print ('2\\t\\t',' ', str(2*2),'\\t\\t', str(2*2*2))\n",
    "print ('3\\t\\t',' ', str(3*3),'\\t\\t', str(3*3*3))\n",
    "print ('4\\t\\t',' ', str(4*4), '\\t\\t',str(4*4*4))\n",
    "print ('5\\t\\t',' ', str(5*5), '\\t\\t',str(5*5*5))"
   ]
  },
  {
   "cell_type": "code",
   "execution_count": 27,
   "metadata": {},
   "outputs": [
    {
     "name": "stdout",
     "output_type": "stream",
     "text": [
      "enter the radius of the circle: 5\n",
      "78.5\n"
     ]
    }
   ],
   "source": [
    "# task 2 (write a program to calculate the area of a cricle using the formula Pi r square)\n",
    "\n",
    "r= float(input('enter the radius of the circle: '))\n",
    "area = 3.14 * r*r\n",
    "print (area)"
   ]
  },
  {
   "cell_type": "code",
   "execution_count": 31,
   "metadata": {},
   "outputs": [
    {
     "name": "stdout",
     "output_type": "stream",
     "text": [
      "enter the length of the rectangle:4\n",
      "enter the width of the rectangle: 5\n",
      "Area of this rectangle is:  20.0\n"
     ]
    }
   ],
   "source": [
    "#task 2 assignment : write a python program to calculate the area of a rectangle using the formula A*B\n",
    "x = float(input('enter the length of the rectangle:'))\n",
    "y = float(input('enter the width of the rectangle: '))\n",
    "Area = x*y\n",
    "print(\"Area of this rectangle is: \", Area)"
   ]
  },
  {
   "cell_type": "code",
   "execution_count": 32,
   "metadata": {},
   "outputs": [
    {
     "name": "stdout",
     "output_type": "stream",
     "text": [
      "Please enter your first name: Utkal kumar\n",
      "please enter your last name: Baliyarsingh\n",
      "please enter your age: 32\n",
      "Hi Utkal kumar Baliyarsingh ! Your age is: 32\n"
     ]
    }
   ],
   "source": [
    "# task 3: Write a program to get the name and age of the user and display the name and user in the below format\n",
    "# 'Hi xyz, your age is x'\n",
    "first_name = input('Please enter your first name: ')\n",
    "last_name = input('please enter your last name: ')\n",
    "Age = input('please enter your age: ')\n",
    "print ('Hi', first_name, last_name, '!', 'Your age is:', Age)"
   ]
  },
  {
   "cell_type": "code",
   "execution_count": 36,
   "metadata": {},
   "outputs": [
    {
     "name": "stdout",
     "output_type": "stream",
     "text": [
      "enter your mark: 30\n",
      "enter your address: dfe\n",
      "your address is dfe and your mark is 30 .\n"
     ]
    }
   ],
   "source": [
    "#task 3, Assignment\n",
    "Mark = input('enter your mark: ')\n",
    "Address = input ('enter your address: ')\n",
    "print ('your address is', Address, 'and', 'your mark is', Mark,'.')\n"
   ]
  },
  {
   "cell_type": "code",
   "execution_count": 41,
   "metadata": {},
   "outputs": [
    {
     "name": "stdout",
     "output_type": "stream",
     "text": [
      "please enter your age:32\n",
      "eligible to vote\n",
      "complete\n"
     ]
    }
   ],
   "source": [
    "# task 4 take an age input from user and check if they are eligible to vote. (voting age= 18)\n",
    "Age = int(input('please enter your age:'))\n",
    "if (Age>18):\n",
    "    print('eligible to vote')\n",
    "else:\n",
    "    print('Not eligible to vote')\n",
    "print('complete')"
   ]
  },
  {
   "cell_type": "code",
   "execution_count": 45,
   "metadata": {},
   "outputs": [
    {
     "name": "stdout",
     "output_type": "stream",
     "text": [
      "please enter your mark57.5\n",
      "You are not eligible for college admission. You need an extra 2.5  marks to be eligible for college admission\n"
     ]
    }
   ],
   "source": [
    "Mark = float(input('please enter your mark'))\n",
    "if (Mark > 60):\n",
    "    print('Eligible for collage admission')\n",
    "else:\n",
    "    print('You are not eligible for college admission. You need an extra', 60-Mark, ' marks to be eligible for college admission')"
   ]
  },
  {
   "cell_type": "code",
   "execution_count": 47,
   "metadata": {},
   "outputs": [
    {
     "name": "stdout",
     "output_type": "stream",
     "text": [
      " enter the value of a:12\n",
      " enter the value of b:3\n",
      " enter the value of c:4\n",
      "the value of the addition is 19.0\n",
      "the value of the subtraction is -1.0\n",
      "the value of the multiplication is 144.0\n",
      "the value of the reminder is 0.0\n",
      "the value of the modulo is 4.0\n"
     ]
    }
   ],
   "source": [
    "#task 5: Arithmatic operations (+, -, *, /, ** etc.)\n",
    "a = float(input (' enter the value of a:'))\n",
    "b = float(input (' enter the value of b:'))\n",
    "c = float(input (' enter the value of c:'))\n",
    "x = a+b+c\n",
    "y = b-c\n",
    "z = a*b*c\n",
    "p = a%b\n",
    "q = a//b\n",
    "print ('the value of the addition is', x)\n",
    "print ('the value of the subtraction is', y)\n",
    "print ('the value of the multiplication is', z)\n",
    "print ('the value of the reminder is', p)\n",
    "print ('the value of the modulo is', q)"
   ]
  },
  {
   "cell_type": "code",
   "execution_count": null,
   "metadata": {},
   "outputs": [],
   "source": []
  }
 ],
 "metadata": {
  "kernelspec": {
   "display_name": "Python 3",
   "language": "python",
   "name": "python3"
  },
  "language_info": {
   "codemirror_mode": {
    "name": "ipython",
    "version": 3
   },
   "file_extension": ".py",
   "mimetype": "text/x-python",
   "name": "python",
   "nbconvert_exporter": "python",
   "pygments_lexer": "ipython3",
   "version": "3.8.5"
  }
 },
 "nbformat": 4,
 "nbformat_minor": 4
}
