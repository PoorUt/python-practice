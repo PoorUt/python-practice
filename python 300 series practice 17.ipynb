{
 "cells": [
  {
   "cell_type": "code",
   "execution_count": 3,
   "metadata": {},
   "outputs": [
    {
     "name": "stdout",
     "output_type": "stream",
     "text": [
      "enter the number of items you want4\n",
      "enter a nameed\n",
      "enter a namews\n",
      "enter a nameqw\n",
      "enter a namesa\n",
      "['ws', 'sa', 'qw', 'ed']\n",
      "wsa\n",
      "saa\n",
      "qwa\n",
      "eda\n",
      "['wsa', 'saa', 'qwa', 'eda']\n"
     ]
    }
   ],
   "source": [
    "lst = []\n",
    "lst2 = []\n",
    "n = int(input('enter the number of items you want'))\n",
    "for i in range(n):\n",
    "    lst.append(input('enter a name'))\n",
    "lst.sort(reverse=True)\n",
    "print(lst)\n",
    "for i in lst:\n",
    "    i = i+'a'\n",
    "    print(i)\n",
    "    lst2.append(i)\n",
    "print(lst2)"
   ]
  },
  {
   "cell_type": "code",
   "execution_count": 16,
   "metadata": {},
   "outputs": [
    {
     "name": "stdout",
     "output_type": "stream",
     "text": [
      "enter a file name with extensionsongs.mp3\n",
      "songs\n",
      ".mp3\n",
      "not allowed\n"
     ]
    }
   ],
   "source": [
    "# get any file with extension and display only that file extension.\n",
    "import os\n",
    "file = input('enter a file name with extension')\n",
    "file_name, file_extension=os.path.splitext(file)\n",
    "print(file_name)\n",
    "print(file_extension)\n",
    "if file_extension=='.mp3':\n",
    "    print('not allowed')"
   ]
  },
  {
   "cell_type": "code",
   "execution_count": 20,
   "metadata": {},
   "outputs": [
    {
     "name": "stdout",
     "output_type": "stream",
     "text": [
      "enter the radius of the circle4\n",
      "circumference is:  25.132741228718345\n",
      "area is:  50.26548245743669\n"
     ]
    }
   ],
   "source": [
    "# get temperature in farenhite and convert into kelvin and celcius\n",
    "#find circumference and are of circle\n",
    "import math\n",
    "r = float(input('enter the radius of the circle'))\n",
    "c = 2*math.pi*r\n",
    "a = math.pi*r*r\n",
    "print('circumference is: ',c)\n",
    "print('area is: ', a)"
   ]
  },
  {
   "cell_type": "code",
   "execution_count": 24,
   "metadata": {},
   "outputs": [
    {
     "name": "stdout",
     "output_type": "stream",
     "text": [
      "enter the number of passwords you want: 4\n",
      "enter a passwordfgertegdb45356\n",
      "enter a passworddedef\n",
      "enter a password453tgtdrfsbj563\n",
      "enter a password@%edgeyd\n",
      "['fgertegdb45356', 'dedef', '453tgtdrfsbj563', '@%edgeyd']\n",
      "password length not okay\n",
      "pass word is not alphanumeric\n",
      "['fgertegdb45356', '453tgtdrfsbj563']\n"
     ]
    }
   ],
   "source": [
    "#get 8 passwords from user  and if password in between 8 and 20 characters and alphanumeric then store in a list.\n",
    "lst = []\n",
    "lst2=[]\n",
    "n= int(input('enter the number of passwords you want: '))\n",
    "for i in range(n):\n",
    "       lst.append(input('enter a password'))\n",
    "print(lst)\n",
    "for i in lst:\n",
    "    if len(i)>=8 and len(i)<=20:\n",
    "        if i.isalnum()==True:\n",
    "            lst2.append(i)\n",
    "        else:\n",
    "            print('pass word is not alphanumeric')\n",
    "    else:\n",
    "        print('password length not okay')\n",
    "print(lst2)\n",
    "            "
   ]
  },
  {
   "cell_type": "code",
   "execution_count": 35,
   "metadata": {},
   "outputs": [
    {
     "name": "stdout",
     "output_type": "stream",
     "text": [
      "enter a passwordshqwiushq87\n",
      "password is alphanumeric\n",
      "password length is okay\n"
     ]
    }
   ],
   "source": [
    "p=input('enter a password')\n",
    "if p.isalnum()==True:\n",
    "    print('password is alphanumeric')\n",
    "    if len(p)<8 or len(p)>20:\n",
    "        print('password length is not okay')\n",
    "    else:\n",
    "        print('password length is okay')\n",
    "else:\n",
    "    print('password is not alphanumeric')\n",
    "    if len(p)<8 or len(p)>20:\n",
    "        print('password length is not okay')\n",
    "    else:\n",
    "        print('password length is okay')"
   ]
  },
  {
   "cell_type": "code",
   "execution_count": 43,
   "metadata": {},
   "outputs": [
    {
     "name": "stdout",
     "output_type": "stream",
     "text": [
      "enter a passwordkjnkejdnkjTY\n",
      "k j n k e j d n k j "
     ]
    }
   ],
   "source": [
    "#get password from user that contain alphanumeric and special character. Also restric user if password contains uppercase .\n",
    "p=input('enter a password')\n",
    "\n",
    "for i in p:\n",
    "    if i.isupper()==True:\n",
    "        pass\n",
    "    else:\n",
    "        print(i, end = \" \")"
   ]
  },
  {
   "cell_type": "code",
   "execution_count": 48,
   "metadata": {},
   "outputs": [
    {
     "name": "stdout",
     "output_type": "stream",
     "text": [
      "enter a passwordjdhbdhrT\n",
      "the original string is:  jdhbdhrT\n",
      "string contains upper case which is not allowed. user restricted\n"
     ]
    }
   ],
   "source": [
    "p=input('enter a password')\n",
    "c = 0\n",
    "for i in p:\n",
    "    if i.isupper()==True:\n",
    "                c+=1\n",
    "#     else:\n",
    "#         print(i, end = \" \")\n",
    "print('the original string is: ', p)\n",
    "if c>=1:\n",
    "    print('string contains upper case which is not allowed. user restricted')"
   ]
  },
  {
   "cell_type": "code",
   "execution_count": null,
   "metadata": {},
   "outputs": [],
   "source": []
  }
 ],
 "metadata": {
  "kernelspec": {
   "display_name": "Python 3",
   "language": "python",
   "name": "python3"
  },
  "language_info": {
   "codemirror_mode": {
    "name": "ipython",
    "version": 3
   },
   "file_extension": ".py",
   "mimetype": "text/x-python",
   "name": "python",
   "nbconvert_exporter": "python",
   "pygments_lexer": "ipython3",
   "version": "3.8.5"
  }
 },
 "nbformat": 4,
 "nbformat_minor": 4
}
