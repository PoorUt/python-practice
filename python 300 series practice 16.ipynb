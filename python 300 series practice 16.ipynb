{
 "cells": [
  {
   "cell_type": "code",
   "execution_count": 11,
   "metadata": {},
   "outputs": [
    {
     "name": "stdout",
     "output_type": "stream",
     "text": [
      "enter the mass of the object12\n",
      "enter the volume of the object48\n",
      "0.25\n"
     ]
    }
   ],
   "source": [
    "#task 91: find the density of an object\n",
    "#(density = mass/volume)\n",
    "m = int(input('enter the mass of the object'))\n",
    "v = int(input('enter the volume of the object'))\n",
    "density = (m/v)\n",
    "print(density)"
   ]
  },
  {
   "cell_type": "code",
   "execution_count": 14,
   "metadata": {},
   "outputs": [
    {
     "name": "stdout",
     "output_type": "stream",
     "text": [
      "enter a number12.3\n",
      "13 12\n"
     ]
    }
   ],
   "source": [
    "#92: find ceilling of a number \n",
    "import math\n",
    "x = float(input('enter a number'))\n",
    "c = math.ceil(x)\n",
    "f = math.floor(x)\n",
    "print(c,f)\n"
   ]
  },
  {
   "cell_type": "code",
   "execution_count": 16,
   "metadata": {},
   "outputs": [
    {
     "name": "stdout",
     "output_type": "stream",
     "text": [
      "enter initial velocity10\n",
      "enter final velocity12\n",
      "enter time4\n",
      "accelaration is 0.5\n"
     ]
    }
   ],
   "source": [
    "#task 93: find the acceleration of an object having velocity v and time t\n",
    "vi = float(input('enter initial velocity'))\n",
    "vf = float(input('enter final velocity'))\n",
    "dv = vf-vi\n",
    "t = float(input('enter time'))\n",
    "a = dv/t\n",
    "print('accelaration is', a)"
   ]
  },
  {
   "cell_type": "code",
   "execution_count": 17,
   "metadata": {},
   "outputs": [],
   "source": [
    "#task 94: finf F, using the formula F=ma (can be done)\n"
   ]
  },
  {
   "cell_type": "code",
   "execution_count": 27,
   "metadata": {},
   "outputs": [
    {
     "name": "stdout",
     "output_type": "stream",
     "text": [
      "enter a number5\n",
      "5 * 10 = 50\n",
      "5 * 9 = 45\n",
      "5 * 8 = 40\n",
      "5 * 7 = 35\n",
      "5 * 6 = 30\n",
      "5 * 5 = 25\n",
      "5 * 4 = 20\n",
      "5 * 3 = 15\n",
      "5 * 2 = 10\n",
      "5 * 1 = 5\n"
     ]
    }
   ],
   "source": [
    "#task 95: get a number from user and print the multiplication table in a reverse order.\n",
    "num = int(input('enter a number'))\n",
    "for i in range(10,0,-1):\n",
    "    print(str(num),'*', str(i), \"=\", num*i ) "
   ]
  },
  {
   "cell_type": "code",
   "execution_count": 30,
   "metadata": {},
   "outputs": [
    {
     "name": "stdout",
     "output_type": "stream",
     "text": [
      "enter a number5\n",
      "5 * 1 = 5\n",
      "5 * 2 = 10\n",
      "5 * 3 = 15\n",
      "5 * 4 = 20\n",
      "5 * 5 = 25\n",
      "5 * 6 = 30\n",
      "5 * 7 = 35\n",
      "5 * 8 = 40\n",
      "5 * 9 = 45\n",
      "5 * 10 = 50\n"
     ]
    }
   ],
   "source": [
    "# task: get a multiplication table\n",
    "num = int(input('enter a number'))\n",
    "for i in range(1,11):\n",
    "    print (str(num),'*', str(i), \"=\", num*i ) "
   ]
  },
  {
   "cell_type": "code",
   "execution_count": 33,
   "metadata": {},
   "outputs": [
    {
     "name": "stdout",
     "output_type": "stream",
     "text": [
      "enter a number5\n",
      "5 * 1 = 5\n",
      "5 * 3 = 15\n",
      "5 * 5 = 25\n",
      "5 * 7 = 35\n",
      "5 * 9 = 45\n",
      "5 * 11 = 55\n",
      "5 * 13 = 65\n",
      "5 * 15 = 75\n",
      "5 * 17 = 85\n",
      "5 * 19 = 95\n"
     ]
    }
   ],
   "source": [
    "#display a multiplication table, multiplication with odd numbers only.\n",
    "num = int(input('enter a number'))\n",
    "for i in range(1,20,2):\n",
    "    print (str(num),'*', str(i), \"=\", num*i )\n",
    "    "
   ]
  },
  {
   "cell_type": "code",
   "execution_count": 37,
   "metadata": {},
   "outputs": [
    {
     "name": "stdout",
     "output_type": "stream",
     "text": [
      "please enter the number of items you want to enter3\n",
      "The number of integers is:  2\n",
      "The number of floats is:  2\n",
      "The number of strings is:  2\n",
      "The number of other types is:  0\n"
     ]
    }
   ],
   "source": [
    "# 96: get 10 inputs from user and check how many are int, str and float?\n",
    "# n = int(input('please enter the number of items you want to enter'))\n",
    "lst = [3, 3.3, 'john', 'mat', 5, 5.5]\n",
    "# for i in range(n):\n",
    "#     lst.append(input('plese enter something: '))\n",
    "# print(lst)\n",
    "ci = 0\n",
    "cf = 0\n",
    "cs = 0\n",
    "co = 0\n",
    "for i in lst:\n",
    "    if type(i)==int:\n",
    "        ci+=1\n",
    "    elif type(i)==float:\n",
    "        cf+=1\n",
    "    elif type(i)==str:\n",
    "        cs+=1\n",
    "    else:\n",
    "        co+=1\n",
    "print('The number of integers is: ', ci)\n",
    "print('The number of floats is: ', cf)\n",
    "print('The number of strings is: ', cs)\n",
    "print('The number of other types is: ', co)\n",
    "        "
   ]
  },
  {
   "cell_type": "code",
   "execution_count": 41,
   "metadata": {},
   "outputs": [
    {
     "name": "stdout",
     "output_type": "stream",
     "text": [
      "[3, 3.3, 5, 5.5]\n",
      "[3, 5]\n"
     ]
    }
   ],
   "source": [
    "lst = [3, 3.3, 5, 5.5]\n",
    "lst2= []\n",
    "for i in lst:\n",
    "    if type(i)==float:\n",
    "        lst2.append(int(i))\n",
    "    else:\n",
    "        pass\n",
    "print(lst)\n",
    "print(lst2)"
   ]
  },
  {
   "cell_type": "code",
   "execution_count": 50,
   "metadata": {},
   "outputs": [
    {
     "name": "stdout",
     "output_type": "stream",
     "text": [
      "please enter the number of list items5\n",
      "enter somethingwe\n",
      "enter somethinged\n",
      "enter somethingsd\n",
      "enter something23\n",
      "enter something21\n",
      "['we', 'ed', 'sd', '23', '21']\n",
      "2\n",
      "sd\n"
     ]
    }
   ],
   "source": [
    "#97: find the middle item of list\n",
    "lst = []\n",
    "n = int(input('please enter the number of list items'))\n",
    "for i in range(n):\n",
    "    lst.append(input('enter something'))\n",
    "print(lst)\n",
    "\n",
    "if x%2==0:\n",
    "    x= int(len(lst)/2-1)\n",
    "    print(x)\n",
    "    print(lst[x])\n",
    "else:\n",
    "    x=int(len(lst)/2)\n",
    "    print(x)\n",
    "    print(lst[x])\n"
   ]
  },
  {
   "cell_type": "code",
   "execution_count": 51,
   "metadata": {},
   "outputs": [],
   "source": [
    "#98: find the square root of middle element of list items"
   ]
  },
  {
   "cell_type": "code",
   "execution_count": 56,
   "metadata": {},
   "outputs": [
    {
     "name": "stdout",
     "output_type": "stream",
     "text": [
      "plese enter the number of words you want to enter5\n",
      "please enter a wordwe\n",
      "please enter a wordWW\n",
      "please enter a wordSS\n",
      "please enter a wordAA\n",
      "please enter a wordQQ\n",
      "['we', 'WW', 'SS', 'AA', 'QQ']\n",
      "['WW', 'SS', 'AA', 'QQ']\n"
     ]
    }
   ],
   "source": [
    "#99: get words from user and store only uppercase words form the user.\n",
    "lst=[]\n",
    "lst2=[]\n",
    "i = int(input('plese enter the number of words you want to enter'))\n",
    "for i in range(i):\n",
    "    lst.append(input('please enter a word'))\n",
    "print(lst)\n",
    "for i in lst:\n",
    "    if i.isupper()==True:\n",
    "        lst2.append(i)\n",
    "    else:\n",
    "        pass\n",
    "print(lst2)\n",
    "        \n",
    "    "
   ]
  },
  {
   "cell_type": "code",
   "execution_count": 58,
   "metadata": {},
   "outputs": [
    {
     "name": "stdout",
     "output_type": "stream",
     "text": [
      "enter the number of items you want4\n",
      "enter a number2\n",
      "enter a number6\n",
      "enter a number7\n",
      "enter a number1\n",
      "[2, 6, 7, 1]\n",
      "[6, 7]\n",
      "13\n"
     ]
    }
   ],
   "source": [
    "# add numbers from a list that are greater than 5\n",
    "lst = []\n",
    "lst2 = []\n",
    "n  = int(input('enter the number of items you want'))\n",
    "for i in range(n):\n",
    "    lst.append(int(input('enter a number')))\n",
    "print(lst)\n",
    "for i in lst:\n",
    "    if i>5:\n",
    "        lst2.append(i)\n",
    "    else:\n",
    "        pass\n",
    "print(lst2)\n",
    "s = sum(lst2)\n",
    "print(s)\n",
    "        "
   ]
  },
  {
   "cell_type": "code",
   "execution_count": 59,
   "metadata": {},
   "outputs": [
    {
     "name": "stdout",
     "output_type": "stream",
     "text": [
      "enter the number of items you want5\n",
      "enter a number6\n",
      "enter a number7\n",
      "enter a number8\n",
      "enter a number1\n",
      "enter a number11\n",
      "[6, 7, 8, 1, 11]\n",
      "21\n"
     ]
    }
   ],
   "source": [
    "# add numbers from a list that are greater than 5 and less than 10\n",
    "lst = []\n",
    "s = 0\n",
    "n = int(input('enter the number of items you want'))\n",
    "for i in range(n):\n",
    "    lst.append(int(input('enter a number')))\n",
    "print(lst)\n",
    "for i in lst:\n",
    "    if i>5 and i<10:\n",
    "        s+=i\n",
    "    else:\n",
    "        pass\n",
    "print(s)"
   ]
  },
  {
   "cell_type": "code",
   "execution_count": 60,
   "metadata": {},
   "outputs": [
    {
     "name": "stdout",
     "output_type": "stream",
     "text": [
      "enter the number of items you want6\n",
      "enter a number12\n",
      "enter a number11\n",
      "enter a number10\n",
      "enter a number23\n",
      "enter a number22\n",
      "enter a number43\n",
      "[12, 11, 10, 23, 22, 43]\n",
      "44\n"
     ]
    }
   ],
   "source": [
    "#add even numbers from a list\n",
    "lst = []\n",
    "s = 0\n",
    "n = int(input('enter the number of items you want'))\n",
    "for i in range(n):\n",
    "    lst.append(int(input('enter a number')))\n",
    "print(lst)\n",
    "for i in lst:\n",
    "    if i%2==0:\n",
    "        s+=i\n",
    "    else:\n",
    "        pass\n",
    "print(s)"
   ]
  },
  {
   "cell_type": "code",
   "execution_count": 62,
   "metadata": {},
   "outputs": [
    {
     "name": "stdout",
     "output_type": "stream",
     "text": [
      "enter the number of items you want4\n",
      "enter a namefgv\n",
      "enter a nameFdg\n",
      "enter a nameght\n",
      "enter a nameffdf\n",
      "['fgv', 'Fdg', 'ght', 'ffdf']\n",
      "['ght']\n"
     ]
    }
   ],
   "source": [
    "# display all the names other than those that start with 'f' or \"F\"\n",
    "lst = []\n",
    "lst2 = []\n",
    "n = int(input('enter the number of items you want'))\n",
    "for i in range(n):\n",
    "    lst.append(input('enter a name'))\n",
    "print(lst)\n",
    "for i in lst:\n",
    "    if i.startswith('f'):\n",
    "        pass\n",
    "    elif i.startswith('F'):\n",
    "        pass\n",
    "    else:\n",
    "        lst2.append(i)\n",
    "print(lst2)\n",
    "        \n",
    "\n"
   ]
  },
  {
   "cell_type": "code",
   "execution_count": 66,
   "metadata": {},
   "outputs": [
    {
     "name": "stdout",
     "output_type": "stream",
     "text": [
      "enter the number of items you want5\n",
      "enter a nameghdteyn\n",
      "enter a namejhdb\n",
      "enter a namejwhb\n",
      "enter a nameadsjhwb\n",
      "enter a nameas\n",
      "['adsjhwb', 'as', 'ghdteyn', 'jhdb', 'jwhb']\n",
      "['as', 'jhdb', 'jwhb']\n"
     ]
    }
   ],
   "source": [
    "#sort student names in ascending order and diplay only those names that have less than or equal to 5 characters\n",
    "lst = []\n",
    "lst2 = []\n",
    "n = int(input('enter the number of items you want'))\n",
    "for i in range(n):\n",
    "    lst.append(input('enter a name'))\n",
    "lst.sort()\n",
    "print(lst)\n",
    "for i in lst:\n",
    "    if len(i)<=5:\n",
    "        lst2.append(i)\n",
    "    else:\n",
    "        pass\n",
    "lst2.sort()\n",
    "print(lst2)\n",
    "\n",
    "    "
   ]
  },
  {
   "cell_type": "code",
   "execution_count": 75,
   "metadata": {},
   "outputs": [
    {
     "name": "stdout",
     "output_type": "stream",
     "text": [
      "enter the number of items you want4\n",
      "enter a nameed\n",
      "enter a namewe\n",
      "enter a namesa\n",
      "enter a namesw\n",
      "['we', 'sw', 'sa', 'ed']\n",
      "wea\n",
      "swa\n",
      "saa\n",
      "eda\n",
      "['wea', 'swa', 'saa', 'eda']\n"
     ]
    }
   ],
   "source": [
    "lst = []\n",
    "lst2 = []\n",
    "n = int(input('enter the number of items you want'))\n",
    "for i in range(n):\n",
    "    lst.append(input('enter a name'))\n",
    "lst.sort(reverse=True)\n",
    "print(lst)\n",
    "for i in lst:\n",
    "    i = i+'a'\n",
    "    print(i)\n",
    "    lst2.append(i)\n",
    "print(lst2)"
   ]
  },
  {
   "cell_type": "code",
   "execution_count": null,
   "metadata": {},
   "outputs": [],
   "source": []
  }
 ],
 "metadata": {
  "kernelspec": {
   "display_name": "Python 3",
   "language": "python",
   "name": "python3"
  },
  "language_info": {
   "codemirror_mode": {
    "name": "ipython",
    "version": 3
   },
   "file_extension": ".py",
   "mimetype": "text/x-python",
   "name": "python",
   "nbconvert_exporter": "python",
   "pygments_lexer": "ipython3",
   "version": "3.8.5"
  }
 },
 "nbformat": 4,
 "nbformat_minor": 4
}
