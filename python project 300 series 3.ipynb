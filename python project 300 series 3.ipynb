{
 "cells": [
  {
   "cell_type": "code",
   "execution_count": 6,
   "metadata": {},
   "outputs": [
    {
     "name": "stdout",
     "output_type": "stream",
     "text": [
      " the first number is34\n",
      "the second number is34\n",
      "the numbers are equal\n"
     ]
    }
   ],
   "source": [
    "# task 11: find the maximum number between two numbers. Take input.\n",
    "x= int(input(' the first number is'))\n",
    "y= int(input('the second number is'))\n",
    "if x>y:\n",
    "    print(x, 'is greater than', y)\n",
    "elif x==y:\n",
    "    print('the numbers are equal')\n",
    "else:\n",
    "    print(y, 'is greater than', x)"
   ]
  },
  {
   "cell_type": "code",
   "execution_count": 8,
   "metadata": {},
   "outputs": [
    {
     "name": "stdout",
     "output_type": "stream",
     "text": [
      " the first number is32\n",
      "the second number is32\n",
      "the largest number is  32\n"
     ]
    }
   ],
   "source": [
    "#task 11:alternative method. But this method wont detect if the numbers are equal\n",
    "x= int(input(' the first number is'))\n",
    "y= int(input('the second number is'))\n",
    "z= max(x,y)\n",
    "print('the largest number is ', z)"
   ]
  },
  {
   "cell_type": "code",
   "execution_count": 14,
   "metadata": {},
   "outputs": [
    {
     "name": "stdout",
     "output_type": "stream",
     "text": [
      "*\n",
      "**\n",
      "***\n",
      "****\n",
      "*****\n",
      "******\n",
      "*******\n",
      "********\n",
      "*********\n",
      "**********\n"
     ]
    }
   ],
   "source": [
    "# task 12: print the * pattern \n",
    "x = range(1,11)\n",
    "for i in x:\n",
    "    print('*'* i)"
   ]
  },
  {
   "cell_type": "code",
   "execution_count": 39,
   "metadata": {},
   "outputs": [
    {
     "name": "stdout",
     "output_type": "stream",
     "text": [
      "* \n",
      "* * \n",
      "* * * \n",
      "* * * * \n",
      "* * * * * \n"
     ]
    }
   ],
   "source": [
    "# this is a nested loop. \n",
    "for i in range(1,6):\n",
    "    for j in range(i):\n",
    "        print('*', end=\" \")\n",
    "    print() "
   ]
  },
  {
   "cell_type": "code",
   "execution_count": 48,
   "metadata": {},
   "outputs": [
    {
     "name": "stdout",
     "output_type": "stream",
     "text": [
      "* \n",
      "* * \n",
      "* * * \n",
      "* * * * \n",
      "* * * * * \n",
      "* * * * * * \n",
      "* \n",
      "* * \n",
      "* * * \n",
      "* * * * \n",
      "* * * * * \n",
      "* * * * * * \n",
      "* * * * * * * \n"
     ]
    }
   ],
   "source": [
    "# lets practice a nested loop one more time.\n",
    "for i in range(1,7):\n",
    "    for j in range(i):\n",
    "        print(\"*\", end = \" \")\n",
    "    print()\n",
    "for i in range(7):\n",
    "    for j in range(i+1):\n",
    "        print(\"*\", end = \" \")\n",
    "    print()"
   ]
  },
  {
   "cell_type": "code",
   "execution_count": 63,
   "metadata": {},
   "outputs": [
    {
     "name": "stdout",
     "output_type": "stream",
     "text": [
      "enter your password 67%jk\n",
      "password not okay\n"
     ]
    }
   ],
   "source": [
    "# task 13: write a coe to get a password from user and make sure that the password contain numbers and alphabets\n",
    "pwd= input ('enter your password ')\n",
    "if (pwd.isalnum()):\n",
    "    print(\"password okay\")\n",
    "else:\n",
    "    print(\"password not okay\")\n",
    " # the 'isalnum' is a string method that checks if the password is alpha numeric?\n",
    "# \"isalpha\" is a string method that checks if a string contains alphabets\n",
    "#\"isnumeric\" is a string method that checks if a string is numeric\n",
    "# lets try these\n"
   ]
  },
  {
   "cell_type": "code",
   "execution_count": 65,
   "metadata": {},
   "outputs": [
    {
     "name": "stdout",
     "output_type": "stream",
     "text": [
      "enter your password 3456thydfJ\n",
      "password not okay\n"
     ]
    }
   ],
   "source": [
    "pwd= input ('enter your password ')\n",
    "if (pwd.isalpha()):\n",
    "    print('password okay')\n",
    "else:\n",
    "    print('password not okay')"
   ]
  },
  {
   "cell_type": "code",
   "execution_count": 69,
   "metadata": {},
   "outputs": [
    {
     "name": "stdout",
     "output_type": "stream",
     "text": [
      "enter your password 1234rtG\n",
      "password not okay\n"
     ]
    }
   ],
   "source": [
    "pwd= input ('enter your password ')\n",
    "if (pwd.isnumeric()):\n",
    "    print('password okay')\n",
    "else:\n",
    "    print('password not okay')"
   ]
  },
  {
   "cell_type": "code",
   "execution_count": 75,
   "metadata": {},
   "outputs": [
    {
     "name": "stdout",
     "output_type": "stream",
     "text": [
      "enter a password 12345hjkrty\n",
      "Password not okay\n"
     ]
    }
   ],
   "source": [
    "# Assignment: Write a python code for user to input a password.\n",
    "#then check if the password is alpha numeric and the length of the password should not be greater than 8.\n",
    "pwd=input('enter a password ')\n",
    "if ((pwd.isalnum()) and (len(pwd)<=8)):\n",
    "    print('password okay')\n",
    "else:\n",
    "    print('Password not okay')"
   ]
  },
  {
   "cell_type": "code",
   "execution_count": 90,
   "metadata": {},
   "outputs": [
    {
     "name": "stdout",
     "output_type": "stream",
     "text": [
      "enter a password %%$65\n",
      "either password length more than 8, or password is not aplhanuemric, password not okay\n"
     ]
    }
   ],
   "source": [
    "pwd=input('enter a password ')\n",
    "if ((pwd.isalnum()) and (len(pwd)<=8)):\n",
    "    print('password is alpha numeric and length is less than or equal to 8. Password okay')\n",
    "elif((len(pwd)>=8) or not pwd.isalnum()):\n",
    "    print('either password length more than 8, or password is not aplhanuemric, password not okay')\n",
    "else:\n",
    "    print('Password not aplhanumeric. Make sure it does not have any special characters.')"
   ]
  },
  {
   "cell_type": "code",
   "execution_count": 93,
   "metadata": {},
   "outputs": [
    {
     "name": "stdout",
     "output_type": "stream",
     "text": [
      "enter a number:3\n",
      "[3]\n",
      "enter a number:2\n",
      "[3, 2]\n",
      "enter a number:4\n",
      "[3, 2, 4]\n",
      "enter a number:5\n",
      "[3, 2, 4, 5]\n",
      "enter a number:7\n",
      "[3, 2, 4, 5, 7]\n",
      "enter a number:9\n",
      "[3, 2, 4, 5, 7, 9]\n",
      "the sum of all numbers is:  30\n"
     ]
    }
   ],
   "source": [
    "# task 14: write a program to get 6 numbers in a list, store those numbers in a list and then sum of those numbers.\n",
    "# get 6 numbers using input function\n",
    "# store in a list\n",
    "# calculate the sum\n",
    "lst = []\n",
    "for i in range(6):\n",
    "    lst.append(int(input('enter a number:')))\n",
    "    print(lst)\n",
    "sum = 0\n",
    "for j in lst:\n",
    "    sum = sum+j\n",
    "print('the sum of all numbers is: ',sum)"
   ]
  },
  {
   "cell_type": "code",
   "execution_count": 96,
   "metadata": {},
   "outputs": [],
   "source": [
    "# write a program to get 6 numbers in a tuple and then sum all those numbers\n"
   ]
  },
  {
   "cell_type": "code",
   "execution_count": 100,
   "metadata": {},
   "outputs": [
    {
     "name": "stdout",
     "output_type": "stream",
     "text": [
      "enter a number: 1\n",
      "enter a number: 2\n",
      "enter a number: 2\n",
      "enter a number: 3\n",
      "enter a number: 3\n",
      "enter a number: 4\n",
      "enter a number: 45\n",
      "enter a number: 6\n",
      "[1, 2, 2, 3, 3, 4, 45, 6]\n",
      "sorry,we have removed all the list items.\n",
      "[]\n"
     ]
    }
   ],
   "source": [
    "#task 15:write a program to get 6 numbers in the list and display all number and then clear the list and then display\n",
    "lst = []\n",
    "for i in range(8):\n",
    "    lst.append(int(input('enter a number: ')))\n",
    "print(lst)\n",
    "lst.clear()\n",
    "print('sorry,we have removed all the list items.')\n",
    "print(lst)\n"
   ]
  },
  {
   "cell_type": "markdown",
   "metadata": {},
   "source": []
  }
 ],
 "metadata": {
  "kernelspec": {
   "display_name": "Python 3",
   "language": "python",
   "name": "python3"
  },
  "language_info": {
   "codemirror_mode": {
    "name": "ipython",
    "version": 3
   },
   "file_extension": ".py",
   "mimetype": "text/x-python",
   "name": "python",
   "nbconvert_exporter": "python",
   "pygments_lexer": "ipython3",
   "version": "3.8.5"
  }
 },
 "nbformat": 4,
 "nbformat_minor": 4
}
