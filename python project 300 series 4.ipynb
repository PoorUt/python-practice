{
 "cells": [
  {
   "cell_type": "code",
   "execution_count": 11,
   "metadata": {},
   "outputs": [
    {
     "name": "stdout",
     "output_type": "stream",
     "text": [
      "enter a number32\n",
      "64\n"
     ]
    }
   ],
   "source": [
    "#task 16: to get an integer from the user\n",
    "# perform all the compound assignment operator on that integer\n",
    "num = int(input('enter a number'))\n",
    "num += 1\n",
    "num -= 1\n",
    "num *= 1\n",
    "num /= 2\n",
    "num %= 2\n",
    "\n",
    "print(num)"
   ]
  },
  {
   "cell_type": "code",
   "execution_count": 12,
   "metadata": {},
   "outputs": [
    {
     "name": "stdout",
     "output_type": "stream",
     "text": [
      "enter a number40\n",
      "80\n",
      "2\n"
     ]
    }
   ],
   "source": [
    "num = int(input('enter a number'))\n",
    "x = num + 1\n",
    "y = num - 1\n",
    "print(x+y)\n",
    "print(x-y)"
   ]
  },
  {
   "cell_type": "code",
   "execution_count": 21,
   "metadata": {},
   "outputs": [
    {
     "name": "stdout",
     "output_type": "stream",
     "text": [
      "A\n",
      "B \t C\n",
      "D \t E \t F\n",
      "G \t H \t I \t J\n",
      "K \t L \t M\n",
      "N \t O\n",
      "P\n"
     ]
    }
   ],
   "source": [
    "# task 17\n",
    "#write a program to show the display in this fashion\n",
    "print('A')\n",
    "print('B \\t C')\n",
    "print('D \\t E \\t F')\n",
    "print('G \\t H \\t I \\t J')\n",
    "print('K \\t L \\t M') \n",
    "print('N \\t O')\n",
    "print('P')\n",
    "\n"
   ]
  },
  {
   "cell_type": "code",
   "execution_count": 29,
   "metadata": {},
   "outputs": [
    {
     "name": "stdout",
     "output_type": "stream",
     "text": [
      "first record\n",
      "{'name': 'John', 'contact': '7689', 'age': '30', 'address': 'Montreal'}\n",
      "updated record\n",
      "{'name': 'Lal', 'contact': '7689', 'age': '30', 'address': 'Montreal'}\n"
     ]
    }
   ],
   "source": [
    "# task 18:\n",
    "#Write a program to store name, address, age, and contact in a dictionary\n",
    "#then update his/her contact number\n",
    "user_info = {'name': 'John',\n",
    "            'contact': '7689',\n",
    "            'age':'30',\n",
    "            'address':'Montreal'}\n",
    "print('first record')\n",
    "print(user_info)\n",
    "user_info.update({'name':'Lal'})\n",
    "print('updated record')\n",
    "print(user_info)"
   ]
  },
  {
   "cell_type": "code",
   "execution_count": 37,
   "metadata": {},
   "outputs": [
    {
     "name": "stdout",
     "output_type": "stream",
     "text": [
      "enter your nameraja\n",
      "enter your age32\n",
      "enter your addressmon\n",
      "enter your contact78\n",
      "first record\n",
      "{'name': 'raja', 'age': 32, 'address': 'mon', 'contact': '78'}\n",
      "enter a new namerhk\n",
      "updated record\n",
      "{'name': 'rhk', 'age': 32, 'address': 'mon', 'contact': '78'}\n"
     ]
    }
   ],
   "source": [
    "# complete the above task using user input\n",
    "user_info = {'name':input('enter your name'),\n",
    "            'age':int(input('enter your age')),\n",
    "            'address':input('enter your address'),\n",
    "             'contact':input('enter your contact')\n",
    "            }\n",
    "print('first record')\n",
    "print(user_info)\n",
    "user_info.update({'name': input('enter a new name')})\n",
    "print('updated record')\n",
    "print(user_info)"
   ]
  },
  {
   "cell_type": "code",
   "execution_count": 44,
   "metadata": {},
   "outputs": [
    {
     "name": "stdout",
     "output_type": "stream",
     "text": [
      "enter a number16\n",
      "enter a number12\n",
      "enter a number14\n",
      "the value of the equation is: 3808.0\n"
     ]
    }
   ],
   "source": [
    "# task 19: get 3 numbers from the user and put in the following equation.\n",
    "# a+b+ca/b(2a+3b)\n",
    "\n",
    "a= int(input('enter a number'))\n",
    "b= int(input('enter a number'))\n",
    "c= int(input('enter a number'))\n",
    "print('the value of the equation is: '+ str((a+b+c)*(a/b)*(2*a+3*b)))"
   ]
  },
  {
   "cell_type": "code",
   "execution_count": 56,
   "metadata": {},
   "outputs": [
    {
     "name": "stdout",
     "output_type": "stream",
     "text": [
      "enter a number to store in an array12\n",
      "enter a number to store in an array12\n",
      "enter a number to store in an array13\n",
      "enter a number to store in an array15\n",
      "enter a number to store in an array16\n",
      "68\n"
     ]
    }
   ],
   "source": [
    "#task 20: enter 5 values from user, store in an array, and then sum\n",
    "import array as arr\n",
    "a= arr.array('i',[])\n",
    "for i in range(5):\n",
    "    a.append(int(input('enter a number to store in an array')))\n",
    "for j in range(5):\n",
    "    a[j]\n",
    "print(sum(a))"
   ]
  },
  {
   "cell_type": "markdown",
   "metadata": {},
   "source": []
  }
 ],
 "metadata": {
  "kernelspec": {
   "display_name": "Python 3",
   "language": "python",
   "name": "python3"
  },
  "language_info": {
   "codemirror_mode": {
    "name": "ipython",
    "version": 3
   },
   "file_extension": ".py",
   "mimetype": "text/x-python",
   "name": "python",
   "nbconvert_exporter": "python",
   "pygments_lexer": "ipython3",
   "version": "3.8.5"
  }
 },
 "nbformat": 4,
 "nbformat_minor": 4
}
