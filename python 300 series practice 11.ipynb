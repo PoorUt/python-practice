{
 "cells": [
  {
   "cell_type": "code",
   "execution_count": 65,
   "metadata": {},
   "outputs": [
    {
     "name": "stdout",
     "output_type": "stream",
     "text": [
      "enter author nameer\n",
      "enter book namere\n",
      "enter author namewe\n",
      "enter book nameew\n",
      "enter author namesd\n",
      "enter book namess\n",
      "enter author namedd\n",
      "enter book namedd\n",
      "enter author nameff\n",
      "enter book namedd\n",
      "enter author nameffd\n",
      "enter book namess\n",
      "{'er': 're', 'we': 'ew', 'sd': 'ss', 'dd': 'dd', 'ff': 'dd', 'ffd': 'ss'}\n",
      "ffdss\n"
     ]
    }
   ],
   "source": [
    "#task 60: write a program to input 5 author names with their book names.Display last author with its book name\n",
    "\n",
    "#create an empty disctionary\n",
    "author_books = {}\n",
    "for i in range(6):\n",
    "    author_name = input('enter author name')\n",
    "    book_name = input('enter book name')\n",
    "    author_books[author_name] = book_name\n",
    "print(author_books)\n",
    "print(list(author_books.keys())[-1], end = \"\")\n",
    "print(list(author_books.values())[-1])\n",
    "    "
   ]
  },
  {
   "cell_type": "markdown",
   "metadata": {},
   "source": [
    "# lets practice some dictionary function"
   ]
  },
  {
   "cell_type": "code",
   "execution_count": 3,
   "metadata": {},
   "outputs": [
    {
     "name": "stdout",
     "output_type": "stream",
     "text": [
      "{'name': 'utkal', 'age': '32', 'city': 'montreal'}\n"
     ]
    }
   ],
   "source": [
    "students = {\"name\":\"utkal\", \"age\":'32', 'city':'montreal'}\n",
    "print(students)"
   ]
  },
  {
   "cell_type": "code",
   "execution_count": 6,
   "metadata": {},
   "outputs": [
    {
     "name": "stdout",
     "output_type": "stream",
     "text": [
      "{'name': 'raja', 'age': '32', 'city': 'montreal'}\n"
     ]
    }
   ],
   "source": [
    "students['name'] = 'raja'\n",
    "print(students)"
   ]
  },
  {
   "cell_type": "code",
   "execution_count": 9,
   "metadata": {},
   "outputs": [
    {
     "name": "stdout",
     "output_type": "stream",
     "text": [
      "{'name': 'bob', 'age': '32', 'city': 'montreal'}\n"
     ]
    }
   ],
   "source": [
    "students.update({'name':'bob'})\n",
    "print(students)"
   ]
  },
  {
   "cell_type": "code",
   "execution_count": 10,
   "metadata": {},
   "outputs": [
    {
     "name": "stdout",
     "output_type": "stream",
     "text": [
      "{'name': 'bob', 'age': '32', 'city': 'montreal', 'nick_name': 'raja'}\n"
     ]
    }
   ],
   "source": [
    "students['nick_name'] = 'raja'\n",
    "print(students)"
   ]
  },
  {
   "cell_type": "code",
   "execution_count": 11,
   "metadata": {},
   "outputs": [],
   "source": [
    "students.update({'car':'chevy'})"
   ]
  },
  {
   "cell_type": "code",
   "execution_count": 12,
   "metadata": {},
   "outputs": [
    {
     "name": "stdout",
     "output_type": "stream",
     "text": [
      "{'name': 'bob', 'age': '32', 'city': 'montreal', 'nick_name': 'raja', 'car': 'chevy'}\n"
     ]
    }
   ],
   "source": [
    "print(students)"
   ]
  },
  {
   "cell_type": "code",
   "execution_count": 13,
   "metadata": {},
   "outputs": [
    {
     "name": "stdout",
     "output_type": "stream",
     "text": [
      "{'name': 'bob', 'age': '32', 'city': 'montreal', 'nick_name': 'raja', 'car': 'chevy', 'courses': ['math', 'science']}\n"
     ]
    }
   ],
   "source": [
    "students.update({'courses':['math','science']})\n",
    "print(students)"
   ]
  },
  {
   "cell_type": "code",
   "execution_count": 19,
   "metadata": {},
   "outputs": [
    {
     "name": "stdout",
     "output_type": "stream",
     "text": [
      "{'name': 'bob', 'age': '32', 'city': 'montrealwest-west-west', 'nick_name': 'raja', 'car': 'chevy', 'courses': ['math', 'science']}\n"
     ]
    }
   ],
   "source": [
    "students['city']+='-west'\n",
    "print(students)"
   ]
  },
  {
   "cell_type": "code",
   "execution_count": 20,
   "metadata": {},
   "outputs": [
    {
     "name": "stdout",
     "output_type": "stream",
     "text": [
      "{'name': 'bob-kumar', 'age': '32', 'city': 'montrealwest-west-west', 'nick_name': 'raja', 'car': 'chevy', 'courses': ['math', 'science']}\n"
     ]
    }
   ],
   "source": [
    "students['name']+='-kumar'\n",
    "print(students)"
   ]
  },
  {
   "cell_type": "code",
   "execution_count": 22,
   "metadata": {},
   "outputs": [
    {
     "name": "stdout",
     "output_type": "stream",
     "text": [
      "{'name': 'utkal kumar', 'age': '32', 'city': 'montreal', 'nick_name': 'raja', 'car': 'chevy', 'courses': ['math', 'science']}\n"
     ]
    }
   ],
   "source": [
    "students['name'] = 'utkal kumar'\n",
    "students['city'] = 'montreal'\n",
    "print(students)"
   ]
  },
  {
   "cell_type": "code",
   "execution_count": 23,
   "metadata": {},
   "outputs": [
    {
     "name": "stdout",
     "output_type": "stream",
     "text": [
      "{'name': 'utkal kumar', 'age': 30, 'city': 'mumbai', 'nick_name': 'raja', 'car': 'chevy', 'courses': ['math', 'science']}\n"
     ]
    }
   ],
   "source": [
    "students.update({'city':'mumbai', 'age':30})\n",
    "print(students)"
   ]
  },
  {
   "cell_type": "code",
   "execution_count": 25,
   "metadata": {},
   "outputs": [
    {
     "name": "stdout",
     "output_type": "stream",
     "text": [
      "{'name': 'utkal kumar', 'age': 30, 'city': 'mumbai', 'nick_name': 'raja', 'car': 'chevy', 'courses': ['math', 'science', 'physics']}\n"
     ]
    }
   ],
   "source": [
    "students['courses'] += [ 'physics']\n",
    "print(students)"
   ]
  },
  {
   "cell_type": "markdown",
   "metadata": {},
   "source": [
    "# Lets see the append method"
   ]
  },
  {
   "cell_type": "code",
   "execution_count": 27,
   "metadata": {},
   "outputs": [
    {
     "ename": "NameError",
     "evalue": "name 'age' is not defined",
     "output_type": "error",
     "traceback": [
      "\u001b[1;31m---------------------------------------------------------------------------\u001b[0m",
      "\u001b[1;31mNameError\u001b[0m                                 Traceback (most recent call last)",
      "\u001b[1;32m<ipython-input-27-7bb52cbf7a63>\u001b[0m in \u001b[0;36m<module>\u001b[1;34m\u001b[0m\n\u001b[0;32m      1\u001b[0m \u001b[1;31m#The append method only works with list objects\u001b[0m\u001b[1;33m\u001b[0m\u001b[1;33m\u001b[0m\u001b[1;33m\u001b[0m\u001b[0m\n\u001b[1;32m----> 2\u001b[1;33m \u001b[0mstudents\u001b[0m\u001b[1;33m[\u001b[0m\u001b[0mage\u001b[0m\u001b[1;33m]\u001b[0m\u001b[1;33m.\u001b[0m\u001b[0mappend\u001b[0m \u001b[1;33m=\u001b[0m \u001b[1;36m32\u001b[0m\u001b[1;33m\u001b[0m\u001b[1;33m\u001b[0m\u001b[0m\n\u001b[0m\u001b[0;32m      3\u001b[0m \u001b[0mprint\u001b[0m\u001b[1;33m(\u001b[0m\u001b[0mstudents\u001b[0m\u001b[1;33m)\u001b[0m\u001b[1;33m\u001b[0m\u001b[1;33m\u001b[0m\u001b[0m\n",
      "\u001b[1;31mNameError\u001b[0m: name 'age' is not defined"
     ]
    }
   ],
   "source": [
    "#The append method only works with list objects\n",
    "students[age].append = 32\n",
    "print(students)"
   ]
  },
  {
   "cell_type": "code",
   "execution_count": 34,
   "metadata": {},
   "outputs": [
    {
     "name": "stdout",
     "output_type": "stream",
     "text": [
      "{'name': 'utkal kumar', 'age': 30, 'city': 'mumbai', 'nick_name': 'raja', 'car': 'chevy', 'courses': ['math', 'science', 'physics', 'chemistry', 'chemistry']}\n"
     ]
    }
   ],
   "source": [
    "students['courses'].append('chemistry')\n",
    "print(students)"
   ]
  },
  {
   "cell_type": "markdown",
   "metadata": {},
   "source": [
    "# use the extend method"
   ]
  },
  {
   "cell_type": "code",
   "execution_count": 35,
   "metadata": {},
   "outputs": [
    {
     "name": "stdout",
     "output_type": "stream",
     "text": [
      "{'name': 'utkal kumar', 'age': 30, 'city': 'mumbai', 'nick_name': 'raja', 'car': 'chevy', 'courses': ['math', 'science', 'physics', 'chemistry', 'chemistry', 'mil', 'geography']}\n"
     ]
    }
   ],
   "source": [
    "students['courses'].extend(['mil', 'geography'])\n",
    "print(students)"
   ]
  },
  {
   "cell_type": "code",
   "execution_count": 37,
   "metadata": {},
   "outputs": [],
   "source": [
    "##the extend method is useful only if we plan to add values to exisiting list items\n"
   ]
  },
  {
   "cell_type": "markdown",
   "metadata": {},
   "source": [
    "# lets make a nested dictionary"
   ]
  },
  {
   "cell_type": "code",
   "execution_count": 50,
   "metadata": {},
   "outputs": [
    {
     "name": "stdout",
     "output_type": "stream",
     "text": [
      "{'david': {'math': 70, 'physics': '75'}, 'mona': {'math': 68, 'physics': '80'}}\n",
      "68\n"
     ]
    }
   ],
   "source": [
    "d = {'david':{'math':70, 'physics':'75'},'mona':{'math':68, 'physics':'80'}}\n",
    "print(d)\n",
    "print(d['mona']['math'])"
   ]
  },
  {
   "cell_type": "code",
   "execution_count": 51,
   "metadata": {},
   "outputs": [],
   "source": [
    "d['david']['physics'] = 60"
   ]
  },
  {
   "cell_type": "code",
   "execution_count": 52,
   "metadata": {},
   "outputs": [
    {
     "name": "stdout",
     "output_type": "stream",
     "text": [
      "{'david': {'math': 70, 'physics': 60}, 'mona': {'math': 68, 'physics': '80'}}\n"
     ]
    }
   ],
   "source": [
    "print(d)"
   ]
  },
  {
   "cell_type": "code",
   "execution_count": 59,
   "metadata": {},
   "outputs": [
    {
     "name": "stdout",
     "output_type": "stream",
     "text": [
      "{'mona': {'math': 68, 'physics': '80'}}\n"
     ]
    }
   ],
   "source": [
    "d.pop('david')\n",
    "print(d)"
   ]
  },
  {
   "cell_type": "code",
   "execution_count": 60,
   "metadata": {},
   "outputs": [
    {
     "name": "stdout",
     "output_type": "stream",
     "text": [
      "{'name': 'utkal kumar', 'age': 30, 'nick_name': 'raja', 'car': 'chevy', 'courses': ['math', 'science', 'physics', 'chemistry', 'chemistry', 'mil', 'geography']}\n"
     ]
    }
   ],
   "source": [
    "students.pop('city')\n",
    "print(students)"
   ]
  },
  {
   "cell_type": "code",
   "execution_count": 61,
   "metadata": {},
   "outputs": [
    {
     "data": {
      "text/plain": [
       "{'math': 68, 'physics': '80'}"
      ]
     },
     "execution_count": 61,
     "metadata": {},
     "output_type": "execute_result"
    }
   ],
   "source": [
    "d.get('mona')"
   ]
  },
  {
   "cell_type": "code",
   "execution_count": 62,
   "metadata": {},
   "outputs": [
    {
     "name": "stdout",
     "output_type": "stream",
     "text": [
      "{}\n"
     ]
    }
   ],
   "source": [
    "d.clear()\n",
    "print(d)"
   ]
  },
  {
   "cell_type": "code",
   "execution_count": null,
   "metadata": {},
   "outputs": [],
   "source": []
  }
 ],
 "metadata": {
  "kernelspec": {
   "display_name": "Python 3",
   "language": "python",
   "name": "python3"
  },
  "language_info": {
   "codemirror_mode": {
    "name": "ipython",
    "version": 3
   },
   "file_extension": ".py",
   "mimetype": "text/x-python",
   "name": "python",
   "nbconvert_exporter": "python",
   "pygments_lexer": "ipython3",
   "version": "3.8.5"
  }
 },
 "nbformat": 4,
 "nbformat_minor": 4
}
