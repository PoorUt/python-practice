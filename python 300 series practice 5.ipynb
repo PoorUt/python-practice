{
 "cells": [
  {
   "cell_type": "code",
   "execution_count": 3,
   "metadata": {},
   "outputs": [
    {
     "name": "stdout",
     "output_type": "stream",
     "text": [
      "enter a number10\n",
      "enter a number11\n",
      "enter a number12\n",
      "enter a number34\n",
      "enter a number22\n",
      "34\n"
     ]
    }
   ],
   "source": [
    "import array as arr\n",
    "a=arr.array(\"i\",[])\n",
    "for i in range(5):\n",
    "    a.append(int(input('enter a number')))\n",
    "for j in range(5):\n",
    "    a[j]\n",
    "print(max(a))"
   ]
  },
  {
   "cell_type": "code",
   "execution_count": 7,
   "metadata": {},
   "outputs": [
    {
     "name": "stdout",
     "output_type": "stream",
     "text": [
      "enter a number1\n",
      "enter a number2\n",
      "enter a number3\n",
      "enter a number4\n",
      "enter a number5\n",
      "5\n"
     ]
    }
   ],
   "source": [
    "import array as arr\n",
    "a=arr.array('i',[])\n",
    "for i in range(5):\n",
    "    a.append(int(input('enter a number')))\n",
    "for j in range(5):\n",
    "    a[j]\n",
    "print(max(a))"
   ]
  },
  {
   "cell_type": "code",
   "execution_count": 8,
   "metadata": {},
   "outputs": [
    {
     "name": "stdout",
     "output_type": "stream",
     "text": [
      "enter number1\n",
      "enter number2\n",
      "enter number3\n",
      "enter number4\n",
      "enter number5\n",
      "enter number6\n",
      "6\n"
     ]
    }
   ],
   "source": [
    "# task 21: get 5 numbers from user in an array and then get the maximum of that number \n",
    "import array as arr\n",
    "a = arr.array('i', [])\n",
    "for i in range(6):\n",
    "    a.append(int(input('enter number')))\n",
    "for j in range(6):\n",
    "    a[j]\n",
    "print(max(a))"
   ]
  },
  {
   "cell_type": "code",
   "execution_count": 9,
   "metadata": {},
   "outputs": [
    {
     "name": "stdout",
     "output_type": "stream",
     "text": [
      "enter number2\n",
      "enter number34\n",
      "enter number12\n",
      "enter number43\n",
      "enter number1\n",
      "enter number6\n",
      "1\n"
     ]
    }
   ],
   "source": [
    "#task 21: assignment: with the previous code find the minimum.\n",
    "import array as arr\n",
    "a = arr.array('i', [])\n",
    "for i in range(6):\n",
    "    a.append(int(input('enter number')))\n",
    "for j in range(6):\n",
    "    a[j]\n",
    "print(min(a))"
   ]
  },
  {
   "cell_type": "code",
   "execution_count": 17,
   "metadata": {},
   "outputs": [
    {
     "name": "stdout",
     "output_type": "stream",
     "text": [
      "enter a characterr\n",
      "consonant\n"
     ]
    }
   ],
   "source": [
    "# task 22:write a code to check alpha charater. vowel or consonant?\n",
    "x = input('enter a character')\n",
    "y = ('a','e','i','o','u','A','E','I','O','U')\n",
    "if x in y:\n",
    "    print('vowel')\n",
    "else:\n",
    "    print('consonant')"
   ]
  },
  {
   "cell_type": "code",
   "execution_count": 24,
   "metadata": {},
   "outputs": [
    {
     "name": "stdout",
     "output_type": "stream",
     "text": [
      "enter a dayFriday\n",
      "its a holiday\n"
     ]
    }
   ],
   "source": [
    "# task 23: get name of the week and return holiday if the user enter sunday\n",
    "x = input('enter a day')\n",
    "y = ('Sunday', 'sunday','Friday', 'friday')\n",
    "if x in y:\n",
    "    print('its a holiday')\n",
    "else:\n",
    "    print('weekday')"
   ]
  },
  {
   "cell_type": "code",
   "execution_count": 32,
   "metadata": {},
   "outputs": [
    {
     "name": "stdout",
     "output_type": "stream",
     "text": [
      "enter a number12\n",
      "enter another number13\n",
      "enter the operator/\n",
      "0.9230769230769231\n"
     ]
    }
   ],
   "source": [
    "# task 24:write a code to get two numbers and operators to perform operation\n",
    "x = int(input('enter a number'))\n",
    "y = int(input('enter another number'))\n",
    "op = input('enter the operator')\n",
    "if op=='+':\n",
    "    print(x+y)\n",
    "if op=='-':\n",
    "    print(x-y)\n",
    "if op=='*':\n",
    "    print(x*y)\n",
    "if op=='/':\n",
    "    print(x/y)\n",
    "if op=='%':\n",
    "    print(x%y)\n",
    "if op=='//':\n",
    "    print(x//y)"
   ]
  },
  {
   "cell_type": "code",
   "execution_count": 35,
   "metadata": {},
   "outputs": [
    {
     "name": "stdout",
     "output_type": "stream",
     "text": [
      "enter a mark40\n",
      "pass\n"
     ]
    }
   ],
   "source": [
    "#task 25: Get student student marks. If marks is less than 40 then fail else pass.\n",
    "x = float(input('enter a mark'))\n",
    "if (x<40):\n",
    "    print('fail')\n",
    "else:\n",
    "    print('pass')\n"
   ]
  },
  {
   "cell_type": "code",
   "execution_count": 41,
   "metadata": {},
   "outputs": [
    {
     "name": "stdout",
     "output_type": "stream",
     "text": [
      "enter a namexyz\n",
      "not allowed\n"
     ]
    }
   ],
   "source": [
    "x = str(input('enter a name'))\n",
    "if (x=='xyz' or x=='XYZ'):\n",
    "    print('not allowed')\n",
    "else:\n",
    "    print('allowed')"
   ]
  },
  {
   "cell_type": "code",
   "execution_count": null,
   "metadata": {},
   "outputs": [],
   "source": []
  }
 ],
 "metadata": {
  "kernelspec": {
   "display_name": "Python 3",
   "language": "python",
   "name": "python3"
  },
  "language_info": {
   "codemirror_mode": {
    "name": "ipython",
    "version": 3
   },
   "file_extension": ".py",
   "mimetype": "text/x-python",
   "name": "python",
   "nbconvert_exporter": "python",
   "pygments_lexer": "ipython3",
   "version": "3.8.5"
  }
 },
 "nbformat": 4,
 "nbformat_minor": 4
}
