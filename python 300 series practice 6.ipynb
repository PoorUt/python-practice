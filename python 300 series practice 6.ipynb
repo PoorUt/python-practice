{
 "cells": [
  {
   "cell_type": "code",
   "execution_count": null,
   "metadata": {},
   "outputs": [],
   "source": [
    "#task 26: write a code to check if a number is even or odd."
   ]
  },
  {
   "cell_type": "code",
   "execution_count": 9,
   "metadata": {},
   "outputs": [
    {
     "name": "stdout",
     "output_type": "stream",
     "text": [
      "enter a number12\n",
      "x is an even number.\n"
     ]
    }
   ],
   "source": [
    "x = int(input('enter a number'))\n",
    "if x%2 == 0:\n",
    "    print('x is an even number.')\n",
    "else:\n",
    "    print('x is an odd number')"
   ]
  },
  {
   "cell_type": "code",
   "execution_count": 13,
   "metadata": {},
   "outputs": [
    {
     "name": "stdout",
     "output_type": "stream",
     "text": [
      "enter a number13\n",
      "x is an odd number\n",
      "the square of the number is  169\n"
     ]
    }
   ],
   "source": [
    "#write a code to check if a number is even or odd. and then find the square of that number\n",
    "x = int(input('enter a number'))\n",
    "y=0\n",
    "if x%2 == 0:\n",
    "    print('x is an even number.')\n",
    "    y = x*x\n",
    "    print('the square of the number is ',y)\n",
    "else:\n",
    "    print('x is an odd number')\n",
    "    y = x*x\n",
    "    print('the square of the number is ',y)"
   ]
  },
  {
   "cell_type": "code",
   "execution_count": 22,
   "metadata": {},
   "outputs": [
    {
     "name": "stdout",
     "output_type": "stream",
     "text": [
      "enter a year1200\n",
      "valid year\n",
      "Leap year\n"
     ]
    }
   ],
   "source": [
    "#task 27: check if a year is a leap year or not.\n",
    "x = str(input('enter a year'))\n",
    "if (len(x)>4):\n",
    "    print('not a valid year ')\n",
    "else:\n",
    "    print('valid year')\n",
    "    y= int(x)\n",
    "    if y%4==0:\n",
    "        print('Leap year')\n",
    "    else:\n",
    "        print('not a leap year')"
   ]
  },
  {
   "cell_type": "code",
   "execution_count": 74,
   "metadata": {},
   "outputs": [
    {
     "name": "stdout",
     "output_type": "stream",
     "text": [
      "enter a year2020\n",
      "enter a year2021\n",
      "enter a year2022\n",
      "enter a year230945\n",
      "year not valid\n",
      "2020 2021 2022 230945 "
     ]
    },
    {
     "ename": "IndexError",
     "evalue": "array index out of range",
     "output_type": "error",
     "traceback": [
      "\u001b[1;31m---------------------------------------------------------------------------\u001b[0m",
      "\u001b[1;31mIndexError\u001b[0m                                Traceback (most recent call last)",
      "\u001b[1;32m<ipython-input-74-aed362b41f9c>\u001b[0m in \u001b[0;36m<module>\u001b[1;34m\u001b[0m\n\u001b[0;32m      9\u001b[0m         \u001b[1;32mbreak\u001b[0m\u001b[1;33m\u001b[0m\u001b[1;33m\u001b[0m\u001b[0m\n\u001b[0;32m     10\u001b[0m \u001b[1;32mfor\u001b[0m \u001b[0mi\u001b[0m \u001b[1;32min\u001b[0m \u001b[0mrange\u001b[0m\u001b[1;33m(\u001b[0m\u001b[0mn\u001b[0m\u001b[1;33m)\u001b[0m\u001b[1;33m:\u001b[0m\u001b[1;33m\u001b[0m\u001b[1;33m\u001b[0m\u001b[0m\n\u001b[1;32m---> 11\u001b[1;33m     \u001b[0mprint\u001b[0m\u001b[1;33m(\u001b[0m\u001b[0my\u001b[0m\u001b[1;33m[\u001b[0m\u001b[0mi\u001b[0m\u001b[1;33m]\u001b[0m\u001b[1;33m,\u001b[0m \u001b[0mend\u001b[0m \u001b[1;33m=\u001b[0m \u001b[1;34m' '\u001b[0m\u001b[1;33m)\u001b[0m\u001b[1;33m\u001b[0m\u001b[1;33m\u001b[0m\u001b[0m\n\u001b[0m\u001b[0;32m     12\u001b[0m \u001b[1;32mfor\u001b[0m \u001b[0mi\u001b[0m \u001b[1;32min\u001b[0m \u001b[0mrange\u001b[0m\u001b[1;33m(\u001b[0m\u001b[0mn\u001b[0m\u001b[1;33m)\u001b[0m\u001b[1;33m:\u001b[0m\u001b[1;33m\u001b[0m\u001b[1;33m\u001b[0m\u001b[0m\n\u001b[0;32m     13\u001b[0m     \u001b[1;32mif\u001b[0m \u001b[1;33m(\u001b[0m\u001b[0my\u001b[0m\u001b[1;33m[\u001b[0m\u001b[0mi\u001b[0m\u001b[1;33m]\u001b[0m\u001b[1;33m%\u001b[0m\u001b[1;36m4\u001b[0m\u001b[1;33m)\u001b[0m\u001b[1;33m==\u001b[0m\u001b[1;36m0\u001b[0m\u001b[1;33m:\u001b[0m\u001b[1;33m\u001b[0m\u001b[1;33m\u001b[0m\u001b[0m\n",
      "\u001b[1;31mIndexError\u001b[0m: array index out of range"
     ]
    }
   ],
   "source": [
    "# get five years from the user and store it in an array. Then display the leap year.\n",
    "import array as arr\n",
    "y = arr.array('i',[])\n",
    "n = 5\n",
    "for i in range(n):\n",
    "    y.append(int(input('enter a year')))\n",
    "    if (len(str(y[i]))>4):\n",
    "        print ('year not valid')\n",
    "        break\n",
    "for i in range(n):\n",
    "    print(y[i], end = ' ')\n",
    "for i in range(n):\n",
    "    if (y[i]%4)==0:\n",
    "        print('\\n', y[i], 'is a leap year')\n",
    "    else:\n",
    "        pass\n",
    "\n"
   ]
  },
  {
   "cell_type": "code",
   "execution_count": 38,
   "metadata": {},
   "outputs": [
    {
     "name": "stdout",
     "output_type": "stream",
     "text": [
      "2  3  4  5  6  "
     ]
    }
   ],
   "source": [
    "#array practice\n",
    "import array as arr\n",
    "a = arr.array('i',[2,3,4,5,6])\n",
    "for i in range(5):\n",
    "    print(a[i], end = \"  \")"
   ]
  },
  {
   "cell_type": "code",
   "execution_count": 56,
   "metadata": {},
   "outputs": [
    {
     "name": "stdout",
     "output_type": "stream",
     "text": [
      "[1, 2, 3, 4, [3, 4, 5]]\n"
     ]
    }
   ],
   "source": [
    "#array practice append\n",
    "a = [1,2,3,4]\n",
    "m = [3,4,5]\n",
    "a.append(m)\n",
    "print(a)"
   ]
  },
  {
   "cell_type": "code",
   "execution_count": 58,
   "metadata": {},
   "outputs": [
    {
     "name": "stdout",
     "output_type": "stream",
     "text": [
      "enter the number of elements4\n",
      "enter a number12\n",
      "enter a number13\n",
      "enter a number14\n",
      "enter a number15\n",
      "12  13  14  15  "
     ]
    }
   ],
   "source": [
    "#array practice\n",
    "import array as arr\n",
    "a = arr.array('i', [])\n",
    "n = int(input('enter the number of elements'))\n",
    "for i in range(n):\n",
    "    a.append(int(input('enter a number')))\n",
    "for i in range (n):\n",
    "    print(a[i], end = '  ')"
   ]
  },
  {
   "cell_type": "code",
   "execution_count": 63,
   "metadata": {},
   "outputs": [
    {
     "name": "stdout",
     "output_type": "stream",
     "text": [
      "3 5\n"
     ]
    }
   ],
   "source": [
    "#array practice\n",
    "import array as arr\n",
    "a=arr.array('i', [])\n",
    "a.append(3)\n",
    "a.append(5)\n",
    "print(a[0], a[1])"
   ]
  },
  {
   "cell_type": "code",
   "execution_count": 79,
   "metadata": {},
   "outputs": [
    {
     "name": "stdout",
     "output_type": "stream",
     "text": [
      "enter a number4\n",
      "the square of the number is 64\n"
     ]
    }
   ],
   "source": [
    "# task 28: get a number from the user and get the square of that number\n",
    "\n",
    "x = int(input('enter a number'))\n",
    "y = x*x*x\n",
    "print('the square of the number is', y)"
   ]
  },
  {
   "cell_type": "code",
   "execution_count": 78,
   "metadata": {},
   "outputs": [
    {
     "name": "stdout",
     "output_type": "stream",
     "text": [
      "enter the number of inputs3\n",
      "enter a number10\n",
      "enter a number11\n",
      "enter a number12\n",
      "square of 10 is 100\n",
      "square of 11 is 121\n",
      "square of 12 is 144\n"
     ]
    }
   ],
   "source": [
    "# take multipl user inputs and display the square of each number\n",
    "\n",
    "import array as arr\n",
    "a = arr.array('i', [])\n",
    "n = int(input('enter the number of inputs'))\n",
    "for i in range(n):\n",
    "    a.append(int(input('enter a number')))\n",
    "for i in range(n):\n",
    "    y = (a[i]*a[i])\n",
    "    print('square of', a[i], 'is', y)"
   ]
  },
  {
   "cell_type": "code",
   "execution_count": 87,
   "metadata": {},
   "outputs": [
    {
     "name": "stdout",
     "output_type": "stream",
     "text": [
      "enter a number-4\n",
      "x is negative\n"
     ]
    }
   ],
   "source": [
    "# task 29:check if a number is positive, zero, or negative?\n",
    "\n",
    "x = float(input('enter a number'))\n",
    "if x>0:\n",
    "    print('x is positive')\n",
    "elif x==0:\n",
    "    print('x is equal to zero')\n",
    "else:\n",
    "    print('x is negative')"
   ]
  },
  {
   "cell_type": "code",
   "execution_count": 102,
   "metadata": {},
   "outputs": [
    {
     "name": "stdout",
     "output_type": "stream",
     "text": [
      "enter a number20\n",
      "the number is divisible by 2 but not by 3\n"
     ]
    }
   ],
   "source": [
    "#task 30: get a number from user and check if it is divisible by 2 and 3\n",
    "\n",
    "num = int(input('enter a number'))\n",
    "if ((num%2 == 0) and (num%3 ==0)):\n",
    "    print('the number is divisible by both 2 and 3')\n",
    "elif(((num%2 == 0) and (num%3 !=0))):\n",
    "    print('the number is divisible by 2 but not by 3')\n",
    "elif(((num%2 != 0) and (num%3 ==0))):\n",
    "    print('the number is divisible by 3 but not by 2')\n",
    "else:\n",
    "    print('the number is not divisible by either 3 or 2')\n",
    "    "
   ]
  },
  {
   "cell_type": "code",
   "execution_count": 108,
   "metadata": {},
   "outputs": [
    {
     "name": "stdout",
     "output_type": "stream",
     "text": [
      "enter student mark23\n",
      "the grade is F. The student failed. \n"
     ]
    }
   ],
   "source": [
    "#task 31: get student mark and check for grade(A+, A, A-, B, C)\n",
    "\n",
    "mark = float(input('enter student mark'))\n",
    "if mark>=90:\n",
    "    print('the grade is A+')\n",
    "elif mark>=85:\n",
    "    print('the grade is A')\n",
    "elif mark>=80:\n",
    "    print('the grade is A-')\n",
    "elif mark>=70:\n",
    "    print('the grade is B')\n",
    "elif mark>=60:\n",
    "    print('the grade is C')\n",
    "else:\n",
    "    print('the grade is F. The student failed. ')"
   ]
  },
  {
   "cell_type": "code",
   "execution_count": 122,
   "metadata": {},
   "outputs": [
    {
     "name": "stdout",
     "output_type": "stream",
     "text": [
      "enter the salary scale0\n",
      "invalid scale input. Please enter a value between 1 and 5\n"
     ]
    }
   ],
   "source": [
    "# lets say there are 5 salary scale. and then display the range of each scale.\n",
    "scale = int(input('enter the salary scale'))\n",
    "if scale not in range(1,6):\n",
    "    print('invalid scale input. Please enter a value between 1 and 5')\n",
    "if scale==1:\n",
    "    print('the salary is 10,000')\n",
    "if scale==2:\n",
    "    print('the salary is 20,000')\n",
    "if scale==3:\n",
    "    print('the salary is 30,000')\n",
    "if scale==4:\n",
    "    print('the salary is 40,000')\n",
    "if scale==5:\n",
    "    print('the salary is 50,000')"
   ]
  },
  {
   "cell_type": "code",
   "execution_count": 126,
   "metadata": {},
   "outputs": [
    {
     "name": "stdout",
     "output_type": "stream",
     "text": [
      "enter the first number12\n",
      "enter the second number13\n",
      "the largest number is:  13\n"
     ]
    }
   ],
   "source": [
    "#task 32: write a program to get two numbers from the user and then pass the number to a function to find the maximum.\n",
    "num1 = int(input('enter the first number'))\n",
    "num2 = int(input('enter the second number'))\n",
    "def max_num():\n",
    "    print('the largest number is: ', max(num1,num2))\n",
    "max_num()"
   ]
  },
  {
   "cell_type": "code",
   "execution_count": 129,
   "metadata": {},
   "outputs": [
    {
     "name": "stdout",
     "output_type": "stream",
     "text": [
      "enter the first number12\n",
      "enter the second number13\n",
      "the smallest number is:  12\n"
     ]
    }
   ],
   "source": [
    "num1 = int(input('enter the first number'))\n",
    "num2 = int(input('enter the second number'))\n",
    "def min_num(a, b):\n",
    "    print('the smallest number is: ', min(num1,num2))\n",
    "min_num(num1, num2)"
   ]
  },
  {
   "cell_type": "code",
   "execution_count": 130,
   "metadata": {},
   "outputs": [
    {
     "name": "stdout",
     "output_type": "stream",
     "text": [
      "8\n"
     ]
    }
   ],
   "source": [
    "#task 33 write a code to store name of the colour, in the list and count the number of  colours and display result to user.\n",
    "lst = ['red','grey','blue','pink','green', 'white','yellow','black']\n",
    "x = len(lst)\n",
    "print(x)"
   ]
  },
  {
   "cell_type": "code",
   "execution_count": 133,
   "metadata": {},
   "outputs": [
    {
     "name": "stdout",
     "output_type": "stream",
     "text": [
      "enter the number of colours you want3\n",
      "enter a colourred\n",
      "enter a colourwhite\n",
      "enter a colouryellow\n",
      "red white yellow "
     ]
    }
   ],
   "source": [
    "# do the above task with user input\n",
    "lst = []\n",
    "n = int(input('enter the number of colours you want'))\n",
    "for i in range(n):\n",
    "    lst.append(str(input('enter a colour')))\n",
    "for i in range(n):\n",
    "    print(lst[i], end = \" \")"
   ]
  },
  {
   "cell_type": "code",
   "execution_count": 134,
   "metadata": {},
   "outputs": [
    {
     "name": "stdout",
     "output_type": "stream",
     "text": [
      "enter the number of colours you want to enter3\n",
      "enter a colourred\n",
      "enter a colourwhite\n",
      "enter a colourgold\n",
      "red white gold "
     ]
    },
    {
     "ename": "TypeError",
     "evalue": "descriptor 'remove' for 'list' objects doesn't apply to a 'str' object",
     "output_type": "error",
     "traceback": [
      "\u001b[1;31m---------------------------------------------------------------------------\u001b[0m",
      "\u001b[1;31mTypeError\u001b[0m                                 Traceback (most recent call last)",
      "\u001b[1;32m<ipython-input-134-1be17bdded17>\u001b[0m in \u001b[0;36m<module>\u001b[1;34m\u001b[0m\n\u001b[0;32m      7\u001b[0m \u001b[1;32mfor\u001b[0m \u001b[0mi\u001b[0m \u001b[1;32min\u001b[0m \u001b[0mrange\u001b[0m\u001b[1;33m(\u001b[0m\u001b[0mn\u001b[0m\u001b[1;33m)\u001b[0m\u001b[1;33m:\u001b[0m\u001b[1;33m\u001b[0m\u001b[1;33m\u001b[0m\u001b[0m\n\u001b[0;32m      8\u001b[0m     \u001b[0mprint\u001b[0m\u001b[1;33m(\u001b[0m\u001b[0mlst\u001b[0m\u001b[1;33m[\u001b[0m\u001b[0mi\u001b[0m\u001b[1;33m]\u001b[0m\u001b[1;33m,\u001b[0m \u001b[0mend\u001b[0m \u001b[1;33m=\u001b[0m \u001b[1;34m' '\u001b[0m\u001b[1;33m)\u001b[0m\u001b[1;33m\u001b[0m\u001b[1;33m\u001b[0m\u001b[0m\n\u001b[1;32m----> 9\u001b[1;33m \u001b[0mlist\u001b[0m\u001b[1;33m.\u001b[0m\u001b[0mremove\u001b[0m\u001b[1;33m(\u001b[0m\u001b[0mlst\u001b[0m\u001b[1;33m[\u001b[0m\u001b[0mn\u001b[0m\u001b[1;33m-\u001b[0m\u001b[1;36m1\u001b[0m\u001b[1;33m]\u001b[0m\u001b[1;33m)\u001b[0m\u001b[1;33m\u001b[0m\u001b[1;33m\u001b[0m\u001b[0m\n\u001b[0m\u001b[0;32m     10\u001b[0m \u001b[0mprint\u001b[0m\u001b[1;33m(\u001b[0m\u001b[0mlst\u001b[0m\u001b[1;33m)\u001b[0m\u001b[1;33m\u001b[0m\u001b[1;33m\u001b[0m\u001b[0m\n",
      "\u001b[1;31mTypeError\u001b[0m: descriptor 'remove' for 'list' objects doesn't apply to a 'str' object"
     ]
    }
   ],
   "source": [
    "#task 34:insert 5 colour names from the user, display them, then remove the last colour, and then display the list\n",
    "\n",
    "lst = []\n",
    "n = int(input('enter the number of colours you want to enter'))\n",
    "for i in range(n):\n",
    "    lst.append(str(input('enter a colour')))\n",
    "for i in range(n):\n",
    "    print(lst[i], end = ' ')\n",
    "list.remove(lst[n-1])\n",
    "print(lst)"
   ]
  },
  {
   "cell_type": "code",
   "execution_count": 137,
   "metadata": {},
   "outputs": [
    {
     "name": "stdout",
     "output_type": "stream",
     "text": [
      "enter the number of colours you want to enter3\n",
      "enter a colourred\n",
      "enter a colourwhite\n",
      "enter a colourgreen\n",
      "['red', 'white', 'green']\n",
      "['red', 'white']\n"
     ]
    }
   ],
   "source": [
    "lst = []\n",
    "n = int(input('enter the number of colours you want to enter'))\n",
    "for i in range(n):\n",
    "    lst.append(str(input('enter a colour')))\n",
    "print(lst)\n",
    "element = lst[n-1]\n",
    "lst.remove(element)\n",
    "print(lst)"
   ]
  },
  {
   "cell_type": "code",
   "execution_count": 140,
   "metadata": {},
   "outputs": [
    {
     "name": "stdout",
     "output_type": "stream",
     "text": [
      "enter the number of colours you want3\n",
      "enter a colourred\n",
      "enter a colourwhite\n",
      "enter a colourgreen\n",
      "['red', 'white', 'green']\n",
      "['white', 'green']\n"
     ]
    }
   ],
   "source": [
    "# write a code to enter 5 user define colours, then display them, then remove the first entry and then display them\n",
    "lst = []\n",
    "n = int(input('enter the number of colours you want'))\n",
    "for i in range(n):\n",
    "    lst.append(str(input('enter a colour')))\n",
    "print(lst)\n",
    "lst.remove(lst[0])\n",
    "print(lst)"
   ]
  },
  {
   "cell_type": "code",
   "execution_count": 146,
   "metadata": {},
   "outputs": [
    {
     "name": "stdout",
     "output_type": "stream",
     "text": [
      "enter a student namerf\n",
      "enter a student nameed\n",
      "enter a student namerrgt\n",
      "enter a student namerd\n",
      "enter a student nameerf\n",
      "enter a student namesd\n",
      "enter a student nameef\n",
      "enter a student namertg\n",
      "enter a student nameff\n",
      "enter a student namee\n",
      "['e', 'ed', 'ef', 'erf', 'ff', 'rd', 'rf', 'rrgt', 'rtg', 'sd']\n"
     ]
    }
   ],
   "source": [
    "# task 35, get 10 student names in a list and then display that list in alphabetic order descending/ascending\n",
    "lst = []\n",
    "for i in range(10):\n",
    "    lst.append(str(input('enter a student name')))\n",
    "\n",
    "lst.sort()\n",
    "print(lst)"
   ]
  },
  {
   "cell_type": "code",
   "execution_count": null,
   "metadata": {},
   "outputs": [],
   "source": []
  }
 ],
 "metadata": {
  "kernelspec": {
   "display_name": "Python 3",
   "language": "python",
   "name": "python3"
  },
  "language_info": {
   "codemirror_mode": {
    "name": "ipython",
    "version": 3
   },
   "file_extension": ".py",
   "mimetype": "text/x-python",
   "name": "python",
   "nbconvert_exporter": "python",
   "pygments_lexer": "ipython3",
   "version": "3.8.5"
  }
 },
 "nbformat": 4,
 "nbformat_minor": 4
}
