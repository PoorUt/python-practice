{
 "cells": [
  {
   "cell_type": "code",
   "execution_count": 6,
   "metadata": {},
   "outputs": [
    {
     "name": "stdout",
     "output_type": "stream",
     "text": [
      "enter the name of a studented\n",
      "enter the name of a studentsw\n",
      "enter the name of a studentaw\n",
      "enter the name of a studentas\n",
      "enter the name of a studentax\n",
      "enter the name of a studentaq\n",
      "enter the name of a studentsd\n",
      "enter the name of a studentre\n",
      "enter the name of a studentdse\n",
      "enter the name of a studentfdc\n",
      "the original list is:  ['aq', 'as', 'aw', 'ax', 'dse', 'ed', 'fdc', 're', 'sd', 'sw']\n",
      "the final list is:  ['as', 'aw', 'ax', 'dse', 'ed', 'fdc', 're', 'sd']\n"
     ]
    }
   ],
   "source": [
    "# get 10 student names from user, then display them by arranging alphabetically, \n",
    "#then remove first and last name and then diplay\n",
    "\n",
    "lst = []\n",
    "for i in range(10):\n",
    "    lst.append(str(input('enter the name of a student')))\n",
    "lst.sort()\n",
    "print('the original list is: ', lst)\n",
    "lst.remove(lst[0])\n",
    "lst.pop()\n",
    "print('the final list is: ', lst)\n"
   ]
  },
  {
   "cell_type": "code",
   "execution_count": 9,
   "metadata": {},
   "outputs": [
    {
     "name": "stdout",
     "output_type": "stream",
     "text": [
      "enter a sentenceRaja Is a PoOR Guy\n",
      "RAJA IS A POOR GUY\n",
      "Raja is a poor guy\n",
      "raja is a poor guy\n"
     ]
    }
   ],
   "source": [
    "#task 36: write a code to get a sentence from a user and make it capitalize\n",
    "\n",
    "sen = str(input('enter a sentence'))\n",
    "print(sen.upper())\n",
    "print(sen.capitalize())\n",
    "print(sen.lower())"
   ]
  },
  {
   "cell_type": "code",
   "execution_count": 10,
   "metadata": {},
   "outputs": [
    {
     "name": "stdout",
     "output_type": "stream",
     "text": [
      "enter a number12\n",
      "1728\n"
     ]
    }
   ],
   "source": [
    "#task 37: get a user input int and display the cube of that number\n",
    "\n",
    "num = int(input('enter a number'))\n",
    "y = num*num*num\n",
    "print(y)"
   ]
  },
  {
   "cell_type": "code",
   "execution_count": 14,
   "metadata": {},
   "outputs": [
    {
     "name": "stdout",
     "output_type": "stream",
     "text": [
      "enter a number: 1\n",
      "enter a number: 2\n",
      "enter a number: 3\n",
      "enter a number: 4\n",
      "enter a number: 5\n",
      "enter a number: 6\n",
      "the list is:  [1, 2, 3, 4, 5, 6]\n",
      "1\n",
      "4\n",
      "9\n",
      "64\n",
      "125\n",
      "216\n"
     ]
    }
   ],
   "source": [
    "# write a code to get 6 inputs from the user and then find the cube of first three and then the square of the last three.\n",
    "lst = []\n",
    "n = 6\n",
    "for i in range(n):\n",
    "    lst.append(int(input('enter a number: ')))\n",
    "print('the list is: ', lst)\n",
    "for i in range(n):\n",
    "    if i <(n/2):\n",
    "        print(lst[i]*lst[i])\n",
    "    else:\n",
    "        print(lst[i]*lst[i]*lst[i])"
   ]
  },
  {
   "cell_type": "code",
   "execution_count": 18,
   "metadata": {},
   "outputs": [
    {
     "name": "stdout",
     "output_type": "stream",
     "text": [
      "enter your angle in radian: 3\n",
      "your angle in degrees is :  171.88733853924697\n"
     ]
    }
   ],
   "source": [
    "#task 38:write a python code to convert radian to degree\n",
    "import math\n",
    "rad = float(input('enter your angle in radian: '))\n",
    "deg = math.degrees(rad)\n",
    "print('your angle in degrees is : ', deg)"
   ]
  },
  {
   "cell_type": "code",
   "execution_count": 21,
   "metadata": {},
   "outputs": [
    {
     "name": "stdout",
     "output_type": "stream",
     "text": [
      "enter the value of an angle in degree45\n",
      "0.7853981633974483\n"
     ]
    }
   ],
   "source": [
    "# convert degree to radian\n",
    "deg = float(input('enter the value of an angle in degree'))\n",
    "rad = math.radians(deg)\n",
    "print(rad)"
   ]
  },
  {
   "cell_type": "code",
   "execution_count": 23,
   "metadata": {},
   "outputs": [
    {
     "name": "stdout",
     "output_type": "stream",
     "text": [
      "enter a number: 12\n",
      "enter a number: 13\n",
      "enter a number: 2\n",
      "enter a number: 3\n",
      "enter a number: 4\n",
      "[12, 13, 2, 3, 4]\n",
      "addition is :  34\n",
      "multiplication is :  3744\n"
     ]
    }
   ],
   "source": [
    "#task 39: get 5 user inputs, store in a list, pass that list in a function to multiply and \n",
    "# add those numbers and diplay total results\n",
    "lst = []\n",
    "for i in range(5):\n",
    "    lst.append(int(input('enter a number: ')))\n",
    "print(lst)\n",
    "def mult(name):\n",
    "    s=0\n",
    "    m=1\n",
    "    for i in name:\n",
    "        s+=i\n",
    "        m*=i\n",
    "    print('addition is : ', s)\n",
    "    print('multiplication is : ', m)\n",
    "mult(lst)\n",
    "    "
   ]
  },
  {
   "cell_type": "code",
   "execution_count": 30,
   "metadata": {},
   "outputs": [
    {
     "name": "stdout",
     "output_type": "stream",
     "text": [
      "enter the user name: 2345%\n",
      "user name not alphanumeric\n"
     ]
    }
   ],
   "source": [
    "#task 40 get a user name, then pass that user name to a function to diplay that user name. Username should be alphanumeric\n",
    "name = str(input('enter the user name: '))\n",
    "if name.isalnum():\n",
    "    def func_name(x):\n",
    "        print(x)\n",
    "    func_name(name)\n",
    "else:\n",
    "    print('user name not alphanumeric')\n",
    "\n"
   ]
  },
  {
   "cell_type": "code",
   "execution_count": 40,
   "metadata": {},
   "outputs": [
    {
     "name": "stdout",
     "output_type": "stream",
     "text": [
      "enter a username: dygtgdkneiu57276t6\n",
      "user name is alphanumeric\n",
      "user name valid\n"
     ]
    }
   ],
   "source": [
    "# write a code to get user name and make sure username is alpha numeric\n",
    "#username length shoudldnt be less than 8\n",
    "\n",
    "name = str(input('enter a username: '))\n",
    "if name.isalnum():\n",
    "    print('user name is alphanumeric')\n",
    "else:\n",
    "    print('username is not alpha numeric')\n",
    "if len(name)<8:\n",
    "    print('username not valid')\n",
    "else:\n",
    "    print('user name valid')\n"
   ]
  },
  {
   "cell_type": "code",
   "execution_count": 42,
   "metadata": {},
   "outputs": [
    {
     "name": "stdout",
     "output_type": "stream",
     "text": [
      "enter that value of the angle45\n",
      "sin(x) =  0.8509035245341184\n",
      "cos(x) =  0.5253219888177297\n"
     ]
    }
   ],
   "source": [
    "# task 41: code to get an angle from user and then find sin and cos.\n",
    "import math\n",
    "x = int(input('enter that value of the angle'))\n",
    "print('sin(x) = ',math.sin(x))\n",
    "print('cos(x) = ',math.cos(x))"
   ]
  },
  {
   "cell_type": "code",
   "execution_count": 57,
   "metadata": {},
   "outputs": [
    {
     "name": "stdout",
     "output_type": "stream",
     "text": [
      "Number\t\tsquare\t\tcube\t\taddition\n",
      "0 \t\t  0 \t\t  0 \t\t  0\n",
      "1 \t\t  1 \t\t  1 \t\t  2\n",
      "2 \t\t  4 \t\t  8 \t\t  12\n",
      "3 \t\t  9 \t\t  27 \t\t  36\n",
      "4 \t\t  16 \t\t  64 \t\t  80\n",
      "5 \t\t  25 \t\t  125 \t\t  150\n",
      "6 \t\t  36 \t\t  216 \t\t  252\n",
      "7 \t\t  49 \t\t  343 \t\t  392\n",
      "8 \t\t  64 \t\t  512 \t\t  576\n",
      "9 \t\t  81 \t\t  729 \t\t  810\n",
      "10 \t\t  100 \t\t  1000 \t\t  1100\n"
     ]
    }
   ],
   "source": [
    "# task 42: to generate 1 to 10 number with their square, cube, their addition (square+cube)\n",
    "print('Number\\t\\tsquare\\t\\tcube\\t\\taddition')\n",
    "for i in range(11):\n",
    "    print(i, '\\t\\t', end = \"  \")\n",
    "    print(i*i,'\\t\\t', end = \"  \")\n",
    "    print(i*i*i,'\\t\\t', end = \"  \")\n",
    "    print((i*i)+(i*i*i))"
   ]
  },
  {
   "cell_type": "code",
   "execution_count": 59,
   "metadata": {},
   "outputs": [
    {
     "name": "stdout",
     "output_type": "stream",
     "text": [
      "Number\t\tsquare\t\tcube\t\taddition\n",
      "0 \t\t  0 \t\t  0 \t\t  0\n",
      "1 \t\t  1 \t\t  1 \t\t  2\n",
      "2 \t\t  4 \t\t  8 \t\t  12\n",
      "3 \t\t  9 \t\t  27 \t\t  36\n",
      "4 \t\t  16 \t\t  64 \t\t  80\n",
      "5 \t\t  25 \t\t  125 \t\t  150\n",
      "6 \t\t  36 \t\t  216 \t\t  252\n",
      "7 \t\t  49 \t\t  343 \t\t  392\n",
      "8 \t\t  64 \t\t  512 \t\t  576\n",
      "9 \t\t  81 \t\t  729 \t\t  810\n",
      "10 \t\t  100 \t\t  1000 \t\t  1100\n"
     ]
    }
   ],
   "source": [
    "print('Number\\t\\tsquare\\t\\tcube\\t\\taddition')\n",
    "for i in range(11):\n",
    "    print(i, \"\\t\\t\", end=\"  \")\n",
    "    x = i*i\n",
    "    y=i*i*i\n",
    "    print(x,\"\\t\\t\", end=\"  \")\n",
    "    print(y,\"\\t\\t\", end=\"  \")\n",
    "    print(x+y)"
   ]
  },
  {
   "cell_type": "code",
   "execution_count": 72,
   "metadata": {},
   "outputs": [
    {
     "name": "stdout",
     "output_type": "stream",
     "text": [
      "Number\t\tsquare\t\tcube\t\taddition\n",
      "8 \t\t  64 \t\t  512 \t\t  576\n",
      "4 \t\t  16 \t\t  64 \t\t  80\n",
      "0 \t\t  0 \t\t  0 \t\t  0\n"
     ]
    }
   ],
   "source": [
    "# write a code to generate number in reverse (10, to 1 with 4 difference). generate their square, cube and sq+cube\n",
    "o_range = range(0,12,4)\n",
    "reversed_range = reversed(o_range)\n",
    "print('Number\\t\\tsquare\\t\\tcube\\t\\taddition')\n",
    "for i in reversed_range:\n",
    "    print(i, '\\t\\t', end = \"  \")\n",
    "    x = i*i\n",
    "    y=i*i*i\n",
    "    print(x,\"\\t\\t\", end=\"  \")\n",
    "    print(y,\"\\t\\t\", end=\"  \")\n",
    "    print(x+y)"
   ]
  },
  {
   "cell_type": "code",
   "execution_count": null,
   "metadata": {},
   "outputs": [],
   "source": [
    "# task 43:"
   ]
  }
 ],
 "metadata": {
  "kernelspec": {
   "display_name": "Python 3",
   "language": "python",
   "name": "python3"
  },
  "language_info": {
   "codemirror_mode": {
    "name": "ipython",
    "version": 3
   },
   "file_extension": ".py",
   "mimetype": "text/x-python",
   "name": "python",
   "nbconvert_exporter": "python",
   "pygments_lexer": "ipython3",
   "version": "3.8.5"
  }
 },
 "nbformat": 4,
 "nbformat_minor": 4
}
